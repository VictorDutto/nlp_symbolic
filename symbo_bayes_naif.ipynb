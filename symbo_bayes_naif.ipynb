{
 "cells": [
  {
   "cell_type": "code",
   "execution_count": 1,
   "id": "2feebbf5",
   "metadata": {},
   "outputs": [],
   "source": [
    "import keras.datasets.imdb"
   ]
  },
  {
   "cell_type": "code",
   "execution_count": 2,
   "id": "2e13b01b",
   "metadata": {},
   "outputs": [],
   "source": [
    "(x_train, y_train), (x_test, y_test) = keras.datasets.imdb.load_data(\n",
    "    path=\"imdb.npz\",\n",
    "    num_words=None,\n",
    "    skip_top=0,\n",
    "    maxlen=None,\n",
    "    seed=113,\n",
    "    start_char=1,\n",
    "    oov_char=2,\n",
    "    index_from=3\n",
    ")"
   ]
  },
  {
   "cell_type": "code",
   "execution_count": 3,
   "id": "b673bd4e",
   "metadata": {},
   "outputs": [
    {
     "name": "stdout",
     "output_type": "stream",
     "text": [
      "the as you with out themselves powerful lets loves their becomes reaching had journalist of lot from anyone to have after out atmosphere never more room titillate it so heart shows to years of every never going villaronga help moments or of every chest visual movie except her was several of enough more with is now current film as you of mine potentially unfortunately of you than him that with out themselves her get for was camp of you movie sometimes movie that with scary but pratfalls to story wonderful that in seeing in character to of 70s musicians with heart had shadows they of here that with her serious to have does when from why what have critics they is you that isn't one will very to as itself with other tricky in of seen over landed for anyone of gilmore's br show's to whether from than out themselves history he name half some br of 'n odd was two most of mean for 1 any an boat she he should is thought frog but of script you not while history he heart to real at barrel but when from one bit then have two of script their with her nobody most that with wasn't to with armed acting watch an for with heartfelt film want an\n"
     ]
    }
   ],
   "source": [
    "word_index = keras.datasets.imdb.get_word_index()\n",
    "inverted_word_index = dict((i, word) for (word, i) in word_index.items())\n",
    "decoded_sequence = \" \".join(inverted_word_index[i] for i in x_train[0])\n",
    "\n",
    "print(decoded_sequence)"
   ]
  },
  {
   "cell_type": "code",
   "execution_count": 4,
   "id": "1c707896",
   "metadata": {},
   "outputs": [
    {
     "name": "stdout",
     "output_type": "stream",
     "text": [
      "<class 'dict_values'>\n",
      "<class 'list'>\n"
     ]
    }
   ],
   "source": [
    "print(type(word_index.values()))\n",
    "print(type(list(word_index.values())))"
   ]
  },
  {
   "cell_type": "code",
   "execution_count": 5,
   "id": "0aa69312",
   "metadata": {},
   "outputs": [
    {
     "data": {
      "text/plain": [
       "\"the as you with out themselves powerful lets loves their becomes reaching had journalist of lot from anyone to have after out atmosphere never more room titillate it so heart shows to years of every never going villaronga help moments or of every chest visual movie except her was several of enough more with is now current film as you of mine potentially unfortunately of you than him that with out themselves her get for was camp of you movie sometimes movie that with scary but pratfalls to story wonderful that in seeing in character to of 70s musicians with heart had shadows they of here that with her serious to have does when from why what have critics they is you that isn't one will very to as itself with other tricky in of seen over landed for anyone of gilmore's br show's to whether from than out themselves history he name half some br of 'n odd was two most of mean for 1 any an boat she he should is thought frog but of script you not while history he heart to real at barrel but when from one bit then have two of script their with her nobody most that with wasn't to with armed acting watch an for with heartfelt film want an\""
      ]
     },
     "execution_count": 5,
     "metadata": {},
     "output_type": "execute_result"
    }
   ],
   "source": [
    "#visualisation de l'equivalent dans le vocabulaire\n",
    "decoded_sequence"
   ]
  },
  {
   "cell_type": "code",
   "execution_count": 6,
   "id": "e8550e6b",
   "metadata": {},
   "outputs": [
    {
     "name": "stdout",
     "output_type": "stream",
     "text": [
      "<class 'numpy.ndarray'>\n"
     ]
    },
    {
     "data": {
      "text/plain": [
       "(25000,)"
      ]
     },
     "execution_count": 6,
     "metadata": {},
     "output_type": "execute_result"
    }
   ],
   "source": [
    "import numpy as np\n",
    "\n",
    "# utilisation de numpy pour verifier que la separation des jeux a ete correctement effectue\n",
    "\n",
    "print(type(x_train))\n",
    "np.array(x_train).shape"
   ]
  },
  {
   "cell_type": "code",
   "execution_count": 7,
   "id": "369102e3",
   "metadata": {},
   "outputs": [],
   "source": [
    "def get_total_length(x_train):\n",
    "    res = 0\n",
    "    for l in x_train:\n",
    "        res += len(l)\n",
    "    return res"
   ]
  },
  {
   "cell_type": "code",
   "execution_count": 25,
   "id": "be27a5ee",
   "metadata": {},
   "outputs": [],
   "source": [
    "import math\n",
    "from tqdm import tqdm\n",
    "\n",
    "def naive_bayes_classifier_train(x_train, y_train):\n",
    "    \"\"\"\n",
    "    Classificateur Bayesien naif\n",
    "    Inputs: le trainset du dataset imdb\n",
    "    Output: TODO\n",
    "    \"\"\"\n",
    "    # tuple valeur/etiquette dans chaque element de imbd\n",
    "    ndoc = len(x_train)\n",
    "    nbclasses = len(np.unique(y_train))\n",
    "    logprior = np.zeros(nbclasses)\n",
    "    bigdoc = [[]] * nbclasses\n",
    "    voca = list(keras.datasets.imdb.get_word_index().values())\n",
    "    loglikelyhood = np.ndarray((len(voca), nbclasses))\n",
    "    for c in range(nbclasses):\n",
    "        # array numpy, donc masque\n",
    "        c_class_train = x_train[y_train == c]\n",
    "        nc = len(c_class_train)\n",
    "        logprior[c] = math.log(nc / ndoc)\n",
    "        #recuperation des cles sous formes numerisees\n",
    "        occu_voca = np.zeros(len(voca))\n",
    "        for docu in tqdm(c_class_train):\n",
    "            occu_voca = np.add(occu_voca, np.histogram(docu, bins=np.arange(len(voca) + 1))[0])\n",
    "        nb_word_total  = get_total_length(c_class_train)\n",
    "        for index in tqdm(range(len(voca))):\n",
    "            value = math.log((occu_voca[index] + 1) /\n",
    "                                      (nb_word_total + 1))\n",
    "            loglikelyhood[index, c] = value\n",
    "    return logprior, loglikelyhood, voca"
   ]
  },
  {
   "cell_type": "code",
   "execution_count": 26,
   "id": "a274d73d",
   "metadata": {},
   "outputs": [
    {
     "name": "stderr",
     "output_type": "stream",
     "text": [
      "100%|██████████| 12500/12500 [00:08<00:00, 1437.46it/s]\n",
      "100%|██████████| 88584/88584 [00:00<00:00, 947742.49it/s]\n",
      "100%|██████████| 12500/12500 [00:10<00:00, 1219.94it/s]\n",
      "100%|██████████| 88584/88584 [00:00<00:00, 933850.32it/s]\n"
     ]
    }
   ],
   "source": [
    "(logprio, loglikelyhood, voca) = naive_bayes_classifier_train(x_train, y_train)"
   ]
  },
  {
   "cell_type": "code",
   "execution_count": 30,
   "id": "6bdb1d88",
   "metadata": {},
   "outputs": [
    {
     "name": "stdout",
     "output_type": "stream",
     "text": [
      "[-0.69314718 -0.69314718]\n",
      "(88584, 2)\n",
      "-6.469691345349342 -6.855977921741726\n"
     ]
    }
   ],
   "source": [
    "print(logprio)\n",
    "print(loglikelyhood.shape)\n",
    "print(loglikelyhood[100, 0], loglikelyhood[100, 1])"
   ]
  },
  {
   "cell_type": "code",
   "execution_count": null,
   "id": "5b8a2553",
   "metadata": {},
   "outputs": [],
   "source": []
  }
 ],
 "metadata": {
  "kernelspec": {
   "display_name": "Python 3",
   "language": "python",
   "name": "python3"
  },
  "language_info": {
   "codemirror_mode": {
    "name": "ipython",
    "version": 3
   },
   "file_extension": ".py",
   "mimetype": "text/x-python",
   "name": "python",
   "nbconvert_exporter": "python",
   "pygments_lexer": "ipython3",
   "version": "3.8.10"
  }
 },
 "nbformat": 4,
 "nbformat_minor": 5
}
