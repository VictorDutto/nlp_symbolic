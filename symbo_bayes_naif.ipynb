{
 "cells": [
  {
   "cell_type": "code",
   "execution_count": 1,
   "id": "2feebbf5",
   "metadata": {},
   "outputs": [],
   "source": [
    "import keras.datasets.imdb"
   ]
  },
  {
   "cell_type": "code",
   "execution_count": 2,
   "id": "2e13b01b",
   "metadata": {},
   "outputs": [],
   "source": [
    "(x_train, y_train), (x_test, y_test) = keras.datasets.imdb.load_data(\n",
    "    path=\"imdb.npz\",\n",
    "    num_words=None,\n",
    "    skip_top=0,\n",
    "    maxlen=None,\n",
    "    seed=113,\n",
    "    start_char=1,\n",
    "    oov_char=2,\n",
    "    index_from=3\n",
    ")"
   ]
  },
  {
   "cell_type": "code",
   "execution_count": 69,
   "id": "b673bd4e",
   "metadata": {},
   "outputs": [
    {
     "data": {
      "text/plain": [
       "\"the as you with out themselves powerful lets loves their becomes reaching had journalist of lot from anyone to have after out atmosphere never more room titillate it so heart shows to years of every never going villaronga help moments or of every chest visual movie except her was several of enough more with is now current film as you of mine potentially unfortunately of you than him that with out themselves her get for was camp of you movie sometimes movie that with scary but pratfalls to story wonderful that in seeing in character to of 70s musicians with heart had shadows they of here that with her serious to have does when from why what have critics they is you that isn't one will very to as itself with other tricky in of seen over landed for anyone of gilmore's br show's to whether from than out themselves history he name half some br of 'n odd was two most of mean for 1 any an boat she he should is thought frog but of script you not while history he heart to real at barrel but when from one bit then have two of script their with her nobody most that with wasn't to with armed acting watch an for with heartfelt film want an\""
      ]
     },
     "execution_count": 69,
     "metadata": {},
     "output_type": "execute_result"
    }
   ],
   "source": [
    "def decode_sentence(review):\n",
    "    word_index = keras.datasets.imdb.get_word_index()\n",
    "    inverted_word_index = dict((i, word) for (word, i) in word_index.items())\n",
    "    decoded_sequence = \" \".join(inverted_word_index[i] for i in review)\n",
    "    return decoded_sequence\n",
    "\n",
    "decode_sentence(x_train[0])"
   ]
  },
  {
   "cell_type": "code",
   "execution_count": 30,
   "id": "1c707896",
   "metadata": {},
   "outputs": [
    {
     "name": "stdout",
     "output_type": "stream",
     "text": [
      "<class 'dict_values'>\n",
      "<class 'list'>\n"
     ]
    }
   ],
   "source": [
    "print(type(word_index.values()))\n",
    "print(type(list(word_index.values())))"
   ]
  },
  {
   "cell_type": "code",
   "execution_count": 6,
   "id": "e8550e6b",
   "metadata": {},
   "outputs": [
    {
     "name": "stdout",
     "output_type": "stream",
     "text": [
      "<class 'numpy.ndarray'>\n"
     ]
    },
    {
     "data": {
      "text/plain": [
       "(25000,)"
      ]
     },
     "execution_count": 6,
     "metadata": {},
     "output_type": "execute_result"
    }
   ],
   "source": [
    "import numpy as np\n",
    "\n",
    "# utilisation de numpy pour verifier que la separation des jeux a ete correctement effectue\n",
    "\n",
    "print(type(x_train))\n",
    "np.array(x_train).shape"
   ]
  },
  {
   "cell_type": "code",
   "execution_count": 7,
   "id": "369102e3",
   "metadata": {},
   "outputs": [],
   "source": [
    "def get_total_length(x_train):\n",
    "    res = 0\n",
    "    for l in x_train:\n",
    "        res += len(l)\n",
    "    return res"
   ]
  },
  {
   "cell_type": "code",
   "execution_count": 20,
   "id": "d2f53b94-3e70-4d0d-a6b9-c11a0dcb5fce",
   "metadata": {},
   "outputs": [],
   "source": [
    "import math\n",
    "from tqdm import tqdm\n",
    "\n",
    "def naive_bayes_classifier_train(X, y):\n",
    "    \"\"\"\n",
    "    Classificateur Bayesien naif\n",
    "    Inputs: le trainset du dataset imdb\n",
    "    Output: TODO\n",
    "    \"\"\"\n",
    "    # tuple valeur/etiquette dans chaque element de imbd\n",
    "    n_doc = len(X)\n",
    "    nb_classes = len(np.unique(y))\n",
    "    \n",
    "    logprior = [0] * nb_classes\n",
    "    bigdoc = [[]] * nb_classes\n",
    "    vocabulary = list(keras.datasets.imdb.get_word_index().values())\n",
    "    loglikelyhood = np.ndarray((len(vocabulary), nb_classes))\n",
    "    \n",
    "    for c in range(nb_classes):        \n",
    "        # array numpy, donc masque\n",
    "        c_review = X[y == c]\n",
    "        nb_word_total  = get_total_length(c_review)\n",
    "        n_c = len(c_review)\n",
    "        logprior[c] = np.log(n_c / n_doc)\n",
    "        \n",
    "        #recuperation des cles sous formes numerisees\n",
    "        voca_occurency = np.zeros(len(vocabulary))\n",
    "        \n",
    "        for docu in tqdm(c_review):\n",
    "            voca_occurency = np.add(voca_occurency, np.histogram(docu, bins=np.arange(len(vocabulary) + 1))[0])\n",
    "        \n",
    "        for index in tqdm(range(len(vocabulary))):\n",
    "            value = math.log((voca_occurency[index] + 1) /\n",
    "                                      (nb_word_total + 1))\n",
    "            loglikelyhood[index, c] = value\n",
    "    return logprior, loglikelyhood, voca"
   ]
  },
  {
   "cell_type": "code",
   "execution_count": 21,
   "id": "a274d73d",
   "metadata": {},
   "outputs": [
    {
     "name": "stderr",
     "output_type": "stream",
     "text": [
      "100%|██████████| 12500/12500 [00:13<00:00, 919.89it/s]\n",
      "100%|██████████| 88584/88584 [00:00<00:00, 591118.66it/s]\n",
      "100%|██████████| 12500/12500 [00:13<00:00, 959.88it/s]\n",
      "100%|██████████| 88584/88584 [00:00<00:00, 550702.89it/s]\n"
     ]
    }
   ],
   "source": [
    "(logprior, loglikelyhood, voca) = naive_bayes_classifier_train(x_train, y_train)"
   ]
  },
  {
   "cell_type": "code",
   "execution_count": 64,
   "id": "d2963b2a",
   "metadata": {},
   "outputs": [],
   "source": [
    "def test_naive_bayes(testdoc, logprior, loglikelyhood, C, V):\n",
    "    _sum = [0] * len(C)\n",
    "    for c in range(len(C)):\n",
    "        print(c)\n",
    "        _sum[c] = logprior[c]\n",
    "        for (i, word) in enumerate(testdoc):\n",
    "            if word in V:\n",
    "                _sum[c] += loglikelyhood[i, c] \n",
    "    return np.argmax(_sum)\n",
    "        "
   ]
  },
  {
   "cell_type": "code",
   "execution_count": 65,
   "id": "3c7605e4-8cb7-458d-82c7-9a99c9a79fd0",
   "metadata": {},
   "outputs": [],
   "source": [
    "V = list(inverted_word_index.values())"
   ]
  },
  {
   "cell_type": "code",
   "execution_count": 71,
   "id": "05c85952-3b9c-4251-bc7d-17b3577808e7",
   "metadata": {},
   "outputs": [
    {
     "name": "stdout",
     "output_type": "stream",
     "text": [
      "0\n",
      "1\n"
     ]
    },
    {
     "data": {
      "text/plain": [
       "0"
      ]
     },
     "execution_count": 71,
     "metadata": {},
     "output_type": "execute_result"
    }
   ],
   "source": [
    "test_naive_bayes(decode_sentence(x_train[1]), logprior, loglikelyhood, [0, 1], V)"
   ]
  },
  {
   "cell_type": "code",
   "execution_count": 72,
   "id": "34af05db-748a-4e22-86ca-e88b09253828",
   "metadata": {},
   "outputs": [
    {
     "data": {
      "text/plain": [
       "0"
      ]
     },
     "execution_count": 72,
     "metadata": {},
     "output_type": "execute_result"
    }
   ],
   "source": [
    "y_train[1]"
   ]
  },
  {
   "cell_type": "code",
   "execution_count": null,
   "id": "52a808cf-b94c-4362-bd0a-a936ad6b6423",
   "metadata": {},
   "outputs": [],
   "source": []
  }
 ],
 "metadata": {
  "kernelspec": {
   "display_name": "Python 3",
   "language": "python",
   "name": "python3"
  },
  "language_info": {
   "codemirror_mode": {
    "name": "ipython",
    "version": 3
   },
   "file_extension": ".py",
   "mimetype": "text/x-python",
   "name": "python",
   "nbconvert_exporter": "python",
   "pygments_lexer": "ipython3",
   "version": "3.8.5"
  }
 },
 "nbformat": 4,
 "nbformat_minor": 5
}
