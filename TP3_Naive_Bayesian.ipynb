{
 "cells": [
  {
   "cell_type": "code",
   "execution_count": 1,
   "id": "2feebbf5",
   "metadata": {},
   "outputs": [
    {
     "name": "stderr",
     "output_type": "stream",
     "text": [
      "[nltk_data] Downloading package stopwords to\n",
      "[nltk_data]     /home/surenis/nltk_data...\n",
      "[nltk_data]   Package stopwords is already up-to-date!\n",
      "[nltk_data] Downloading package wordnet to /home/surenis/nltk_data...\n",
      "[nltk_data]   Package wordnet is already up-to-date!\n"
     ]
    }
   ],
   "source": [
    "from src.naive_bayesian import *"
   ]
  },
  {
   "cell_type": "code",
   "execution_count": 2,
   "id": "2e13b01b",
   "metadata": {},
   "outputs": [],
   "source": [
    "(x_train, y_train), (x_test, y_test) = keras.datasets.imdb.load_data(\n",
    "    path=\"imdb.npz\",\n",
    "    num_words=None,\n",
    "    skip_top=0,\n",
    "    maxlen=None,\n",
    "    seed=113,\n",
    "    start_char=1,\n",
    "    oov_char=2,\n",
    "    index_from=3\n",
    ")"
   ]
  },
  {
   "cell_type": "code",
   "execution_count": 3,
   "id": "1c707896",
   "metadata": {},
   "outputs": [
    {
     "name": "stdout",
     "output_type": "stream",
     "text": [
      "<class 'dict_values'>\n",
      "<class 'list'>\n"
     ]
    }
   ],
   "source": [
    "print(type(word_index.values()))\n",
    "print(type(list(word_index.values())))"
   ]
  },
  {
   "cell_type": "code",
   "execution_count": 4,
   "id": "a274d73d",
   "metadata": {},
   "outputs": [
    {
     "name": "stderr",
     "output_type": "stream",
     "text": [
      "100%|██████████| 12500/12500 [00:08<00:00, 1412.43it/s]\n",
      "100%|██████████| 88584/88584 [00:00<00:00, 944211.64it/s]\n",
      "100%|██████████| 12500/12500 [00:09<00:00, 1343.15it/s]\n",
      "100%|██████████| 88584/88584 [00:00<00:00, 956641.88it/s]\n"
     ]
    }
   ],
   "source": [
    "(logprior, loglikelyhood, voca) = naive_bayes_classifier_train(x_train, y_train)"
   ]
  },
  {
   "cell_type": "code",
   "execution_count": 5,
   "id": "1d228b19-b05a-4ba2-bce8-a1b28d62b50b",
   "metadata": {},
   "outputs": [
    {
     "data": {
      "text/plain": [
       "([0.9315520459418732, 0.9315520459418732],\n",
       " array([[-14.89674099, -14.9206144 ],\n",
       "        [ -5.46317707,  -5.48705048],\n",
       "        [-14.20359381, -14.9206144 ],\n",
       "        ...,\n",
       "        [-14.20359381, -14.9206144 ],\n",
       "        [-14.20359381, -14.9206144 ],\n",
       "        [-14.20359381, -14.9206144 ]]))"
      ]
     },
     "execution_count": 5,
     "metadata": {},
     "output_type": "execute_result"
    }
   ],
   "source": [
    "(logprior, loglikelyhood)"
   ]
  },
  {
   "cell_type": "code",
   "execution_count": 6,
   "id": "de548320",
   "metadata": {},
   "outputs": [
    {
     "data": {
      "text/html": [
       "<div>\n",
       "<style scoped>\n",
       "    .dataframe tbody tr th:only-of-type {\n",
       "        vertical-align: middle;\n",
       "    }\n",
       "\n",
       "    .dataframe tbody tr th {\n",
       "        vertical-align: top;\n",
       "    }\n",
       "\n",
       "    .dataframe thead th {\n",
       "        text-align: right;\n",
       "    }\n",
       "</style>\n",
       "<table border=\"1\" class=\"dataframe\">\n",
       "  <thead>\n",
       "    <tr style=\"text-align: right;\">\n",
       "      <th>col_0</th>\n",
       "      <th>0</th>\n",
       "      <th>1</th>\n",
       "    </tr>\n",
       "    <tr>\n",
       "      <th>row_0</th>\n",
       "      <th></th>\n",
       "      <th></th>\n",
       "    </tr>\n",
       "  </thead>\n",
       "  <tbody>\n",
       "    <tr>\n",
       "      <th>0.0</th>\n",
       "      <td>11002</td>\n",
       "      <td>3186</td>\n",
       "    </tr>\n",
       "    <tr>\n",
       "      <th>1.0</th>\n",
       "      <td>1498</td>\n",
       "      <td>9314</td>\n",
       "    </tr>\n",
       "  </tbody>\n",
       "</table>\n",
       "</div>"
      ],
      "text/plain": [
       "col_0      0     1\n",
       "row_0             \n",
       "0.0    11002  3186\n",
       "1.0     1498  9314"
      ]
     },
     "execution_count": 6,
     "metadata": {},
     "output_type": "execute_result"
    }
   ],
   "source": [
    "res = predict(x_test, logprior, loglikelyhood)\n",
    "pd.crosstab(res ,y_test)"
   ]
  },
  {
   "cell_type": "code",
   "execution_count": 7,
   "id": "95d7913d",
   "metadata": {},
   "outputs": [
    {
     "name": "stdout",
     "output_type": "stream",
     "text": [
      "                 precision    recall  f1-score   support\n",
      "\n",
      "negative review       0.78      0.88      0.82     12500\n",
      "positive review       0.86      0.75      0.80     12500\n",
      "\n",
      "       accuracy                           0.81     25000\n",
      "      macro avg       0.82      0.81      0.81     25000\n",
      "   weighted avg       0.82      0.81      0.81     25000\n",
      "\n"
     ]
    }
   ],
   "source": [
    "target_names = ['negative review', 'positive review']\n",
    "print(classification_report(y_test, res, target_names=target_names))"
   ]
  },
  {
   "cell_type": "markdown",
   "id": "7779d41a",
   "metadata": {},
   "source": [
    "### Stop Words"
   ]
  },
  {
   "cell_type": "code",
   "execution_count": 8,
   "id": "ac0600e2",
   "metadata": {},
   "outputs": [
    {
     "name": "stdout",
     "output_type": "stream",
     "text": [
      "? please give this one a miss br br kristy swanson and the rest of the cast rendered terrible performances the show is flat flat flat br br i don't know how michael madison could have allowed this one on his plate he almost seemed to know this wasn't going to work out and his performance was quite lacklustre so all you madison fans give this a miss\n",
      "please miss kristy swanson rest of rendered terrible performances show flat flat flat michael madison have allowed plate almost seemed wasn't going work performance quite lacklustre madison fans miss\n"
     ]
    }
   ],
   "source": [
    "# With Stop Words\n",
    "print(decode_sentence(x_test[0]))\n",
    "\n",
    "# Without Stop Words\n",
    "print(decode_sentence(delete_stop_words(x_test[0])))"
   ]
  },
  {
   "cell_type": "code",
   "execution_count": 9,
   "id": "a6061059",
   "metadata": {},
   "outputs": [
    {
     "name": "stderr",
     "output_type": "stream",
     "text": [
      "100%|██████████| 25000/25000 [00:10<00:00, 2478.07it/s]\n"
     ]
    }
   ],
   "source": [
    "x_test_without_sw = [delete_stop_words(el) for el in tqdm(x_test)]"
   ]
  },
  {
   "cell_type": "code",
   "execution_count": 10,
   "id": "71cf7c6c",
   "metadata": {},
   "outputs": [
    {
     "data": {
      "text/plain": [
       "(25000,)"
      ]
     },
     "execution_count": 10,
     "metadata": {},
     "output_type": "execute_result"
    }
   ],
   "source": [
    "x_test_without_sw = np.array(x_test_without_sw, dtype='object')\n",
    "x_test_without_sw.shape"
   ]
  },
  {
   "cell_type": "code",
   "execution_count": 11,
   "id": "2ebe295a",
   "metadata": {},
   "outputs": [
    {
     "data": {
      "text/html": [
       "<div>\n",
       "<style scoped>\n",
       "    .dataframe tbody tr th:only-of-type {\n",
       "        vertical-align: middle;\n",
       "    }\n",
       "\n",
       "    .dataframe tbody tr th {\n",
       "        vertical-align: top;\n",
       "    }\n",
       "\n",
       "    .dataframe thead th {\n",
       "        text-align: right;\n",
       "    }\n",
       "</style>\n",
       "<table border=\"1\" class=\"dataframe\">\n",
       "  <thead>\n",
       "    <tr style=\"text-align: right;\">\n",
       "      <th>col_0</th>\n",
       "      <th>0</th>\n",
       "      <th>1</th>\n",
       "    </tr>\n",
       "    <tr>\n",
       "      <th>row_0</th>\n",
       "      <th></th>\n",
       "      <th></th>\n",
       "    </tr>\n",
       "  </thead>\n",
       "  <tbody>\n",
       "    <tr>\n",
       "      <th>0.0</th>\n",
       "      <td>10628</td>\n",
       "      <td>2471</td>\n",
       "    </tr>\n",
       "    <tr>\n",
       "      <th>1.0</th>\n",
       "      <td>1872</td>\n",
       "      <td>10029</td>\n",
       "    </tr>\n",
       "  </tbody>\n",
       "</table>\n",
       "</div>"
      ],
      "text/plain": [
       "col_0      0      1\n",
       "row_0              \n",
       "0.0    10628   2471\n",
       "1.0     1872  10029"
      ]
     },
     "execution_count": 11,
     "metadata": {},
     "output_type": "execute_result"
    }
   ],
   "source": [
    "#results with a stop word filtering\n",
    "res = predict(x_test_without_sw, logprior, loglikelyhood)\n",
    "pd.crosstab(res ,y_test)"
   ]
  },
  {
   "cell_type": "code",
   "execution_count": 12,
   "id": "9f60d936",
   "metadata": {},
   "outputs": [
    {
     "name": "stdout",
     "output_type": "stream",
     "text": [
      "                 precision    recall  f1-score   support\n",
      "\n",
      "negative review       0.81      0.85      0.83     12500\n",
      "positive review       0.84      0.80      0.82     12500\n",
      "\n",
      "       accuracy                           0.83     25000\n",
      "      macro avg       0.83      0.83      0.83     25000\n",
      "   weighted avg       0.83      0.83      0.83     25000\n",
      "\n"
     ]
    }
   ],
   "source": [
    "#results with a stop word filtering\n",
    "print(classification_report(y_test, res, target_names=target_names))"
   ]
  },
  {
   "cell_type": "markdown",
   "id": "e1c9f5a9",
   "metadata": {},
   "source": [
    "### Stemming"
   ]
  },
  {
   "cell_type": "code",
   "execution_count": 13,
   "id": "3fbea8fc",
   "metadata": {},
   "outputs": [],
   "source": [
    "x_test_decoded_list = decode_all_review(x_test, False, offset=0)"
   ]
  },
  {
   "cell_type": "code",
   "execution_count": 14,
   "id": "c4091ff3",
   "metadata": {},
   "outputs": [],
   "source": [
    "# Regex for words\n",
    "re_upper = re.compile(r\"^\\w+$\")\n",
    "\n",
    "# Creation of the Stemmer\n",
    "stemmer = SnowballStemmer(\"english\")"
   ]
  },
  {
   "cell_type": "code",
   "execution_count": 15,
   "id": "e2d8c5f0",
   "metadata": {},
   "outputs": [
    {
     "name": "stdout",
     "output_type": "stream",
     "text": [
      "the wonder own as by is sequence i i jars roses to of hollywood br of down shouting getting boring of ever it sadly sadly sadly i i was then does don't close faint after one carry as by are be favourites all family turn in does as three part in another some to be probably with world uncaring her an have faint beginning own as is sequence\n",
      "the wonder own as by is i i jar rose to of hollywood br of down shout get bore of ever it sad sad sad i i was then doe close faint after one as by are be all turn in doe as three part in some to be with world her an have faint begin own as is\n"
     ]
    }
   ],
   "source": [
    "# Without Stemming\n",
    "print(decode_sentence(x_test[0], offset=0))\n",
    "\n",
    "# With Stemming\n",
    "print(decode_sentence(stemming(x_test_decoded_list[0], re_upper, stemmer), offset = 0))"
   ]
  },
  {
   "cell_type": "code",
   "execution_count": 16,
   "id": "5b6a92a3",
   "metadata": {},
   "outputs": [
    {
     "name": "stderr",
     "output_type": "stream",
     "text": [
      "100%|██████████| 25000/25000 [00:32<00:00, 771.17it/s]\n"
     ]
    }
   ],
   "source": [
    "## Applying the Stemming on the entire x_test \n",
    "x_test_stemmed = [stemming(el, re_upper, stemmer) for el in tqdm(x_test_decoded_list)]"
   ]
  },
  {
   "cell_type": "code",
   "execution_count": 17,
   "id": "0d61f201",
   "metadata": {},
   "outputs": [
    {
     "data": {
      "text/plain": [
       "(25000,)"
      ]
     },
     "execution_count": 17,
     "metadata": {},
     "output_type": "execute_result"
    }
   ],
   "source": [
    "x_test_stemmed = np.array(x_test_stemmed, dtype='object')\n",
    "x_test_stemmed.shape"
   ]
  },
  {
   "cell_type": "code",
   "execution_count": 18,
   "id": "c31e29ae",
   "metadata": {},
   "outputs": [
    {
     "data": {
      "text/html": [
       "<div>\n",
       "<style scoped>\n",
       "    .dataframe tbody tr th:only-of-type {\n",
       "        vertical-align: middle;\n",
       "    }\n",
       "\n",
       "    .dataframe tbody tr th {\n",
       "        vertical-align: top;\n",
       "    }\n",
       "\n",
       "    .dataframe thead th {\n",
       "        text-align: right;\n",
       "    }\n",
       "</style>\n",
       "<table border=\"1\" class=\"dataframe\">\n",
       "  <thead>\n",
       "    <tr style=\"text-align: right;\">\n",
       "      <th>col_0</th>\n",
       "      <th>0</th>\n",
       "      <th>1</th>\n",
       "    </tr>\n",
       "    <tr>\n",
       "      <th>row_0</th>\n",
       "      <th></th>\n",
       "      <th></th>\n",
       "    </tr>\n",
       "  </thead>\n",
       "  <tbody>\n",
       "    <tr>\n",
       "      <th>0.0</th>\n",
       "      <td>11026</td>\n",
       "      <td>4775</td>\n",
       "    </tr>\n",
       "    <tr>\n",
       "      <th>1.0</th>\n",
       "      <td>1474</td>\n",
       "      <td>7725</td>\n",
       "    </tr>\n",
       "  </tbody>\n",
       "</table>\n",
       "</div>"
      ],
      "text/plain": [
       "col_0      0     1\n",
       "row_0             \n",
       "0.0    11026  4775\n",
       "1.0     1474  7725"
      ]
     },
     "execution_count": 18,
     "metadata": {},
     "output_type": "execute_result"
    }
   ],
   "source": [
    "#results with stemming\n",
    "res = predict(x_test_stemmed, logprior, loglikelyhood)\n",
    "pd.crosstab(res ,y_test)"
   ]
  },
  {
   "cell_type": "code",
   "execution_count": 19,
   "id": "a888ffdf",
   "metadata": {},
   "outputs": [
    {
     "name": "stdout",
     "output_type": "stream",
     "text": [
      "                 precision    recall  f1-score   support\n",
      "\n",
      "negative review       0.70      0.88      0.78     12500\n",
      "positive review       0.84      0.62      0.71     12500\n",
      "\n",
      "       accuracy                           0.75     25000\n",
      "      macro avg       0.77      0.75      0.75     25000\n",
      "   weighted avg       0.77      0.75      0.75     25000\n",
      "\n"
     ]
    }
   ],
   "source": [
    "#results with stemming\n",
    "print(classification_report(y_test, res, target_names=target_names))"
   ]
  },
  {
   "cell_type": "markdown",
   "id": "f653e091",
   "metadata": {},
   "source": [
    "### Lemming"
   ]
  },
  {
   "cell_type": "code",
   "execution_count": 20,
   "id": "52a808cf-b94c-4362-bd0a-a936ad6b6423",
   "metadata": {},
   "outputs": [
    {
     "name": "stderr",
     "output_type": "stream",
     "text": [
      "100%|██████████| 25000/25000 [00:15<00:00, 1598.44it/s]\n"
     ]
    }
   ],
   "source": [
    "x_test_lemmed = [lemming(el) for el in tqdm(x_test_decoded_list)]"
   ]
  },
  {
   "cell_type": "code",
   "execution_count": 21,
   "id": "884ff80c",
   "metadata": {},
   "outputs": [
    {
     "data": {
      "text/plain": [
       "(25000,)"
      ]
     },
     "execution_count": 21,
     "metadata": {},
     "output_type": "execute_result"
    }
   ],
   "source": [
    "x_test_lemmed = np.array(x_test_lemmed, dtype='object')\n",
    "x_test_lemmed.shape"
   ]
  },
  {
   "cell_type": "code",
   "execution_count": 22,
   "id": "d6e6efc9",
   "metadata": {},
   "outputs": [
    {
     "data": {
      "text/html": [
       "<div>\n",
       "<style scoped>\n",
       "    .dataframe tbody tr th:only-of-type {\n",
       "        vertical-align: middle;\n",
       "    }\n",
       "\n",
       "    .dataframe tbody tr th {\n",
       "        vertical-align: top;\n",
       "    }\n",
       "\n",
       "    .dataframe thead th {\n",
       "        text-align: right;\n",
       "    }\n",
       "</style>\n",
       "<table border=\"1\" class=\"dataframe\">\n",
       "  <thead>\n",
       "    <tr style=\"text-align: right;\">\n",
       "      <th>col_0</th>\n",
       "      <th>0</th>\n",
       "      <th>1</th>\n",
       "    </tr>\n",
       "    <tr>\n",
       "      <th>row_0</th>\n",
       "      <th></th>\n",
       "      <th></th>\n",
       "    </tr>\n",
       "  </thead>\n",
       "  <tbody>\n",
       "    <tr>\n",
       "      <th>0.0</th>\n",
       "      <td>11148</td>\n",
       "      <td>4260</td>\n",
       "    </tr>\n",
       "    <tr>\n",
       "      <th>1.0</th>\n",
       "      <td>1352</td>\n",
       "      <td>8240</td>\n",
       "    </tr>\n",
       "  </tbody>\n",
       "</table>\n",
       "</div>"
      ],
      "text/plain": [
       "col_0      0     1\n",
       "row_0             \n",
       "0.0    11148  4260\n",
       "1.0     1352  8240"
      ]
     },
     "execution_count": 22,
     "metadata": {},
     "output_type": "execute_result"
    }
   ],
   "source": [
    "#results with Lemming\n",
    "res = predict(x_test_lemmed, logprior, loglikelyhood)\n",
    "pd.crosstab(res ,y_test)"
   ]
  },
  {
   "cell_type": "code",
   "execution_count": 23,
   "id": "03ee714e",
   "metadata": {},
   "outputs": [
    {
     "name": "stdout",
     "output_type": "stream",
     "text": [
      "                 precision    recall  f1-score   support\n",
      "\n",
      "negative review       0.72      0.89      0.80     12500\n",
      "positive review       0.86      0.66      0.75     12500\n",
      "\n",
      "       accuracy                           0.78     25000\n",
      "      macro avg       0.79      0.78      0.77     25000\n",
      "   weighted avg       0.79      0.78      0.77     25000\n",
      "\n"
     ]
    }
   ],
   "source": [
    "#results with Lemming\n",
    "print(classification_report(y_test, res, target_names=target_names))"
   ]
  },
  {
   "cell_type": "code",
   "execution_count": null,
   "id": "35a50bed",
   "metadata": {},
   "outputs": [
    {
     "name": "stderr",
     "output_type": "stream",
     "text": [
      " 73%|███████▎  | 9173/12500 [00:22<00:08, 414.15it/s]"
     ]
    }
   ],
   "source": [
    "(logprior, presence_matrix, voca) = binary_naive_bayes_classifier_train(x_train, y_train)"
   ]
  },
  {
   "cell_type": "code",
   "execution_count": null,
   "id": "02fff1e6",
   "metadata": {},
   "outputs": [],
   "source": [
    "res = predict(x_test, logprior, presence_matrix)\n",
    "pd.crosstab(res ,y_test)"
   ]
  },
  {
   "cell_type": "code",
   "execution_count": null,
   "id": "98c5be08",
   "metadata": {},
   "outputs": [],
   "source": [
    "print(classification_report(y_test, res, target_names=target_names))"
   ]
  }
 ],
 "metadata": {
  "kernelspec": {
   "display_name": "Python 3",
   "language": "python",
   "name": "python3"
  },
  "language_info": {
   "codemirror_mode": {
    "name": "ipython",
    "version": 3
   },
   "file_extension": ".py",
   "mimetype": "text/x-python",
   "name": "python",
   "nbconvert_exporter": "python",
   "pygments_lexer": "ipython3",
   "version": "3.8.10"
  }
 },
 "nbformat": 4,
 "nbformat_minor": 5
}
