{
 "cells": [
  {
   "cell_type": "markdown",
   "id": "53d906f1",
   "metadata": {},
   "source": [
    "## Installing fastText"
   ]
  },
  {
   "cell_type": "markdown",
   "id": "98184e14",
   "metadata": {},
   "source": [
    "The first step of this tutorial is to install and build fastText."
   ]
  },
  {
   "cell_type": "code",
   "execution_count": 3,
   "id": "93382255",
   "metadata": {},
   "outputs": [
    {
     "name": "stdout",
     "output_type": "stream",
     "text": [
      "--2021-10-02 15:00:31--  https://github.com/facebookresearch/fastText/archive/v0.9.2.zip\n",
      "Résolution de github.com (github.com)… 140.82.121.3\n",
      "Connexion à github.com (github.com)|140.82.121.3|:443… connecté.\n",
      "requête HTTP transmise, en attente de la réponse… 302 Found\n",
      "Emplacement : https://codeload.github.com/facebookresearch/fastText/zip/v0.9.2 [suivant]\n",
      "--2021-10-02 15:00:31--  https://codeload.github.com/facebookresearch/fastText/zip/v0.9.2\n",
      "Résolution de codeload.github.com (codeload.github.com)… 140.82.121.10\n",
      "Connexion à codeload.github.com (codeload.github.com)|140.82.121.10|:443… connecté.\n",
      "requête HTTP transmise, en attente de la réponse… 200 OK\n",
      "Taille : non indiqué [application/zip]\n",
      "Enregistre : ‘v0.9.2.zip’\n",
      "\n",
      "v0.9.2.zip              [  <=>               ]   4,17M  12,8MB/s    ds 0,3s    \n",
      "\n",
      "2021-10-02 15:00:31 (12,8 MB/s) - ‘v0.9.2.zip’ enregistré [4369852]\n",
      "\n",
      "Archive:  v0.9.2.zip\n",
      "5b5943c118b0ec5fb9cd8d20587de2b2d3966dfe\n",
      "   creating: fastText-0.9.2/\n",
      "   creating: fastText-0.9.2/.circleci/\n",
      "  inflating: fastText-0.9.2/.circleci/cmake_test.sh  \n",
      "  inflating: fastText-0.9.2/.circleci/config.yml  \n",
      "  inflating: fastText-0.9.2/.circleci/gcc_test.sh  \n",
      "  inflating: fastText-0.9.2/.circleci/pip_test.sh  \n",
      "  inflating: fastText-0.9.2/.circleci/pull_data.sh  \n",
      "  inflating: fastText-0.9.2/.circleci/python_test.sh  \n",
      "  inflating: fastText-0.9.2/.circleci/run_locally.sh  \n",
      "  inflating: fastText-0.9.2/.circleci/setup_circleimg.sh  \n",
      "  inflating: fastText-0.9.2/.circleci/setup_debian.sh  \n",
      "  inflating: fastText-0.9.2/.gitignore  \n",
      "  inflating: fastText-0.9.2/CMakeLists.txt  \n",
      "  inflating: fastText-0.9.2/CODE_OF_CONDUCT.md  \n",
      "  inflating: fastText-0.9.2/CONTRIBUTING.md  \n",
      "  inflating: fastText-0.9.2/LICENSE  \n",
      "  inflating: fastText-0.9.2/MANIFEST.in  \n",
      "  inflating: fastText-0.9.2/Makefile  \n",
      "  inflating: fastText-0.9.2/README.md  \n",
      "   creating: fastText-0.9.2/alignment/\n",
      "  inflating: fastText-0.9.2/alignment/README.md  \n",
      "  inflating: fastText-0.9.2/alignment/align.py  \n",
      "  inflating: fastText-0.9.2/alignment/eval.py  \n",
      "  inflating: fastText-0.9.2/alignment/example.sh  \n",
      "  inflating: fastText-0.9.2/alignment/unsup_align.py  \n",
      "  inflating: fastText-0.9.2/alignment/unsup_multialign.py  \n",
      "  inflating: fastText-0.9.2/alignment/utils.py  \n",
      "  inflating: fastText-0.9.2/classification-example.sh  \n",
      "  inflating: fastText-0.9.2/classification-results.sh  \n",
      "   creating: fastText-0.9.2/crawl/\n",
      "  inflating: fastText-0.9.2/crawl/README.md  \n",
      "  inflating: fastText-0.9.2/crawl/dedup.cc  \n",
      "  inflating: fastText-0.9.2/crawl/download_crawl.sh  \n",
      "  inflating: fastText-0.9.2/crawl/filter_dedup.sh  \n",
      "  inflating: fastText-0.9.2/crawl/filter_utf8.cc  \n",
      "  inflating: fastText-0.9.2/crawl/process_wet_file.sh  \n",
      "   creating: fastText-0.9.2/docs/\n",
      "  inflating: fastText-0.9.2/docs/aligned-vectors.md  \n",
      "  inflating: fastText-0.9.2/docs/api.md  \n",
      "  inflating: fastText-0.9.2/docs/autotune.md  \n",
      "  inflating: fastText-0.9.2/docs/cheatsheet.md  \n",
      "  inflating: fastText-0.9.2/docs/crawl-vectors.md  \n",
      "  inflating: fastText-0.9.2/docs/dataset.md  \n",
      "  inflating: fastText-0.9.2/docs/english-vectors.md  \n",
      "  inflating: fastText-0.9.2/docs/faqs.md  \n",
      "  inflating: fastText-0.9.2/docs/language-identification.md  \n",
      "  inflating: fastText-0.9.2/docs/options.md  \n",
      "  inflating: fastText-0.9.2/docs/pretrained-vectors.md  \n",
      "  inflating: fastText-0.9.2/docs/python-module.md  \n",
      "  inflating: fastText-0.9.2/docs/references.md  \n",
      "  inflating: fastText-0.9.2/docs/supervised-models.md  \n",
      "  inflating: fastText-0.9.2/docs/supervised-tutorial.md  \n",
      "  inflating: fastText-0.9.2/docs/support.md  \n",
      "  inflating: fastText-0.9.2/docs/unsupervised-tutorials.md  \n",
      "  inflating: fastText-0.9.2/docs/webassembly-module.md  \n",
      "  inflating: fastText-0.9.2/download_model.py  \n",
      "  inflating: fastText-0.9.2/eval.py  \n",
      "  inflating: fastText-0.9.2/fasttext.pc.in  \n",
      "  inflating: fastText-0.9.2/get-wikimedia.sh  \n",
      "   creating: fastText-0.9.2/python/\n",
      "  inflating: fastText-0.9.2/python/README.md  \n",
      "  inflating: fastText-0.9.2/python/README.rst  \n",
      "   creating: fastText-0.9.2/python/benchmarks/\n",
      "  inflating: fastText-0.9.2/python/benchmarks/README.rst  \n",
      "  inflating: fastText-0.9.2/python/benchmarks/get_word_vector.py  \n",
      "   creating: fastText-0.9.2/python/doc/\n",
      "   creating: fastText-0.9.2/python/doc/examples/\n",
      "  inflating: fastText-0.9.2/python/doc/examples/FastTextEmbeddingBag.py  \n",
      "  inflating: fastText-0.9.2/python/doc/examples/bin_to_vec.py  \n",
      "  inflating: fastText-0.9.2/python/doc/examples/compute_accuracy.py  \n",
      "  inflating: fastText-0.9.2/python/doc/examples/get_vocab.py  \n",
      "  inflating: fastText-0.9.2/python/doc/examples/train_supervised.py  \n",
      "  inflating: fastText-0.9.2/python/doc/examples/train_unsupervised.py  \n",
      "   creating: fastText-0.9.2/python/fasttext_module/\n",
      "   creating: fastText-0.9.2/python/fasttext_module/fasttext/\n",
      "  inflating: fastText-0.9.2/python/fasttext_module/fasttext/FastText.py  \n",
      "  inflating: fastText-0.9.2/python/fasttext_module/fasttext/__init__.py  \n",
      "   creating: fastText-0.9.2/python/fasttext_module/fasttext/pybind/\n",
      "  inflating: fastText-0.9.2/python/fasttext_module/fasttext/pybind/fasttext_pybind.cc  \n",
      "   creating: fastText-0.9.2/python/fasttext_module/fasttext/tests/\n",
      "  inflating: fastText-0.9.2/python/fasttext_module/fasttext/tests/__init__.py  \n",
      "  inflating: fastText-0.9.2/python/fasttext_module/fasttext/tests/test_configurations.py  \n",
      "  inflating: fastText-0.9.2/python/fasttext_module/fasttext/tests/test_script.py  \n",
      "   creating: fastText-0.9.2/python/fasttext_module/fasttext/util/\n",
      "  inflating: fastText-0.9.2/python/fasttext_module/fasttext/util/__init__.py  \n",
      "  inflating: fastText-0.9.2/python/fasttext_module/fasttext/util/util.py  \n",
      "  inflating: fastText-0.9.2/quantization-example.sh  \n",
      "  inflating: fastText-0.9.2/reduce_model.py  \n",
      "  inflating: fastText-0.9.2/runtests.py  \n",
      "   creating: fastText-0.9.2/scripts/\n",
      "   creating: fastText-0.9.2/scripts/kbcompletion/\n",
      "  inflating: fastText-0.9.2/scripts/kbcompletion/README.md  \n",
      "  inflating: fastText-0.9.2/scripts/kbcompletion/data.sh  \n",
      "  inflating: fastText-0.9.2/scripts/kbcompletion/eval.cpp  \n",
      "  inflating: fastText-0.9.2/scripts/kbcompletion/fb15k.sh  \n",
      "  inflating: fastText-0.9.2/scripts/kbcompletion/fb15k237.sh  \n",
      "  inflating: fastText-0.9.2/scripts/kbcompletion/svo.sh  \n",
      "  inflating: fastText-0.9.2/scripts/kbcompletion/wn18.sh  \n",
      "   creating: fastText-0.9.2/scripts/quantization/\n",
      "  inflating: fastText-0.9.2/scripts/quantization/quantization-results.sh  \n",
      " extracting: fastText-0.9.2/setup.cfg  \n",
      "  inflating: fastText-0.9.2/setup.py  \n",
      "   creating: fastText-0.9.2/src/\n",
      "  inflating: fastText-0.9.2/src/args.cc  \n",
      "  inflating: fastText-0.9.2/src/args.h  \n",
      "  inflating: fastText-0.9.2/src/autotune.cc  \n",
      "  inflating: fastText-0.9.2/src/autotune.h  \n",
      "  inflating: fastText-0.9.2/src/densematrix.cc  \n",
      "  inflating: fastText-0.9.2/src/densematrix.h  \n",
      "  inflating: fastText-0.9.2/src/dictionary.cc  \n",
      "  inflating: fastText-0.9.2/src/dictionary.h  \n",
      "  inflating: fastText-0.9.2/src/fasttext.cc  \n",
      "  inflating: fastText-0.9.2/src/fasttext.h  \n",
      "  inflating: fastText-0.9.2/src/loss.cc  \n",
      "  inflating: fastText-0.9.2/src/loss.h  \n",
      "  inflating: fastText-0.9.2/src/main.cc  \n",
      "  inflating: fastText-0.9.2/src/matrix.cc  \n",
      "  inflating: fastText-0.9.2/src/matrix.h  \n",
      "  inflating: fastText-0.9.2/src/meter.cc  \n",
      "  inflating: fastText-0.9.2/src/meter.h  \n",
      "  inflating: fastText-0.9.2/src/model.cc  \n",
      "  inflating: fastText-0.9.2/src/model.h  \n",
      "  inflating: fastText-0.9.2/src/productquantizer.cc  \n",
      "  inflating: fastText-0.9.2/src/productquantizer.h  \n",
      "  inflating: fastText-0.9.2/src/quantmatrix.cc  \n",
      "  inflating: fastText-0.9.2/src/quantmatrix.h  \n",
      "  inflating: fastText-0.9.2/src/real.h  \n",
      "  inflating: fastText-0.9.2/src/utils.cc  \n",
      "  inflating: fastText-0.9.2/src/utils.h  \n",
      "  inflating: fastText-0.9.2/src/vector.cc  \n",
      "  inflating: fastText-0.9.2/src/vector.h  \n",
      "   creating: fastText-0.9.2/tests/\n",
      "  inflating: fastText-0.9.2/tests/fetch_test_data.sh  \n",
      "   creating: fastText-0.9.2/webassembly/\n",
      "  inflating: fastText-0.9.2/webassembly/README.md  \n",
      "   creating: fastText-0.9.2/webassembly/doc/\n",
      "   creating: fastText-0.9.2/webassembly/doc/examples/\n",
      "  inflating: fastText-0.9.2/webassembly/doc/examples/misc.html  \n",
      "  inflating: fastText-0.9.2/webassembly/doc/examples/predict.html  \n",
      "  inflating: fastText-0.9.2/webassembly/doc/examples/train_supervised.html  \n",
      "  inflating: fastText-0.9.2/webassembly/doc/examples/train_unsupervised.html  \n",
      "  inflating: fastText-0.9.2/webassembly/fasttext.js  \n",
      "  inflating: fastText-0.9.2/webassembly/fasttext_wasm.cc  \n",
      "   creating: fastText-0.9.2/website/\n",
      "  inflating: fastText-0.9.2/website/README.md  \n",
      "   creating: fastText-0.9.2/website/blog/\n",
      "  inflating: fastText-0.9.2/website/blog/2016-08-18-blog-post.md  \n",
      "  inflating: fastText-0.9.2/website/blog/2017-05-02-blog-post.md  \n",
      "  inflating: fastText-0.9.2/website/blog/2017-10-02-blog-post.md  \n",
      "  inflating: fastText-0.9.2/website/blog/2019-06-25-blog-post.md  \n",
      "   creating: fastText-0.9.2/website/core/\n",
      "  inflating: fastText-0.9.2/website/core/Footer.js  \n",
      "  inflating: fastText-0.9.2/website/package.json  \n",
      "   creating: fastText-0.9.2/website/pages/\n",
      "   creating: fastText-0.9.2/website/pages/en/\n",
      "  inflating: fastText-0.9.2/website/pages/en/index.js  \n",
      "  inflating: fastText-0.9.2/website/sidebars.json  \n",
      "  inflating: fastText-0.9.2/website/siteConfig.js  \n",
      "   creating: fastText-0.9.2/website/static/\n",
      "   creating: fastText-0.9.2/website/static/docs/\n",
      "   creating: fastText-0.9.2/website/static/docs/en/\n",
      "   creating: fastText-0.9.2/website/static/docs/en/html/\n",
      " extracting: fastText-0.9.2/website/static/docs/en/html/.classfasttext_1_1QMatrix-members.html.i4eKqy  \n",
      "  inflating: fastText-0.9.2/website/static/docs/en/html/annotated.html  \n",
      "  inflating: fastText-0.9.2/website/static/docs/en/html/annotated_dup.js  \n",
      "  inflating: fastText-0.9.2/website/static/docs/en/html/args_8cc.html  \n",
      "  inflating: fastText-0.9.2/website/static/docs/en/html/args_8h.html  \n",
      "  inflating: fastText-0.9.2/website/static/docs/en/html/args_8h.js  \n",
      "  inflating: fastText-0.9.2/website/static/docs/en/html/args_8h_source.html  \n",
      " extracting: fastText-0.9.2/website/static/docs/en/html/bc_s.png  \n",
      "  inflating: fastText-0.9.2/website/static/docs/en/html/bdwn.png  \n",
      "  inflating: fastText-0.9.2/website/static/docs/en/html/classes.html  \n",
      "  inflating: fastText-0.9.2/website/static/docs/en/html/classfasttext_1_1Args-members.html  \n",
      "  inflating: fastText-0.9.2/website/static/docs/en/html/classfasttext_1_1Args.html  \n",
      "  inflating: fastText-0.9.2/website/static/docs/en/html/classfasttext_1_1Args.js  \n",
      "  inflating: fastText-0.9.2/website/static/docs/en/html/classfasttext_1_1Dictionary-members.html  \n",
      "  inflating: fastText-0.9.2/website/static/docs/en/html/classfasttext_1_1Dictionary.html  \n",
      "  inflating: fastText-0.9.2/website/static/docs/en/html/classfasttext_1_1Dictionary.js  \n",
      "  inflating: fastText-0.9.2/website/static/docs/en/html/classfasttext_1_1FastText-members.html  \n",
      "  inflating: fastText-0.9.2/website/static/docs/en/html/classfasttext_1_1FastText.html  \n",
      "  inflating: fastText-0.9.2/website/static/docs/en/html/classfasttext_1_1FastText.js  \n",
      "  inflating: fastText-0.9.2/website/static/docs/en/html/classfasttext_1_1Matrix-members.html  \n",
      "  inflating: fastText-0.9.2/website/static/docs/en/html/classfasttext_1_1Matrix.html  \n",
      "  inflating: fastText-0.9.2/website/static/docs/en/html/classfasttext_1_1Matrix.js  \n",
      "  inflating: fastText-0.9.2/website/static/docs/en/html/classfasttext_1_1Model-members.html  \n",
      "  inflating: fastText-0.9.2/website/static/docs/en/html/classfasttext_1_1Model.html  \n",
      "  inflating: fastText-0.9.2/website/static/docs/en/html/classfasttext_1_1Model.js  \n",
      "  inflating: fastText-0.9.2/website/static/docs/en/html/classfasttext_1_1ProductQuantizer-members.html  \n",
      "  inflating: fastText-0.9.2/website/static/docs/en/html/classfasttext_1_1ProductQuantizer.html  \n",
      "  inflating: fastText-0.9.2/website/static/docs/en/html/classfasttext_1_1ProductQuantizer.js  \n",
      "  inflating: fastText-0.9.2/website/static/docs/en/html/classfasttext_1_1QMatrix-members.html  \n",
      "  inflating: fastText-0.9.2/website/static/docs/en/html/classfasttext_1_1QMatrix.html  \n",
      "  inflating: fastText-0.9.2/website/static/docs/en/html/classfasttext_1_1QMatrix.js  \n",
      "  inflating: fastText-0.9.2/website/static/docs/en/html/classfasttext_1_1Vector-members.html  \n",
      "  inflating: fastText-0.9.2/website/static/docs/en/html/classfasttext_1_1Vector.html  \n",
      "  inflating: fastText-0.9.2/website/static/docs/en/html/classfasttext_1_1Vector.js  \n",
      "  inflating: fastText-0.9.2/website/static/docs/en/html/closed.png  \n",
      "  inflating: fastText-0.9.2/website/static/docs/en/html/dictionary_8cc.html  \n",
      "  inflating: fastText-0.9.2/website/static/docs/en/html/dictionary_8h.html  \n",
      "  inflating: fastText-0.9.2/website/static/docs/en/html/dictionary_8h.js  \n",
      "  inflating: fastText-0.9.2/website/static/docs/en/html/dictionary_8h_source.html  \n",
      "  inflating: fastText-0.9.2/website/static/docs/en/html/dir_68267d1309a1af8e8297ef4c3efbcdba.html  \n",
      "  inflating: fastText-0.9.2/website/static/docs/en/html/dir_68267d1309a1af8e8297ef4c3efbcdba.js  \n",
      " extracting: fastText-0.9.2/website/static/docs/en/html/doc.png  \n",
      "  inflating: fastText-0.9.2/website/static/docs/en/html/doxygen.css  \n",
      " extracting: fastText-0.9.2/website/static/docs/en/html/doxygen.png  \n",
      "  inflating: fastText-0.9.2/website/static/docs/en/html/dynsections.js  \n",
      "  inflating: fastText-0.9.2/website/static/docs/en/html/fasttext_8cc.html  \n",
      "  inflating: fastText-0.9.2/website/static/docs/en/html/fasttext_8h.html  \n",
      "  inflating: fastText-0.9.2/website/static/docs/en/html/fasttext_8h.js  \n",
      "  inflating: fastText-0.9.2/website/static/docs/en/html/fasttext_8h_source.html  \n",
      "  inflating: fastText-0.9.2/website/static/docs/en/html/favicon.png  \n",
      "  inflating: fastText-0.9.2/website/static/docs/en/html/files.html  \n",
      "  inflating: fastText-0.9.2/website/static/docs/en/html/files.js  \n",
      " extracting: fastText-0.9.2/website/static/docs/en/html/folderclosed.png  \n",
      " extracting: fastText-0.9.2/website/static/docs/en/html/folderopen.png  \n",
      "  inflating: fastText-0.9.2/website/static/docs/en/html/functions.html  \n",
      "  inflating: fastText-0.9.2/website/static/docs/en/html/functions_0x7e.html  \n",
      "  inflating: fastText-0.9.2/website/static/docs/en/html/functions_b.html  \n",
      "  inflating: fastText-0.9.2/website/static/docs/en/html/functions_c.html  \n",
      "  inflating: fastText-0.9.2/website/static/docs/en/html/functions_d.html  \n",
      "  inflating: fastText-0.9.2/website/static/docs/en/html/functions_dup.js  \n",
      "  inflating: fastText-0.9.2/website/static/docs/en/html/functions_e.html  \n",
      "  inflating: fastText-0.9.2/website/static/docs/en/html/functions_f.html  \n",
      "  inflating: fastText-0.9.2/website/static/docs/en/html/functions_func.html  \n",
      "  inflating: fastText-0.9.2/website/static/docs/en/html/functions_g.html  \n",
      "  inflating: fastText-0.9.2/website/static/docs/en/html/functions_h.html  \n",
      "  inflating: fastText-0.9.2/website/static/docs/en/html/functions_i.html  \n",
      "  inflating: fastText-0.9.2/website/static/docs/en/html/functions_k.html  \n",
      "  inflating: fastText-0.9.2/website/static/docs/en/html/functions_l.html  \n",
      "  inflating: fastText-0.9.2/website/static/docs/en/html/functions_m.html  \n",
      "  inflating: fastText-0.9.2/website/static/docs/en/html/functions_n.html  \n",
      "  inflating: fastText-0.9.2/website/static/docs/en/html/functions_o.html  \n",
      "  inflating: fastText-0.9.2/website/static/docs/en/html/functions_p.html  \n",
      "  inflating: fastText-0.9.2/website/static/docs/en/html/functions_q.html  \n",
      "  inflating: fastText-0.9.2/website/static/docs/en/html/functions_r.html  \n",
      "  inflating: fastText-0.9.2/website/static/docs/en/html/functions_s.html  \n",
      "  inflating: fastText-0.9.2/website/static/docs/en/html/functions_t.html  \n",
      "  inflating: fastText-0.9.2/website/static/docs/en/html/functions_u.html  \n",
      "  inflating: fastText-0.9.2/website/static/docs/en/html/functions_v.html  \n",
      "  inflating: fastText-0.9.2/website/static/docs/en/html/functions_vars.html  \n",
      "  inflating: fastText-0.9.2/website/static/docs/en/html/functions_w.html  \n",
      "  inflating: fastText-0.9.2/website/static/docs/en/html/functions_z.html  \n",
      "  inflating: fastText-0.9.2/website/static/docs/en/html/globals.html  \n",
      "  inflating: fastText-0.9.2/website/static/docs/en/html/globals_defs.html  \n",
      "  inflating: fastText-0.9.2/website/static/docs/en/html/globals_func.html  \n",
      "  inflating: fastText-0.9.2/website/static/docs/en/html/index.html  \n"
     ]
    },
    {
     "name": "stdout",
     "output_type": "stream",
     "text": [
      "  inflating: fastText-0.9.2/website/static/docs/en/html/jquery.js  \r\n",
      "  inflating: fastText-0.9.2/website/static/docs/en/html/main_8cc.html  \r\n",
      "  inflating: fastText-0.9.2/website/static/docs/en/html/main_8cc.js  \r\n",
      "  inflating: fastText-0.9.2/website/static/docs/en/html/matrix_8cc.html  \r\n",
      "  inflating: fastText-0.9.2/website/static/docs/en/html/matrix_8h.html  \r\n",
      "  inflating: fastText-0.9.2/website/static/docs/en/html/matrix_8h_source.html  \r\n",
      "  inflating: fastText-0.9.2/website/static/docs/en/html/menu.js  \r\n",
      "  inflating: fastText-0.9.2/website/static/docs/en/html/menudata.js  \r\n",
      "  inflating: fastText-0.9.2/website/static/docs/en/html/model_8cc.html  \r\n",
      "  inflating: fastText-0.9.2/website/static/docs/en/html/model_8h.html  \r\n",
      "  inflating: fastText-0.9.2/website/static/docs/en/html/model_8h.js  \r\n",
      "  inflating: fastText-0.9.2/website/static/docs/en/html/model_8h_source.html  \r\n",
      "  inflating: fastText-0.9.2/website/static/docs/en/html/namespacefasttext.html  \r\n",
      "  inflating: fastText-0.9.2/website/static/docs/en/html/namespacefasttext.js  \r\n",
      "  inflating: fastText-0.9.2/website/static/docs/en/html/namespacefasttext_1_1utils.html  \r\n",
      "  inflating: fastText-0.9.2/website/static/docs/en/html/namespacemembers.html  \r\n",
      "  inflating: fastText-0.9.2/website/static/docs/en/html/namespacemembers_enum.html  \r\n",
      "  inflating: fastText-0.9.2/website/static/docs/en/html/namespacemembers_func.html  \r\n",
      "  inflating: fastText-0.9.2/website/static/docs/en/html/namespacemembers_type.html  \r\n",
      "  inflating: fastText-0.9.2/website/static/docs/en/html/namespaces.html  \r\n",
      "  inflating: fastText-0.9.2/website/static/docs/en/html/namespaces.js  \r\n",
      " extracting: fastText-0.9.2/website/static/docs/en/html/nav_f.png  \r\n",
      "  inflating: fastText-0.9.2/website/static/docs/en/html/nav_g.png  \r\n",
      "  inflating: fastText-0.9.2/website/static/docs/en/html/nav_h.png  \r\n",
      "  inflating: fastText-0.9.2/website/static/docs/en/html/navtree.css  \r\n",
      "  inflating: fastText-0.9.2/website/static/docs/en/html/navtree.js  \r\n",
      "  inflating: fastText-0.9.2/website/static/docs/en/html/navtreedata.js  \r\n",
      "  inflating: fastText-0.9.2/website/static/docs/en/html/navtreeindex0.js  \r\n",
      "  inflating: fastText-0.9.2/website/static/docs/en/html/navtreeindex1.js  \r\n",
      "  inflating: fastText-0.9.2/website/static/docs/en/html/open.png  \r\n",
      "  inflating: fastText-0.9.2/website/static/docs/en/html/productquantizer_8cc.html  \r\n",
      "  inflating: fastText-0.9.2/website/static/docs/en/html/productquantizer_8cc.js  \r\n",
      "  inflating: fastText-0.9.2/website/static/docs/en/html/productquantizer_8h.html  \r\n",
      "  inflating: fastText-0.9.2/website/static/docs/en/html/productquantizer_8h_source.html  \r\n",
      "  inflating: fastText-0.9.2/website/static/docs/en/html/qmatrix_8cc.html  \r\n",
      "  inflating: fastText-0.9.2/website/static/docs/en/html/qmatrix_8h.html  \r\n",
      "  inflating: fastText-0.9.2/website/static/docs/en/html/qmatrix_8h_source.html  \r\n",
      "  inflating: fastText-0.9.2/website/static/docs/en/html/real_8h.html  \r\n",
      "  inflating: fastText-0.9.2/website/static/docs/en/html/real_8h.js  \r\n",
      "  inflating: fastText-0.9.2/website/static/docs/en/html/real_8h_source.html  \r\n",
      "  inflating: fastText-0.9.2/website/static/docs/en/html/resize.js  \r\n",
      "   creating: fastText-0.9.2/website/static/docs/en/html/search/\r\n",
      " extracting: fastText-0.9.2/website/static/docs/en/html/search/.files_7.html.StRRNc  \r\n",
      " extracting: fastText-0.9.2/website/static/docs/en/html/search/.variables_a.html.1MGQ27  \r\n",
      "  inflating: fastText-0.9.2/website/static/docs/en/html/search/all_0.html  \r\n",
      "  inflating: fastText-0.9.2/website/static/docs/en/html/search/all_0.js  \r\n",
      "  inflating: fastText-0.9.2/website/static/docs/en/html/search/all_1.html  \r\n",
      "  inflating: fastText-0.9.2/website/static/docs/en/html/search/all_1.js  \r\n",
      "  inflating: fastText-0.9.2/website/static/docs/en/html/search/all_10.html  \r\n",
      "  inflating: fastText-0.9.2/website/static/docs/en/html/search/all_10.js  \r\n",
      "  inflating: fastText-0.9.2/website/static/docs/en/html/search/all_11.html  \r\n",
      "  inflating: fastText-0.9.2/website/static/docs/en/html/search/all_11.js  \r\n",
      "  inflating: fastText-0.9.2/website/static/docs/en/html/search/all_12.html  \r\n",
      "  inflating: fastText-0.9.2/website/static/docs/en/html/search/all_12.js  \r\n",
      "  inflating: fastText-0.9.2/website/static/docs/en/html/search/all_13.html  \r\n",
      "  inflating: fastText-0.9.2/website/static/docs/en/html/search/all_13.js  \r\n",
      "  inflating: fastText-0.9.2/website/static/docs/en/html/search/all_14.html  \r\n",
      "  inflating: fastText-0.9.2/website/static/docs/en/html/search/all_14.js  \r\n",
      "  inflating: fastText-0.9.2/website/static/docs/en/html/search/all_15.html  \r\n",
      "  inflating: fastText-0.9.2/website/static/docs/en/html/search/all_15.js  \r\n",
      "  inflating: fastText-0.9.2/website/static/docs/en/html/search/all_16.html  \r\n",
      "  inflating: fastText-0.9.2/website/static/docs/en/html/search/all_16.js  \r\n",
      "  inflating: fastText-0.9.2/website/static/docs/en/html/search/all_17.html  \r\n",
      "  inflating: fastText-0.9.2/website/static/docs/en/html/search/all_17.js  \r\n",
      "  inflating: fastText-0.9.2/website/static/docs/en/html/search/all_2.html  \r\n",
      "  inflating: fastText-0.9.2/website/static/docs/en/html/search/all_2.js  \r\n",
      "  inflating: fastText-0.9.2/website/static/docs/en/html/search/all_3.html  \r\n",
      "  inflating: fastText-0.9.2/website/static/docs/en/html/search/all_3.js  \r\n",
      "  inflating: fastText-0.9.2/website/static/docs/en/html/search/all_4.html  \r\n",
      "  inflating: fastText-0.9.2/website/static/docs/en/html/search/all_4.js  \r\n",
      "  inflating: fastText-0.9.2/website/static/docs/en/html/search/all_5.html  \r\n",
      "  inflating: fastText-0.9.2/website/static/docs/en/html/search/all_5.js  \r\n",
      "  inflating: fastText-0.9.2/website/static/docs/en/html/search/all_6.html  \r\n",
      "  inflating: fastText-0.9.2/website/static/docs/en/html/search/all_6.js  \r\n",
      "  inflating: fastText-0.9.2/website/static/docs/en/html/search/all_7.html  \r\n",
      "  inflating: fastText-0.9.2/website/static/docs/en/html/search/all_7.js  \r\n",
      "  inflating: fastText-0.9.2/website/static/docs/en/html/search/all_8.html  \r\n",
      "  inflating: fastText-0.9.2/website/static/docs/en/html/search/all_8.js  \r\n",
      "  inflating: fastText-0.9.2/website/static/docs/en/html/search/all_9.html  \r\n",
      "  inflating: fastText-0.9.2/website/static/docs/en/html/search/all_9.js  \r\n",
      "  inflating: fastText-0.9.2/website/static/docs/en/html/search/all_a.html  \r\n",
      "  inflating: fastText-0.9.2/website/static/docs/en/html/search/all_a.js  \r\n",
      "  inflating: fastText-0.9.2/website/static/docs/en/html/search/all_b.html  \r\n",
      "  inflating: fastText-0.9.2/website/static/docs/en/html/search/all_b.js  \r\n",
      "  inflating: fastText-0.9.2/website/static/docs/en/html/search/all_c.html  \r\n",
      "  inflating: fastText-0.9.2/website/static/docs/en/html/search/all_c.js  \r\n",
      "  inflating: fastText-0.9.2/website/static/docs/en/html/search/all_d.html  \r\n",
      "  inflating: fastText-0.9.2/website/static/docs/en/html/search/all_d.js  \r\n",
      "  inflating: fastText-0.9.2/website/static/docs/en/html/search/all_e.html  \r\n",
      "  inflating: fastText-0.9.2/website/static/docs/en/html/search/all_e.js  \r\n",
      "  inflating: fastText-0.9.2/website/static/docs/en/html/search/all_f.html  \r\n",
      "  inflating: fastText-0.9.2/website/static/docs/en/html/search/all_f.js  \r\n",
      "  inflating: fastText-0.9.2/website/static/docs/en/html/search/classes_0.html  \r\n",
      "  inflating: fastText-0.9.2/website/static/docs/en/html/search/classes_0.js  \r\n",
      "  inflating: fastText-0.9.2/website/static/docs/en/html/search/classes_1.html  \r\n",
      "  inflating: fastText-0.9.2/website/static/docs/en/html/search/classes_1.js  \r\n",
      "  inflating: fastText-0.9.2/website/static/docs/en/html/search/classes_2.html  \r\n",
      "  inflating: fastText-0.9.2/website/static/docs/en/html/search/classes_2.js  \r\n",
      "  inflating: fastText-0.9.2/website/static/docs/en/html/search/classes_3.html  \r\n",
      "  inflating: fastText-0.9.2/website/static/docs/en/html/search/classes_3.js  \r\n",
      "  inflating: fastText-0.9.2/website/static/docs/en/html/search/classes_4.html  \r\n",
      "  inflating: fastText-0.9.2/website/static/docs/en/html/search/classes_4.js  \r\n",
      "  inflating: fastText-0.9.2/website/static/docs/en/html/search/classes_5.html  \r\n",
      "  inflating: fastText-0.9.2/website/static/docs/en/html/search/classes_5.js  \r\n",
      "  inflating: fastText-0.9.2/website/static/docs/en/html/search/classes_6.html  \r\n",
      "  inflating: fastText-0.9.2/website/static/docs/en/html/search/classes_6.js  \r\n",
      "  inflating: fastText-0.9.2/website/static/docs/en/html/search/classes_7.html  \r\n",
      "  inflating: fastText-0.9.2/website/static/docs/en/html/search/classes_7.js  \r\n",
      "  inflating: fastText-0.9.2/website/static/docs/en/html/search/classes_8.html  \r\n",
      "  inflating: fastText-0.9.2/website/static/docs/en/html/search/classes_8.js  \r\n",
      " extracting: fastText-0.9.2/website/static/docs/en/html/search/close.png  \r\n",
      "  inflating: fastText-0.9.2/website/static/docs/en/html/search/defines_0.html  \r\n",
      "  inflating: fastText-0.9.2/website/static/docs/en/html/search/defines_0.js  \r\n",
      "  inflating: fastText-0.9.2/website/static/docs/en/html/search/defines_1.html  \r\n",
      "  inflating: fastText-0.9.2/website/static/docs/en/html/search/defines_1.js  \r\n",
      "  inflating: fastText-0.9.2/website/static/docs/en/html/search/defines_2.html  \r\n",
      "  inflating: fastText-0.9.2/website/static/docs/en/html/search/defines_2.js  \r\n",
      "  inflating: fastText-0.9.2/website/static/docs/en/html/search/defines_3.html  \r\n",
      "  inflating: fastText-0.9.2/website/static/docs/en/html/search/defines_3.js  \r\n",
      "  inflating: fastText-0.9.2/website/static/docs/en/html/search/enums_0.html  \r\n",
      "  inflating: fastText-0.9.2/website/static/docs/en/html/search/enums_0.js  \r\n",
      "  inflating: fastText-0.9.2/website/static/docs/en/html/search/enums_1.html  \r\n",
      "  inflating: fastText-0.9.2/website/static/docs/en/html/search/enums_1.js  \r\n",
      "  inflating: fastText-0.9.2/website/static/docs/en/html/search/enums_2.html  \r\n",
      "  inflating: fastText-0.9.2/website/static/docs/en/html/search/enums_2.js  \r\n",
      "  inflating: fastText-0.9.2/website/static/docs/en/html/search/enumvalues_0.html  \r\n",
      "  inflating: fastText-0.9.2/website/static/docs/en/html/search/enumvalues_0.js  \r\n",
      "  inflating: fastText-0.9.2/website/static/docs/en/html/search/enumvalues_1.html  \r\n",
      "  inflating: fastText-0.9.2/website/static/docs/en/html/search/enumvalues_1.js  \r\n",
      "  inflating: fastText-0.9.2/website/static/docs/en/html/search/enumvalues_2.html  \r\n",
      "  inflating: fastText-0.9.2/website/static/docs/en/html/search/enumvalues_2.js  \r\n",
      "  inflating: fastText-0.9.2/website/static/docs/en/html/search/enumvalues_3.html  \r\n",
      "  inflating: fastText-0.9.2/website/static/docs/en/html/search/enumvalues_3.js  \r\n",
      "  inflating: fastText-0.9.2/website/static/docs/en/html/search/enumvalues_4.html  \r\n",
      "  inflating: fastText-0.9.2/website/static/docs/en/html/search/enumvalues_4.js  \r\n",
      "  inflating: fastText-0.9.2/website/static/docs/en/html/search/enumvalues_5.html  \r\n",
      "  inflating: fastText-0.9.2/website/static/docs/en/html/search/enumvalues_5.js  \r\n",
      "  inflating: fastText-0.9.2/website/static/docs/en/html/search/files_0.html  \r\n",
      "  inflating: fastText-0.9.2/website/static/docs/en/html/search/files_0.js  \r\n",
      "  inflating: fastText-0.9.2/website/static/docs/en/html/search/files_1.html  \r\n",
      "  inflating: fastText-0.9.2/website/static/docs/en/html/search/files_1.js  \r\n",
      "  inflating: fastText-0.9.2/website/static/docs/en/html/search/files_2.html  \r\n",
      "  inflating: fastText-0.9.2/website/static/docs/en/html/search/files_2.js  \r\n",
      "  inflating: fastText-0.9.2/website/static/docs/en/html/search/files_3.html  \r\n",
      "  inflating: fastText-0.9.2/website/static/docs/en/html/search/files_3.js  \r\n",
      "  inflating: fastText-0.9.2/website/static/docs/en/html/search/files_4.html  \r\n",
      "  inflating: fastText-0.9.2/website/static/docs/en/html/search/files_4.js  \r\n",
      "  inflating: fastText-0.9.2/website/static/docs/en/html/search/files_5.html  \r\n",
      "  inflating: fastText-0.9.2/website/static/docs/en/html/search/files_5.js  \r\n",
      "  inflating: fastText-0.9.2/website/static/docs/en/html/search/files_6.html  \r\n",
      "  inflating: fastText-0.9.2/website/static/docs/en/html/search/files_6.js  \r\n",
      "  inflating: fastText-0.9.2/website/static/docs/en/html/search/files_7.html  \r\n",
      "  inflating: fastText-0.9.2/website/static/docs/en/html/search/files_7.js  \r\n",
      "  inflating: fastText-0.9.2/website/static/docs/en/html/search/files_8.html  \r\n",
      "  inflating: fastText-0.9.2/website/static/docs/en/html/search/files_8.js  \r\n",
      "  inflating: fastText-0.9.2/website/static/docs/en/html/search/functions_0.html  \r\n",
      "  inflating: fastText-0.9.2/website/static/docs/en/html/search/functions_0.js  \r\n",
      "  inflating: fastText-0.9.2/website/static/docs/en/html/search/functions_1.html  \r\n",
      "  inflating: fastText-0.9.2/website/static/docs/en/html/search/functions_1.js  \r\n",
      "  inflating: fastText-0.9.2/website/static/docs/en/html/search/functions_10.html  \r\n",
      "  inflating: fastText-0.9.2/website/static/docs/en/html/search/functions_10.js  \r\n",
      "  inflating: fastText-0.9.2/website/static/docs/en/html/search/functions_11.html  \r\n",
      "  inflating: fastText-0.9.2/website/static/docs/en/html/search/functions_11.js  \r\n",
      "  inflating: fastText-0.9.2/website/static/docs/en/html/search/functions_12.html  \r\n",
      "  inflating: fastText-0.9.2/website/static/docs/en/html/search/functions_12.js  \r\n",
      "  inflating: fastText-0.9.2/website/static/docs/en/html/search/functions_13.html  \r\n",
      "  inflating: fastText-0.9.2/website/static/docs/en/html/search/functions_13.js  \r\n",
      "  inflating: fastText-0.9.2/website/static/docs/en/html/search/functions_14.html  \r\n",
      "  inflating: fastText-0.9.2/website/static/docs/en/html/search/functions_14.js  \r\n",
      "  inflating: fastText-0.9.2/website/static/docs/en/html/search/functions_15.html  \r\n",
      "  inflating: fastText-0.9.2/website/static/docs/en/html/search/functions_15.js  \r\n",
      "  inflating: fastText-0.9.2/website/static/docs/en/html/search/functions_16.html  \r\n",
      "  inflating: fastText-0.9.2/website/static/docs/en/html/search/functions_16.js  \r\n",
      "  inflating: fastText-0.9.2/website/static/docs/en/html/search/functions_17.html  \r\n",
      "  inflating: fastText-0.9.2/website/static/docs/en/html/search/functions_17.js  \r\n",
      "  inflating: fastText-0.9.2/website/static/docs/en/html/search/functions_2.html  \r\n",
      "  inflating: fastText-0.9.2/website/static/docs/en/html/search/functions_2.js  \r\n",
      "  inflating: fastText-0.9.2/website/static/docs/en/html/search/functions_3.html  \r\n",
      "  inflating: fastText-0.9.2/website/static/docs/en/html/search/functions_3.js  \r\n",
      "  inflating: fastText-0.9.2/website/static/docs/en/html/search/functions_4.html  \r\n",
      "  inflating: fastText-0.9.2/website/static/docs/en/html/search/functions_4.js  \r\n",
      "  inflating: fastText-0.9.2/website/static/docs/en/html/search/functions_5.html  \r\n",
      "  inflating: fastText-0.9.2/website/static/docs/en/html/search/functions_5.js  \r\n",
      "  inflating: fastText-0.9.2/website/static/docs/en/html/search/functions_6.html  \r\n",
      "  inflating: fastText-0.9.2/website/static/docs/en/html/search/functions_6.js  \r\n",
      "  inflating: fastText-0.9.2/website/static/docs/en/html/search/functions_7.html  \r\n",
      "  inflating: fastText-0.9.2/website/static/docs/en/html/search/functions_7.js  \r\n",
      "  inflating: fastText-0.9.2/website/static/docs/en/html/search/functions_8.html  \r\n",
      "  inflating: fastText-0.9.2/website/static/docs/en/html/search/functions_8.js  \r\n",
      "  inflating: fastText-0.9.2/website/static/docs/en/html/search/functions_9.html  \r\n",
      "  inflating: fastText-0.9.2/website/static/docs/en/html/search/functions_9.js  \r\n",
      "  inflating: fastText-0.9.2/website/static/docs/en/html/search/functions_a.html  \r\n",
      "  inflating: fastText-0.9.2/website/static/docs/en/html/search/functions_a.js  \r\n",
      "  inflating: fastText-0.9.2/website/static/docs/en/html/search/functions_b.html  \r\n",
      "  inflating: fastText-0.9.2/website/static/docs/en/html/search/functions_b.js  \r\n",
      "  inflating: fastText-0.9.2/website/static/docs/en/html/search/functions_c.html  \r\n",
      "  inflating: fastText-0.9.2/website/static/docs/en/html/search/functions_c.js  \r\n",
      "  inflating: fastText-0.9.2/website/static/docs/en/html/search/functions_d.html  \r\n",
      "  inflating: fastText-0.9.2/website/static/docs/en/html/search/functions_d.js  \r\n",
      "  inflating: fastText-0.9.2/website/static/docs/en/html/search/functions_e.html  \r\n",
      "  inflating: fastText-0.9.2/website/static/docs/en/html/search/functions_e.js  \r\n",
      "  inflating: fastText-0.9.2/website/static/docs/en/html/search/functions_f.html  \r\n",
      "  inflating: fastText-0.9.2/website/static/docs/en/html/search/functions_f.js  \r\n",
      " extracting: fastText-0.9.2/website/static/docs/en/html/search/mag_sel.png  \r\n",
      "  inflating: fastText-0.9.2/website/static/docs/en/html/search/namespaces_0.html  \r\n",
      "  inflating: fastText-0.9.2/website/static/docs/en/html/search/namespaces_0.js  \r\n",
      "  inflating: fastText-0.9.2/website/static/docs/en/html/search/nomatches.html  \r\n",
      "  inflating: fastText-0.9.2/website/static/docs/en/html/search/search.css  \r\n",
      "  inflating: fastText-0.9.2/website/static/docs/en/html/search/search.js  \r\n",
      " extracting: fastText-0.9.2/website/static/docs/en/html/search/search_l.png  \r\n",
      "  inflating: fastText-0.9.2/website/static/docs/en/html/search/search_m.png  \r\n",
      " extracting: fastText-0.9.2/website/static/docs/en/html/search/search_r.png  \r\n",
      "  inflating: fastText-0.9.2/website/static/docs/en/html/search/searchdata.js  \r\n",
      "  inflating: fastText-0.9.2/website/static/docs/en/html/search/typedefs_0.html  \r\n",
      "  inflating: fastText-0.9.2/website/static/docs/en/html/search/typedefs_0.js  \r\n",
      "  inflating: fastText-0.9.2/website/static/docs/en/html/search/typedefs_1.html  \r\n",
      "  inflating: fastText-0.9.2/website/static/docs/en/html/search/typedefs_1.js  \r\n",
      "  inflating: fastText-0.9.2/website/static/docs/en/html/search/variables_0.html  \r\n",
      "  inflating: fastText-0.9.2/website/static/docs/en/html/search/variables_0.js  \r\n",
      "  inflating: fastText-0.9.2/website/static/docs/en/html/search/variables_1.html  \r\n",
      "  inflating: fastText-0.9.2/website/static/docs/en/html/search/variables_1.js  \r\n",
      "  inflating: fastText-0.9.2/website/static/docs/en/html/search/variables_10.html  \r\n",
      "  inflating: fastText-0.9.2/website/static/docs/en/html/search/variables_10.js  \r\n",
      "  inflating: fastText-0.9.2/website/static/docs/en/html/search/variables_11.html  \r\n",
      "  inflating: fastText-0.9.2/website/static/docs/en/html/search/variables_11.js  \r\n",
      "  inflating: fastText-0.9.2/website/static/docs/en/html/search/variables_12.html  \r\n",
      "  inflating: fastText-0.9.2/website/static/docs/en/html/search/variables_12.js  \r\n",
      "  inflating: fastText-0.9.2/website/static/docs/en/html/search/variables_13.html  \r\n",
      "  inflating: fastText-0.9.2/website/static/docs/en/html/search/variables_13.js  \r\n",
      "  inflating: fastText-0.9.2/website/static/docs/en/html/search/variables_2.html  \r\n",
      "  inflating: fastText-0.9.2/website/static/docs/en/html/search/variables_2.js  \r\n",
      "  inflating: fastText-0.9.2/website/static/docs/en/html/search/variables_3.html  \r\n",
      "  inflating: fastText-0.9.2/website/static/docs/en/html/search/variables_3.js  \r\n",
      "  inflating: fastText-0.9.2/website/static/docs/en/html/search/variables_4.html  \r\n",
      "  inflating: fastText-0.9.2/website/static/docs/en/html/search/variables_4.js  \r\n",
      "  inflating: fastText-0.9.2/website/static/docs/en/html/search/variables_5.html  \r\n",
      "  inflating: fastText-0.9.2/website/static/docs/en/html/search/variables_5.js  \r\n",
      "  inflating: fastText-0.9.2/website/static/docs/en/html/search/variables_6.html  \r\n",
      "  inflating: fastText-0.9.2/website/static/docs/en/html/search/variables_6.js  \r\n",
      "  inflating: fastText-0.9.2/website/static/docs/en/html/search/variables_7.html  \r\n",
      "  inflating: fastText-0.9.2/website/static/docs/en/html/search/variables_7.js  \r\n",
      "  inflating: fastText-0.9.2/website/static/docs/en/html/search/variables_8.html  \r\n",
      "  inflating: fastText-0.9.2/website/static/docs/en/html/search/variables_8.js  \r\n",
      "  inflating: fastText-0.9.2/website/static/docs/en/html/search/variables_9.html  \r\n",
      "  inflating: fastText-0.9.2/website/static/docs/en/html/search/variables_9.js  \r\n",
      "  inflating: fastText-0.9.2/website/static/docs/en/html/search/variables_a.html  \r\n",
      "  inflating: fastText-0.9.2/website/static/docs/en/html/search/variables_a.js  \r\n",
      "  inflating: fastText-0.9.2/website/static/docs/en/html/search/variables_b.html  \r\n",
      "  inflating: fastText-0.9.2/website/static/docs/en/html/search/variables_b.js  \r\n",
      "  inflating: fastText-0.9.2/website/static/docs/en/html/search/variables_c.html  \r\n",
      "  inflating: fastText-0.9.2/website/static/docs/en/html/search/variables_c.js  \r\n",
      "  inflating: fastText-0.9.2/website/static/docs/en/html/search/variables_d.html  \r\n",
      "  inflating: fastText-0.9.2/website/static/docs/en/html/search/variables_d.js  \r\n",
      "  inflating: fastText-0.9.2/website/static/docs/en/html/search/variables_e.html  \r\n",
      "  inflating: fastText-0.9.2/website/static/docs/en/html/search/variables_e.js  \r\n",
      "  inflating: fastText-0.9.2/website/static/docs/en/html/search/variables_f.html  \r\n",
      "  inflating: fastText-0.9.2/website/static/docs/en/html/search/variables_f.js  \r\n",
      "  inflating: fastText-0.9.2/website/static/docs/en/html/splitbar.png  \r\n",
      "  inflating: fastText-0.9.2/website/static/docs/en/html/structfasttext_1_1Node-members.html  \r\n",
      "  inflating: fastText-0.9.2/website/static/docs/en/html/structfasttext_1_1Node.html  \r\n",
      "  inflating: fastText-0.9.2/website/static/docs/en/html/structfasttext_1_1Node.js  \r\n",
      "  inflating: fastText-0.9.2/website/static/docs/en/html/structfasttext_1_1entry-members.html  \r\n",
      "  inflating: fastText-0.9.2/website/static/docs/en/html/structfasttext_1_1entry.html  \r\n",
      "  inflating: fastText-0.9.2/website/static/docs/en/html/structfasttext_1_1entry.js  \r\n",
      " extracting: fastText-0.9.2/website/static/docs/en/html/sync_off.png  \r\n",
      " extracting: fastText-0.9.2/website/static/docs/en/html/sync_on.png  \r\n",
      " extracting: fastText-0.9.2/website/static/docs/en/html/tab_a.png  \r\n",
      " extracting: fastText-0.9.2/website/static/docs/en/html/tab_b.png  \r\n",
      " extracting: fastText-0.9.2/website/static/docs/en/html/tab_h.png  \r\n",
      " extracting: fastText-0.9.2/website/static/docs/en/html/tab_s.png  \r\n",
      "  inflating: fastText-0.9.2/website/static/docs/en/html/tabs.css  \r\n",
      "  inflating: fastText-0.9.2/website/static/docs/en/html/utils_8cc.html  \r\n",
      "  inflating: fastText-0.9.2/website/static/docs/en/html/utils_8cc.js  \r\n",
      "  inflating: fastText-0.9.2/website/static/docs/en/html/utils_8h.html  \r\n",
      "  inflating: fastText-0.9.2/website/static/docs/en/html/utils_8h.js  \r\n",
      "  inflating: fastText-0.9.2/website/static/docs/en/html/utils_8h_source.html  \r\n",
      "  inflating: fastText-0.9.2/website/static/docs/en/html/vector_8cc.html  \r\n",
      "  inflating: fastText-0.9.2/website/static/docs/en/html/vector_8cc.js  \r\n",
      "  inflating: fastText-0.9.2/website/static/docs/en/html/vector_8h.html  \r\n",
      "  inflating: fastText-0.9.2/website/static/docs/en/html/vector_8h.js  \r\n",
      "  inflating: fastText-0.9.2/website/static/docs/en/html/vector_8h_source.html  \r\n",
      "  inflating: fastText-0.9.2/website/static/fasttext.css  \r\n",
      "   creating: fastText-0.9.2/website/static/img/\r\n",
      "   creating: fastText-0.9.2/website/static/img/authors/\r\n",
      "  inflating: fastText-0.9.2/website/static/img/authors/armand_joulin.jpg  \r\n",
      "  inflating: fastText-0.9.2/website/static/img/authors/christian_puhrsch.png  \r\n",
      "  inflating: fastText-0.9.2/website/static/img/authors/edouard_grave.jpeg  \r\n",
      "  inflating: fastText-0.9.2/website/static/img/authors/piotr_bojanowski.jpg  \r\n"
     ]
    },
    {
     "name": "stdout",
     "output_type": "stream",
     "text": [
      "  inflating: fastText-0.9.2/website/static/img/authors/tomas_mikolov.jpg  \n",
      "   creating: fastText-0.9.2/website/static/img/blog/\n",
      "  inflating: fastText-0.9.2/website/static/img/blog/2016-08-18-blog-post-img1.png  \n",
      "  inflating: fastText-0.9.2/website/static/img/blog/2016-08-18-blog-post-img2.png  \n",
      "  inflating: fastText-0.9.2/website/static/img/blog/2017-05-02-blog-post-img1.jpg  \n",
      "  inflating: fastText-0.9.2/website/static/img/blog/2017-05-02-blog-post-img2.jpg  \n",
      "  inflating: fastText-0.9.2/website/static/img/blog/2017-10-02-blog-post-img1.png  \n",
      "  inflating: fastText-0.9.2/website/static/img/cbo_vs_skipgram.png  \n",
      "  inflating: fastText-0.9.2/website/static/img/fasttext-icon-api.png  \n",
      "  inflating: fastText-0.9.2/website/static/img/fasttext-icon-bg-web.png  \n",
      "  inflating: fastText-0.9.2/website/static/img/fasttext-icon-color-square.png  \n",
      "  inflating: fastText-0.9.2/website/static/img/fasttext-icon-color-web.png  \n",
      "  inflating: fastText-0.9.2/website/static/img/fasttext-icon-faq.png  \n",
      "  inflating: fastText-0.9.2/website/static/img/fasttext-icon-tutorial.png  \n",
      "  inflating: fastText-0.9.2/website/static/img/fasttext-icon-white-web.png  \n",
      "  inflating: fastText-0.9.2/website/static/img/fasttext-logo-color-web.png  \n",
      "  inflating: fastText-0.9.2/website/static/img/fasttext-logo-white-web.png  \n",
      "  inflating: fastText-0.9.2/website/static/img/logo-color.png  \n",
      "  inflating: fastText-0.9.2/website/static/img/model-black.png  \n",
      "  inflating: fastText-0.9.2/website/static/img/model-blue.png  \n",
      "  inflating: fastText-0.9.2/website/static/img/model-red.png  \n",
      "  inflating: fastText-0.9.2/website/static/img/ogimage.png  \n",
      "  inflating: fastText-0.9.2/website/static/img/oss_logo.png  \n",
      "  inflating: fastText-0.9.2/website/static/tabber.js  \n",
      "  inflating: fastText-0.9.2/wikifil.pl  \n",
      "  inflating: fastText-0.9.2/word-vector-example.sh  \n",
      "c++ -pthread -std=c++11 -march=native -O3 -funroll-loops -DNDEBUG -c src/args.cc\n",
      "c++ -pthread -std=c++11 -march=native -O3 -funroll-loops -DNDEBUG -c src/autotune.cc\n",
      "c++ -pthread -std=c++11 -march=native -O3 -funroll-loops -DNDEBUG -c src/matrix.cc\n",
      "c++ -pthread -std=c++11 -march=native -O3 -funroll-loops -DNDEBUG -c src/dictionary.cc\n",
      "c++ -pthread -std=c++11 -march=native -O3 -funroll-loops -DNDEBUG -c src/loss.cc\n",
      "c++ -pthread -std=c++11 -march=native -O3 -funroll-loops -DNDEBUG -c src/productquantizer.cc\n",
      "c++ -pthread -std=c++11 -march=native -O3 -funroll-loops -DNDEBUG -c src/densematrix.cc\n",
      "c++ -pthread -std=c++11 -march=native -O3 -funroll-loops -DNDEBUG -c src/quantmatrix.cc\n",
      "c++ -pthread -std=c++11 -march=native -O3 -funroll-loops -DNDEBUG -c src/vector.cc\n",
      "c++ -pthread -std=c++11 -march=native -O3 -funroll-loops -DNDEBUG -c src/model.cc\n",
      "c++ -pthread -std=c++11 -march=native -O3 -funroll-loops -DNDEBUG -c src/utils.cc\n",
      "c++ -pthread -std=c++11 -march=native -O3 -funroll-loops -DNDEBUG -c src/meter.cc\n",
      "c++ -pthread -std=c++11 -march=native -O3 -funroll-loops -DNDEBUG -c src/fasttext.cc\n",
      "c++ -pthread -std=c++11 -march=native -O3 -funroll-loops -DNDEBUG args.o autotune.o matrix.o dictionary.o loss.o productquantizer.o densematrix.o quantmatrix.o vector.o model.o utils.o meter.o fasttext.o src/main.cc -o fasttext\n",
      "Defaulting to user installation because normal site-packages is not writeable\n",
      "Processing /home/token/Bureau/nlp_symbolic/fastText-0.9.2\n",
      "\u001b[33m  DEPRECATION: A future pip version will change local packages to be built in-place without first copying to a temporary directory. We recommend you use --use-feature=in-tree-build to test your packages with this new behavior before it becomes the default.\n",
      "   pip 21.3 will remove support for this functionality. You can find discussion regarding this at https://github.com/pypa/pip/issues/7555.\u001b[0m\n",
      "Requirement already satisfied: numpy in /home/token/.local/lib/python3.9/site-packages (from fasttext==0.9.2) (1.19.5)\n",
      "Requirement already satisfied: pybind11>=2.2 in /home/token/.local/lib/python3.9/site-packages (from fasttext==0.9.2) (2.7.1)\n",
      "Requirement already satisfied: setuptools>=0.7.0 in /usr/lib/python3/dist-packages (from fasttext==0.9.2) (52.0.0)\n",
      "Building wheels for collected packages: fasttext\n",
      "  Building wheel for fasttext (setup.py) ... \u001b[?25ldone\n",
      "\u001b[?25h  Created wheel for fasttext: filename=fasttext-0.9.2-cp39-cp39-linux_x86_64.whl size=4168077 sha256=1ca70b28a21080e28b494bc3541556b378063fc55f6f5d3b9a5df3ec085e2428\n",
      "  Stored in directory: /home/token/.cache/pip/wheels/05/02/87/cedb84c3bafd59b4d41ab1fa00207f56e80b5137c88cb55d7e\n",
      "Successfully built fasttext\n",
      "Installing collected packages: fasttext\n",
      "  Attempting uninstall: fasttext\n",
      "    Found existing installation: fasttext 0.9.2\n",
      "    Uninstalling fasttext-0.9.2:\n",
      "      Successfully uninstalled fasttext-0.9.2\n",
      "Successfully installed fasttext-0.9.2\n"
     ]
    }
   ],
   "source": [
    "!wget https://github.com/facebookresearch/fastText/archive/v0.9.2.zip\n",
    "!unzip v0.9.2.zip\n",
    "!cd fastText-0.9.2 && make && pip install ."
   ]
  },
  {
   "cell_type": "code",
   "execution_count": 3,
   "id": "b5d4a709",
   "metadata": {},
   "outputs": [],
   "source": [
    "import fasttext"
   ]
  },
  {
   "cell_type": "markdown",
   "id": "8a6361f4",
   "metadata": {},
   "source": [
    "### Download directly with command line the english dataset"
   ]
  },
  {
   "cell_type": "code",
   "execution_count": 5,
   "id": "8f4592f3",
   "metadata": {},
   "outputs": [
    {
     "name": "stdout",
     "output_type": "stream",
     "text": [
      "Downloading https://dl.fbaipublicfiles.com/fasttext/vectors-crawl/cc.en.300.bin.gz\n",
      " (100.00%) [==================================================>]>                                            ]======>                                       ]===============================>              ]=======================================>      ]========================================>     ]===========================================>  ]============================> ]\n"
     ]
    }
   ],
   "source": [
    "!cd fastText-0.9.2 && ./download_model.py en"
   ]
  },
  {
   "cell_type": "markdown",
   "id": "c1fdd649",
   "metadata": {},
   "source": [
    "### Import HuggingFace"
   ]
  },
  {
   "cell_type": "code",
   "execution_count": 4,
   "id": "9a7fda8a",
   "metadata": {},
   "outputs": [
    {
     "name": "stdout",
     "output_type": "stream",
     "text": [
      "Defaulting to user installation because normal site-packages is not writeable\n",
      "Requirement already satisfied: datasets in /home/token/.local/lib/python3.9/site-packages (1.12.1)\n",
      "Requirement already satisfied: numpy>=1.17 in /home/token/.local/lib/python3.9/site-packages (from datasets) (1.19.5)\n",
      "Requirement already satisfied: aiohttp in /home/token/.local/lib/python3.9/site-packages (from datasets) (3.7.4.post0)\n",
      "Requirement already satisfied: dill in /home/token/.local/lib/python3.9/site-packages (from datasets) (0.3.4)\n",
      "Requirement already satisfied: multiprocess in /home/token/.local/lib/python3.9/site-packages (from datasets) (0.70.12.2)\n",
      "Requirement already satisfied: fsspec[http]>=2021.05.0 in /home/token/.local/lib/python3.9/site-packages (from datasets) (2021.9.0)\n",
      "Requirement already satisfied: tqdm>=4.62.1 in /home/token/.local/lib/python3.9/site-packages (from datasets) (4.62.3)\n",
      "Requirement already satisfied: requests>=2.19.0 in /usr/lib/python3/dist-packages (from datasets) (2.25.1)\n",
      "Requirement already satisfied: huggingface-hub<0.1.0,>=0.0.14 in /home/token/.local/lib/python3.9/site-packages (from datasets) (0.0.16)\n",
      "Requirement already satisfied: pyarrow!=4.0.0,>=1.0.0 in /home/token/.local/lib/python3.9/site-packages (from datasets) (5.0.0)\n",
      "Requirement already satisfied: xxhash in /home/token/.local/lib/python3.9/site-packages (from datasets) (2.0.2)\n",
      "Requirement already satisfied: pandas in /home/token/.local/lib/python3.9/site-packages (from datasets) (1.2.4)\n",
      "Requirement already satisfied: packaging in /home/token/.local/lib/python3.9/site-packages (from datasets) (20.9)\n",
      "Requirement already satisfied: filelock in /home/token/.local/lib/python3.9/site-packages (from huggingface-hub<0.1.0,>=0.0.14->datasets) (3.0.12)\n",
      "Requirement already satisfied: typing-extensions in /home/token/.local/lib/python3.9/site-packages (from huggingface-hub<0.1.0,>=0.0.14->datasets) (3.7.4.3)\n",
      "Requirement already satisfied: pyparsing>=2.0.2 in /home/token/.local/lib/python3.9/site-packages (from packaging->datasets) (2.4.7)\n",
      "Requirement already satisfied: yarl<2.0,>=1.0 in /home/token/.local/lib/python3.9/site-packages (from aiohttp->datasets) (1.6.3)\n",
      "Requirement already satisfied: chardet<5.0,>=2.0 in /usr/lib/python3/dist-packages (from aiohttp->datasets) (4.0.0)\n",
      "Requirement already satisfied: async-timeout<4.0,>=3.0 in /home/token/.local/lib/python3.9/site-packages (from aiohttp->datasets) (3.0.1)\n",
      "Requirement already satisfied: attrs>=17.3.0 in /home/token/.local/lib/python3.9/site-packages (from aiohttp->datasets) (21.2.0)\n",
      "Requirement already satisfied: multidict<7.0,>=4.5 in /home/token/.local/lib/python3.9/site-packages (from aiohttp->datasets) (5.1.0)\n",
      "Requirement already satisfied: idna>=2.0 in /usr/lib/python3/dist-packages (from yarl<2.0,>=1.0->aiohttp->datasets) (2.10)\n",
      "Requirement already satisfied: python-dateutil>=2.7.3 in /usr/lib/python3/dist-packages (from pandas->datasets) (2.8.1)\n",
      "Requirement already satisfied: pytz>=2017.3 in /usr/lib/python3/dist-packages (from pandas->datasets) (2021.1)\n",
      "Note: you may need to restart the kernel to use updated packages.\n"
     ]
    }
   ],
   "source": [
    "pip install datasets"
   ]
  },
  {
   "cell_type": "markdown",
   "id": "ed519ac1",
   "metadata": {},
   "source": [
    "### Loading the dataset \"IMDB\""
   ]
  },
  {
   "cell_type": "code",
   "execution_count": 5,
   "id": "2d9236dd",
   "metadata": {},
   "outputs": [],
   "source": [
    "from datasets import load_dataset"
   ]
  },
  {
   "cell_type": "markdown",
   "id": "0345ca03",
   "metadata": {},
   "source": [
    "Using the split argument, we can split the imdb into two separate dataset."
   ]
  },
  {
   "cell_type": "code",
   "execution_count": 6,
   "id": "91a2393f",
   "metadata": {
    "scrolled": true
   },
   "outputs": [
    {
     "name": "stderr",
     "output_type": "stream",
     "text": [
      "Reusing dataset imdb (/home/token/.cache/huggingface/datasets/imdb/plain_text/1.0.0/e3c66f1788a67a89c7058d97ff62b6c30531e05b549de56d3ab91891f0561f9a)\n",
      "Reusing dataset imdb (/home/token/.cache/huggingface/datasets/imdb/plain_text/1.0.0/e3c66f1788a67a89c7058d97ff62b6c30531e05b549de56d3ab91891f0561f9a)\n"
     ]
    }
   ],
   "source": [
    "train_dataset = load_dataset('imdb', split='train')\n",
    "test_dataset = load_dataset('imdb', split='test')"
   ]
  },
  {
   "cell_type": "markdown",
   "id": "fb8c693f",
   "metadata": {},
   "source": [
    "*train_dataset* is a class with two attributes :\n",
    "- Features which contains two features : text and label (our x_train and our y_train)\n",
    "- The number of rows in our dataset"
   ]
  },
  {
   "cell_type": "code",
   "execution_count": 7,
   "id": "e9af32b7",
   "metadata": {
    "scrolled": true
   },
   "outputs": [
    {
     "name": "stdout",
     "output_type": "stream",
     "text": [
      "Dataset({\n",
      "    features: ['text', 'label'],\n",
      "    num_rows: 25000\n",
      "})\n"
     ]
    }
   ],
   "source": [
    "print(train_dataset)"
   ]
  },
  {
   "cell_type": "markdown",
   "id": "1d74d6e0",
   "metadata": {},
   "source": [
    "If we take the first sample of our training dataset, we can see the first review and the label (positive or negative) according to that review."
   ]
  },
  {
   "cell_type": "code",
   "execution_count": 121,
   "id": "9b931fb6",
   "metadata": {},
   "outputs": [
    {
     "name": "stdout",
     "output_type": "stream",
     "text": [
      "{'text': 'Bromwell High is a cartoon comedy. It ran at the same time as some other programs about school life, such as \"Teachers\". My 35 years in the teaching profession lead me to believe that Bromwell High\\'s satire is much closer to reality than is \"Teachers\". The scramble to survive financially, the insightful students who can see right through their pathetic teachers\\' pomp, the pettiness of the whole situation, all remind me of the schools I knew and their students. When I saw the episode in which a student repeatedly tried to burn down the school, I immediately recalled ......... at .......... High. A classic line: INSPECTOR: I\\'m here to sack one of your teachers. STUDENT: Welcome to Bromwell High. I expect that many adults of my age think that Bromwell High is far fetched. What a pity that it isn\\'t!', 'label': 1}\n"
     ]
    }
   ],
   "source": [
    "print(train_dataset[0])"
   ]
  },
  {
   "cell_type": "markdown",
   "id": "e19914e4",
   "metadata": {},
   "source": [
    "### Preprocessing the dataset"
   ]
  },
  {
   "cell_type": "markdown",
   "id": "581d2f97",
   "metadata": {},
   "source": [
    "With the review we previously saw, the review are definitely not preprocessed. There is still some html tags etc.. \n",
    "We definitely to work on those."
   ]
  },
  {
   "cell_type": "code",
   "execution_count": 10,
   "id": "635f5b7c",
   "metadata": {
    "scrolled": true
   },
   "outputs": [
    {
     "name": "stdout",
     "output_type": "stream",
     "text": [
      "Defaulting to user installation because normal site-packages is not writeable\n",
      "Requirement already satisfied: contractions in /home/token/.local/lib/python3.9/site-packages (0.0.52)\n",
      "Requirement already satisfied: textsearch>=0.0.21 in /home/token/.local/lib/python3.9/site-packages (from contractions) (0.0.21)\n",
      "Requirement already satisfied: pyahocorasick in /home/token/.local/lib/python3.9/site-packages (from textsearch>=0.0.21->contractions) (1.4.2)\n",
      "Requirement already satisfied: anyascii in /home/token/.local/lib/python3.9/site-packages (from textsearch>=0.0.21->contractions) (0.3.0)\n",
      "Defaulting to user installation because normal site-packages is not writeable\n",
      "Requirement already satisfied: beautifulsoup4 in /usr/lib/python3/dist-packages (4.9.3)\n",
      "Requirement already satisfied: soupsieve>1.2 in /usr/lib/python3/dist-packages (from beautifulsoup4) (2.2)\n"
     ]
    }
   ],
   "source": [
    "!pip install contractions\n",
    "!pip install beautifulsoup4\n",
    "!pip install nltk"
   ]
  },
  {
   "cell_type": "code",
   "execution_count": 11,
   "id": "e602a9f5",
   "metadata": {},
   "outputs": [],
   "source": [
    "import contractions\n",
    "from bs4 import BeautifulSoup\n",
    "import unicodedata\n",
    "import numpy as np\n",
    "import re\n",
    "from nltk.corpus import stopwords\n",
    "from nltk.tokenize import word_tokenize\n",
    "from nltk.stem import WordNetLemmatizer\n",
    "from nltk.tokenize import sent_tokenize\n",
    "from nltk import WordPunctTokenizer\n",
    "from nltk.stem import PorterStemmer\n",
    "\n",
    "def strip_html_tags(text: str) -> str:\n",
    "    '''\n",
    "    Strip html tags from the input text.\n",
    "\n",
    "            Parameters:\n",
    "                    text (str): A text.\n",
    "\n",
    "            Returns:\n",
    "                    stripped_text (str): Text completely stripped without html tags.\n",
    "    '''\n",
    "    soup = BeautifulSoup(text, \"html.parser\")\n",
    "    [s.extract() for s in soup(['iframe', 'script'])]\n",
    "    stripped_text = soup.get_text()\n",
    "    stripped_text = re.sub(r'[\\r|\\n|\\r\\n]+', '\\n', stripped_text)\n",
    "    return stripped_text\n",
    "\n",
    "def remove_accented_chars(text: str) -> str:\n",
    "    '''\n",
    "    Remove accented characters from the text.\n",
    "\n",
    "            Parameters:\n",
    "                    text (str): A text.\n",
    "\n",
    "            Returns:\n",
    "                    text (str): Text which does not contains accented characters.\n",
    "    '''\n",
    "    text = unicodedata.normalize('NFKD', text).encode('ascii', 'ignore').decode('utf-8', 'ignore')\n",
    "    return text\n",
    "\n",
    "def expand_contractions(text: str) -> str:\n",
    "    '''\n",
    "    Expand contractions like \"you're\" to \"you are\".\n",
    "\n",
    "            Parameters:\n",
    "                    text (str): A text.\n",
    "\n",
    "            Returns:\n",
    "                    text (str): Text with no contractions.\n",
    "    '''\n",
    "    return contractions.fix(text)\n",
    "\n",
    "def remove_special_characters(text: str , remove_digits: bool) -> str:\n",
    "    '''\n",
    "    Remove special characters from the text.\n",
    "\n",
    "            Parameters:\n",
    "                    text (str): A text.\n",
    "                    remove_digits (bool): True if you want to remove digits, else False.\n",
    "\n",
    "            Returns:\n",
    "                    text (str): Text which does not contains special characters (digits, etc...).\n",
    "    '''\n",
    "    pattern = r'[^a-zA-Z0-9\\s]' if not remove_digits else r'[^a-zA-Z\\s]'\n",
    "    text = re.sub(pattern, '', text)\n",
    "    return text\n",
    "\n",
    "def lemming(text: str, lemming: bool) -> str:\n",
    "    '''\n",
    "    The words in our text input will be lemmatized to their root form. \n",
    "    Furthermore, the stop words and the words with the length less than 4 will be removed from the corpus.\n",
    "\n",
    "            Parameters:\n",
    "                    text (str): A text.\n",
    "                    lemming (bool): True if you want the lemmitization, if not False.\n",
    "\n",
    "            Returns:\n",
    "                    text (str): Lemmed text.\n",
    "    '''\n",
    "    en_stop = set(nltk.corpus.stopwords.words('english'))\n",
    "    tokens = document.split()\n",
    "    tokens = [stemmer.lemmatize(word) for word in tokens]\n",
    "    tokens = [word for word in tokens if word not in en_stop]\n",
    "    tokens = [word for word in tokens if len(word) > 3]\n",
    "    preprocessed_text = ' '.join(tokens)\n",
    "    return preprocessed_text\n",
    "\n",
    "def stemming(text: str, stemming: bool) -> str:\n",
    "    '''\n",
    "    Stemming is the process of producing morphological variants of a root/base word.\n",
    "    We will use this function to do the same for our document.\n",
    "\n",
    "            Parameters:\n",
    "                    text (str): A text.\n",
    "                    lemming (bool): True if you want the stemmatization, if not False.\n",
    "\n",
    "            Returns:\n",
    "                    text (str): Stemmed text.\n",
    "    '''\n",
    "    ps = PorterStemmer()\n",
    "    tokens = document.split()\n",
    "    tokens = [ps.stem(word) for word in tokens]\n",
    "    preprocessed_text = ' '.join(tokens)\n",
    "    return preprocessed_text\n",
    "    \n",
    "def pre_process_document(document: str) -> str:\n",
    "    '''\n",
    "    Preprocess the document to remove all the unnecessary information.\n",
    "\n",
    "            Parameters:\n",
    "                    text (str): A text.\n",
    "\n",
    "            Returns:\n",
    "                    text (str): Text pre-processed.\n",
    "    '''\n",
    "    # strip HTML\n",
    "    document = strip_html_tags(document)\n",
    "    # lower case\n",
    "    document = document.lower()\n",
    "    # remove extra newlines (often might be present in really noisy text)\n",
    "    document = document.translate(document.maketrans(\"\\n\\t\\r\", \"   \"))\n",
    "    # remove accented characters\n",
    "    document = remove_accented_chars(document)\n",
    "    # expand contractions    \n",
    "    document = expand_contractions(document)  \n",
    "    # remove special characters and\\or digits    \n",
    "    # insert spaces between special characters to isolate them    \n",
    "    special_char_pattern = re.compile(r'([{.(-)}])')\n",
    "    document = special_char_pattern.sub(\" \\\\1 \", document)\n",
    "    document = remove_special_characters(document, True)  \n",
    "    # remove extra whitespace\n",
    "    document = re.sub(' +', ' ', document)\n",
    "    document = document.strip()\n",
    "    \n",
    "    return document\n",
    "\n",
    "\n",
    "pre_process_corpus = np.vectorize(pre_process_document)"
   ]
  },
  {
   "cell_type": "code",
   "execution_count": 12,
   "id": "ba2262ce",
   "metadata": {
    "scrolled": true
   },
   "outputs": [],
   "source": [
    "y_train = train_dataset['label']"
   ]
  },
  {
   "cell_type": "code",
   "execution_count": 13,
   "id": "3c142f44",
   "metadata": {},
   "outputs": [],
   "source": [
    "y_test = test_dataset['label']"
   ]
  },
  {
   "cell_type": "code",
   "execution_count": 102,
   "id": "f74d686a",
   "metadata": {},
   "outputs": [],
   "source": [
    "def create_imdb_train_file(train_dataset, y_train):\n",
    "    '''\n",
    "    Create the imdb train file according to the fasttext documentation.\n",
    "    \n",
    "             Parameters:\n",
    "                     train_dataset: Training dataset\n",
    "                     y_train : Label for the training dataset\n",
    "    '''\n",
    "    f = open(\"imdb_train.txt\", \"w\") \n",
    "    for i in range(train_dataset.num_rows):\n",
    "        if y_train[i] == 1:\n",
    "            f.write(\"__label__positive\" + \" \" + pre_process_document(train_dataset[i]['text']) + '\\n')\n",
    "        if y_train[i] == 0:\n",
    "            f.write(\"__label__negative\" + \" \" + pre_process_document(train_dataset[i]['text']) + '\\n')\n",
    "    f.close()"
   ]
  },
  {
   "cell_type": "code",
   "execution_count": 103,
   "id": "3660bc1b",
   "metadata": {},
   "outputs": [],
   "source": [
    "def create_imdb_test_file(test_dataset, y_test):\n",
    "    '''\n",
    "    Create the imdb test file according to the fasttext documentation.\n",
    "    \n",
    "             Parameters:\n",
    "                     test_dataset: Training dataset\n",
    "                     y_test: Label for the testing dataset\n",
    "    '''\n",
    "    f = open(\"imdb_test.txt\", \"w\") \n",
    "    for i in range(test_dataset.num_rows):\n",
    "        if y_test[i] == 1:\n",
    "            f.write(\"__label__positive\" + \" \" + pre_process_document(test_dataset[i]['text']) + '\\n')\n",
    "        if y_test[i] == 0:\n",
    "            f.write(\"__label__negative\" + \" \" + pre_process_document(test_dataset[i]['text']) + '\\n')\n",
    "    f.close()"
   ]
  },
  {
   "cell_type": "code",
   "execution_count": 104,
   "id": "8b2643aa",
   "metadata": {},
   "outputs": [],
   "source": [
    "def create_imdb_train_and_validation_file(train_dataset, y_train):\n",
    "    '''\n",
    "    Create the imdb validation file according to the fasttext documentation.\n",
    "    \n",
    "             Parameters:\n",
    "                     train_dataset: Training dataset\n",
    "                     y_train: Label for the training dataset\n",
    "    '''\n",
    "    i = 0\n",
    "    f = open(\"imdb_validation.txt\", \"w\") \n",
    "    for i in range(5000):\n",
    "        if y_train[i] == 1:\n",
    "            f.write(\"__label__positive\" + \" \" + pre_process_document(train_dataset[i]['text']) + '\\n')\n",
    "        if y_train[i] == 0:\n",
    "            f.write(\"__label__negative\" + \" \" + pre_process_document(train_dataset[i]['text']) + '\\n')\n",
    "    f.close()\n",
    "            \n",
    "    f = open(\"imdb_train_splited_with_the_validation.txt\", \"w\") \n",
    "    while i != train_dataset.num_rows:\n",
    "        if y_train[i] == 1:\n",
    "            f.write(\"__label__positive\" + \" \" + pre_process_document(train_dataset[i]['text']) + '\\n')\n",
    "        if y_train[i] == 0:\n",
    "            f.write(\"__label__negative\" + \" \" + pre_process_document(train_dataset[i]['text']) + '\\n')\n",
    "        i += 1\n",
    "    f.close()"
   ]
  },
  {
   "cell_type": "code",
   "execution_count": 105,
   "id": "6fabae29",
   "metadata": {},
   "outputs": [],
   "source": [
    "create_imdb_train_file(train_dataset, y_train)\n",
    "create_imdb_train_and_validation_file(train_dataset, y_train)\n",
    "create_imdb_test_file(test_dataset, y_test)"
   ]
  },
  {
   "cell_type": "markdown",
   "id": "25ae6571",
   "metadata": {},
   "source": [
    "## Let's train the model using fasttext."
   ]
  },
  {
   "cell_type": "markdown",
   "id": "f06dc732",
   "metadata": {},
   "source": [
    "##### 1) Lemming"
   ]
  },
  {
   "cell_type": "markdown",
   "id": "f84519c5",
   "metadata": {},
   "source": [
    "##### 2) Stemming"
   ]
  },
  {
   "cell_type": "markdown",
   "id": "8cddf7ba",
   "metadata": {},
   "source": [
    "##### 3) Both"
   ]
  },
  {
   "cell_type": "markdown",
   "id": "e60d67c5",
   "metadata": {},
   "source": [
    "##### 4) None"
   ]
  },
  {
   "cell_type": "code",
   "execution_count": 120,
   "id": "a00c7d71",
   "metadata": {},
   "outputs": [
    {
     "name": "stdout",
     "output_type": "stream",
     "text": [
      "CPU times: user 15.1 s, sys: 215 ms, total: 15.4 s\n",
      "Wall time: 2.92 s\n"
     ]
    }
   ],
   "source": [
    "%%time\n",
    "model = fasttext.train_supervised(input=\"imdb_train.txt\")"
   ]
  },
  {
   "cell_type": "code",
   "execution_count": 127,
   "id": "e14b22da",
   "metadata": {
    "scrolled": true
   },
   "outputs": [
    {
     "name": "stdout",
     "output_type": "stream",
     "text": [
      "(25000, 0.87692, 0.87692)\n"
     ]
    }
   ],
   "source": [
    "res = model.test(\"imdb_test.txt\")\n",
    "print(res)"
   ]
  },
  {
   "cell_type": "markdown",
   "id": "a1125b05",
   "metadata": {},
   "source": [
    "### Making the model better"
   ]
  },
  {
   "cell_type": "markdown",
   "id": "e8fbc9b2",
   "metadata": {},
   "source": [
    "#### How about N-grams ?"
   ]
  },
  {
   "cell_type": "code",
   "execution_count": 118,
   "id": "4da0992f",
   "metadata": {},
   "outputs": [
    {
     "name": "stdout",
     "output_type": "stream",
     "text": [
      "CPU times: user 39 s, sys: 438 ms, total: 39.5 s\n",
      "Wall time: 6.74 s\n"
     ]
    }
   ],
   "source": [
    "%%time\n",
    "model = fasttext.train_supervised(input=\"imdb_train.txt\", wordNgrams=2) "
   ]
  },
  {
   "cell_type": "code",
   "execution_count": 119,
   "id": "a638f1f1",
   "metadata": {},
   "outputs": [
    {
     "data": {
      "text/plain": [
       "(25000, 0.86832, 0.86832)"
      ]
     },
     "execution_count": 119,
     "metadata": {},
     "output_type": "execute_result"
    }
   ],
   "source": [
    "model.test(\"imdb_test.txt\")"
   ]
  },
  {
   "cell_type": "markdown",
   "id": "f717628d",
   "metadata": {},
   "source": [
    "#### With more epochs and a smaller learning_rate ?"
   ]
  },
  {
   "cell_type": "code",
   "execution_count": 110,
   "id": "7b3d63ad",
   "metadata": {},
   "outputs": [],
   "source": [
    "%%time\n",
    "model = fasttext.train_supervised(input=\"imdb_train.txt\", lr=0.5, epoch=25, wordNgrams=2)"
   ]
  },
  {
   "cell_type": "code",
   "execution_count": 111,
   "id": "e288098e",
   "metadata": {},
   "outputs": [
    {
     "data": {
      "text/plain": [
       "(25000, 0.8964, 0.8964)"
      ]
     },
     "execution_count": 111,
     "metadata": {},
     "output_type": "execute_result"
    }
   ],
   "source": [
    "model.test(\"imdb_test.txt\")"
   ]
  },
  {
   "cell_type": "markdown",
   "id": "3a0c0fa5",
   "metadata": {},
   "source": [
    "#### With more epochs and a smaller smaller learning_rate ?"
   ]
  },
  {
   "cell_type": "code",
   "execution_count": 112,
   "id": "111bffa3",
   "metadata": {},
   "outputs": [],
   "source": [
    "%%time\n",
    "model = fasttext.train_supervised(input=\"imdb_train.txt\", lr=0.25, epoch=25, wordNgrams=2)"
   ]
  },
  {
   "cell_type": "code",
   "execution_count": 113,
   "id": "859e6bc3",
   "metadata": {},
   "outputs": [
    {
     "data": {
      "text/plain": [
       "(25000, 0.89652, 0.89652)"
      ]
     },
     "execution_count": 113,
     "metadata": {},
     "output_type": "execute_result"
    }
   ],
   "source": [
    "model.test(\"imdb_test.txt\")"
   ]
  },
  {
   "cell_type": "markdown",
   "id": "c7b94f6d",
   "metadata": {},
   "source": [
    "#### With more epochs and a bigger learning_rate ?"
   ]
  },
  {
   "cell_type": "code",
   "execution_count": 114,
   "id": "94e07a09",
   "metadata": {},
   "outputs": [],
   "source": [
    "%%time\n",
    "model = fasttext.train_supervised(input=\"imdb_train.txt\", lr=1.0, epoch=25, wordNgrams=2)"
   ]
  },
  {
   "cell_type": "code",
   "execution_count": 115,
   "id": "86e20431",
   "metadata": {},
   "outputs": [
    {
     "data": {
      "text/plain": [
       "(25000, 0.895, 0.895)"
      ]
     },
     "execution_count": 115,
     "metadata": {},
     "output_type": "execute_result"
    }
   ],
   "source": [
    "model.test(\"imdb_test.txt\")"
   ]
  },
  {
   "cell_type": "markdown",
   "id": "6841f889",
   "metadata": {},
   "source": [
    "#### With the autotuneValidationfile (testing and performance purpose)"
   ]
  },
  {
   "cell_type": "code",
   "execution_count": 116,
   "id": "bea032c7",
   "metadata": {},
   "outputs": [],
   "source": [
    "%%time\n",
    "model = fasttext.train_supervised(input=\"imdb_train_splited_with_the_validation.txt\", autotuneValidationFile='imdb_validation.txt')"
   ]
  },
  {
   "cell_type": "code",
   "execution_count": 117,
   "id": "567ab579",
   "metadata": {
    "scrolled": true
   },
   "outputs": [
    {
     "data": {
      "text/plain": [
       "(25000, 0.8632, 0.8632)"
      ]
     },
     "execution_count": 117,
     "metadata": {},
     "output_type": "execute_result"
    }
   ],
   "source": [
    "model.test(\"imdb_test.txt\")"
   ]
  },
  {
   "cell_type": "markdown",
   "id": "1ec6a7da",
   "metadata": {},
   "source": [
    "## Beating the baseline"
   ]
  },
  {
   "cell_type": "code",
   "execution_count": null,
   "id": "422b630d",
   "metadata": {},
   "outputs": [],
   "source": []
  }
 ],
 "metadata": {
  "kernelspec": {
   "display_name": "Python 3",
   "language": "python",
   "name": "python3"
  },
  "language_info": {
   "codemirror_mode": {
    "name": "ipython",
    "version": 3
   },
   "file_extension": ".py",
   "mimetype": "text/x-python",
   "name": "python",
   "nbconvert_exporter": "python",
   "pygments_lexer": "ipython3",
   "version": "3.9.5"
  }
 },
 "nbformat": 4,
 "nbformat_minor": 5
}
