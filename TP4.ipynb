{
 "cells": [
  {
   "cell_type": "markdown",
   "id": "53d906f1",
   "metadata": {},
   "source": [
    "## Installing fastText"
   ]
  },
  {
   "cell_type": "code",
   "execution_count": null,
   "id": "daea7553",
   "metadata": {},
   "outputs": [
    {
     "name": "stdout",
     "output_type": "stream",
     "text": [
      "--2021-10-06 22:10:31--  https://github.com/facebookresearch/fastText/archive/v0.9.2.zip\n",
      "Résolution de github.com (github.com)… 140.82.121.3\n",
      "Connexion à github.com (github.com)|140.82.121.3|:443… connecté.\n",
      "requête HTTP transmise, en attente de la réponse… 302 Found\n",
      "Emplacement : https://codeload.github.com/facebookresearch/fastText/zip/v0.9.2 [suivant]\n",
      "--2021-10-06 22:10:32--  https://codeload.github.com/facebookresearch/fastText/zip/v0.9.2\n",
      "Résolution de codeload.github.com (codeload.github.com)… 140.82.121.9\n",
      "Connexion à codeload.github.com (codeload.github.com)|140.82.121.9|:443… connecté.\n",
      "requête HTTP transmise, en attente de la réponse… 200 OK\n",
      "Taille : non indiqué [application/zip]\n",
      "Enregistre : ‘v0.9.2.zip’\n",
      "\n",
      "v0.9.2.zip              [    <=>             ]   4,17M  6,39MB/s    ds 0,7s    \n",
      "\n",
      "2021-10-06 22:10:32 (6,39 MB/s) - ‘v0.9.2.zip’ enregistré [4369852]\n",
      "\n",
      "Archive:  v0.9.2.zip\n",
      "5b5943c118b0ec5fb9cd8d20587de2b2d3966dfe\n",
      "   creating: fastText-0.9.2/\n",
      "   creating: fastText-0.9.2/.circleci/\n",
      "  inflating: fastText-0.9.2/.circleci/cmake_test.sh  \n",
      "  inflating: fastText-0.9.2/.circleci/config.yml  \n",
      "  inflating: fastText-0.9.2/.circleci/gcc_test.sh  \n",
      "  inflating: fastText-0.9.2/.circleci/pip_test.sh  \n",
      "  inflating: fastText-0.9.2/.circleci/pull_data.sh  \n",
      "  inflating: fastText-0.9.2/.circleci/python_test.sh  \n",
      "  inflating: fastText-0.9.2/.circleci/run_locally.sh  \n",
      "  inflating: fastText-0.9.2/.circleci/setup_circleimg.sh  \n",
      "  inflating: fastText-0.9.2/.circleci/setup_debian.sh  \n",
      "  inflating: fastText-0.9.2/.gitignore  \n",
      "  inflating: fastText-0.9.2/CMakeLists.txt  \n",
      "  inflating: fastText-0.9.2/CODE_OF_CONDUCT.md  \n",
      "  inflating: fastText-0.9.2/CONTRIBUTING.md  \n",
      "  inflating: fastText-0.9.2/LICENSE  \n",
      "  inflating: fastText-0.9.2/MANIFEST.in  \n",
      "  inflating: fastText-0.9.2/Makefile  \n",
      "  inflating: fastText-0.9.2/README.md  \n",
      "   creating: fastText-0.9.2/alignment/\n",
      "  inflating: fastText-0.9.2/alignment/README.md  \n",
      "  inflating: fastText-0.9.2/alignment/align.py  \n",
      "  inflating: fastText-0.9.2/alignment/eval.py  \n",
      "  inflating: fastText-0.9.2/alignment/example.sh  \n",
      "  inflating: fastText-0.9.2/alignment/unsup_align.py  \n",
      "  inflating: fastText-0.9.2/alignment/unsup_multialign.py  \n",
      "  inflating: fastText-0.9.2/alignment/utils.py  \n",
      "  inflating: fastText-0.9.2/classification-example.sh  \n",
      "  inflating: fastText-0.9.2/classification-results.sh  \n",
      "   creating: fastText-0.9.2/crawl/\n",
      "  inflating: fastText-0.9.2/crawl/README.md  \n",
      "  inflating: fastText-0.9.2/crawl/dedup.cc  \n",
      "  inflating: fastText-0.9.2/crawl/download_crawl.sh  \n",
      "  inflating: fastText-0.9.2/crawl/filter_dedup.sh  \n",
      "  inflating: fastText-0.9.2/crawl/filter_utf8.cc  \n",
      "  inflating: fastText-0.9.2/crawl/process_wet_file.sh  \n",
      "   creating: fastText-0.9.2/docs/\n",
      "  inflating: fastText-0.9.2/docs/aligned-vectors.md  \n",
      "  inflating: fastText-0.9.2/docs/api.md  \n",
      "  inflating: fastText-0.9.2/docs/autotune.md  \n",
      "  inflating: fastText-0.9.2/docs/cheatsheet.md  \n",
      "  inflating: fastText-0.9.2/docs/crawl-vectors.md  \n",
      "  inflating: fastText-0.9.2/docs/dataset.md  \n",
      "  inflating: fastText-0.9.2/docs/english-vectors.md  \n",
      "  inflating: fastText-0.9.2/docs/faqs.md  \n",
      "  inflating: fastText-0.9.2/docs/language-identification.md  \n",
      "  inflating: fastText-0.9.2/docs/options.md  \n",
      "  inflating: fastText-0.9.2/docs/pretrained-vectors.md  \n",
      "  inflating: fastText-0.9.2/docs/python-module.md  \n",
      "  inflating: fastText-0.9.2/docs/references.md  \n",
      "  inflating: fastText-0.9.2/docs/supervised-models.md  \n",
      "  inflating: fastText-0.9.2/docs/supervised-tutorial.md  \n",
      "  inflating: fastText-0.9.2/docs/support.md  \n",
      "  inflating: fastText-0.9.2/docs/unsupervised-tutorials.md  \n",
      "  inflating: fastText-0.9.2/docs/webassembly-module.md  \n",
      "  inflating: fastText-0.9.2/download_model.py  \n",
      "  inflating: fastText-0.9.2/eval.py  \n",
      "  inflating: fastText-0.9.2/fasttext.pc.in  \n",
      "  inflating: fastText-0.9.2/get-wikimedia.sh  \n",
      "   creating: fastText-0.9.2/python/\n",
      "  inflating: fastText-0.9.2/python/README.md  \n",
      "  inflating: fastText-0.9.2/python/README.rst  \n",
      "   creating: fastText-0.9.2/python/benchmarks/\n",
      "  inflating: fastText-0.9.2/python/benchmarks/README.rst  \n",
      "  inflating: fastText-0.9.2/python/benchmarks/get_word_vector.py  \n",
      "   creating: fastText-0.9.2/python/doc/\n",
      "   creating: fastText-0.9.2/python/doc/examples/\n",
      "  inflating: fastText-0.9.2/python/doc/examples/FastTextEmbeddingBag.py  \n",
      "  inflating: fastText-0.9.2/python/doc/examples/bin_to_vec.py  \n",
      "  inflating: fastText-0.9.2/python/doc/examples/compute_accuracy.py  \n",
      "  inflating: fastText-0.9.2/python/doc/examples/get_vocab.py  \n",
      "  inflating: fastText-0.9.2/python/doc/examples/train_supervised.py  \n",
      "  inflating: fastText-0.9.2/python/doc/examples/train_unsupervised.py  \n",
      "   creating: fastText-0.9.2/python/fasttext_module/\n",
      "   creating: fastText-0.9.2/python/fasttext_module/fasttext/\n",
      "  inflating: fastText-0.9.2/python/fasttext_module/fasttext/FastText.py  \n",
      "  inflating: fastText-0.9.2/python/fasttext_module/fasttext/__init__.py  \n",
      "   creating: fastText-0.9.2/python/fasttext_module/fasttext/pybind/\n",
      "  inflating: fastText-0.9.2/python/fasttext_module/fasttext/pybind/fasttext_pybind.cc  \n",
      "   creating: fastText-0.9.2/python/fasttext_module/fasttext/tests/\n",
      "  inflating: fastText-0.9.2/python/fasttext_module/fasttext/tests/__init__.py  \n",
      "  inflating: fastText-0.9.2/python/fasttext_module/fasttext/tests/test_configurations.py  \n",
      "  inflating: fastText-0.9.2/python/fasttext_module/fasttext/tests/test_script.py  \n",
      "   creating: fastText-0.9.2/python/fasttext_module/fasttext/util/\n",
      "  inflating: fastText-0.9.2/python/fasttext_module/fasttext/util/__init__.py  \n",
      "  inflating: fastText-0.9.2/python/fasttext_module/fasttext/util/util.py  \n",
      "  inflating: fastText-0.9.2/quantization-example.sh  \n",
      "  inflating: fastText-0.9.2/reduce_model.py  \n",
      "  inflating: fastText-0.9.2/runtests.py  \n",
      "   creating: fastText-0.9.2/scripts/\n",
      "   creating: fastText-0.9.2/scripts/kbcompletion/\n",
      "  inflating: fastText-0.9.2/scripts/kbcompletion/README.md  \n",
      "  inflating: fastText-0.9.2/scripts/kbcompletion/data.sh  \n",
      "  inflating: fastText-0.9.2/scripts/kbcompletion/eval.cpp  \n",
      "  inflating: fastText-0.9.2/scripts/kbcompletion/fb15k.sh  \n",
      "  inflating: fastText-0.9.2/scripts/kbcompletion/fb15k237.sh  \n",
      "  inflating: fastText-0.9.2/scripts/kbcompletion/svo.sh  \n",
      "  inflating: fastText-0.9.2/scripts/kbcompletion/wn18.sh  \n",
      "   creating: fastText-0.9.2/scripts/quantization/\n",
      "  inflating: fastText-0.9.2/scripts/quantization/quantization-results.sh  \n",
      " extracting: fastText-0.9.2/setup.cfg  \n",
      "  inflating: fastText-0.9.2/setup.py  \n",
      "   creating: fastText-0.9.2/src/\n",
      "  inflating: fastText-0.9.2/src/args.cc  \n",
      "  inflating: fastText-0.9.2/src/args.h  \n",
      "  inflating: fastText-0.9.2/src/autotune.cc  \n",
      "  inflating: fastText-0.9.2/src/autotune.h  \n",
      "  inflating: fastText-0.9.2/src/densematrix.cc  \n",
      "  inflating: fastText-0.9.2/src/densematrix.h  \n",
      "  inflating: fastText-0.9.2/src/dictionary.cc  \n",
      "  inflating: fastText-0.9.2/src/dictionary.h  \n",
      "  inflating: fastText-0.9.2/src/fasttext.cc  \n",
      "  inflating: fastText-0.9.2/src/fasttext.h  \n",
      "  inflating: fastText-0.9.2/src/loss.cc  \n",
      "  inflating: fastText-0.9.2/src/loss.h  \n",
      "  inflating: fastText-0.9.2/src/main.cc  \n",
      "  inflating: fastText-0.9.2/src/matrix.cc  \n",
      "  inflating: fastText-0.9.2/src/matrix.h  \n",
      "  inflating: fastText-0.9.2/src/meter.cc  \n",
      "  inflating: fastText-0.9.2/src/meter.h  \n",
      "  inflating: fastText-0.9.2/src/model.cc  \n",
      "  inflating: fastText-0.9.2/src/model.h  \n",
      "  inflating: fastText-0.9.2/src/productquantizer.cc  \n",
      "  inflating: fastText-0.9.2/src/productquantizer.h  \n",
      "  inflating: fastText-0.9.2/src/quantmatrix.cc  \n",
      "  inflating: fastText-0.9.2/src/quantmatrix.h  \n",
      "  inflating: fastText-0.9.2/src/real.h  \n",
      "  inflating: fastText-0.9.2/src/utils.cc  \n",
      "  inflating: fastText-0.9.2/src/utils.h  \n",
      "  inflating: fastText-0.9.2/src/vector.cc  \n",
      "  inflating: fastText-0.9.2/src/vector.h  \n",
      "   creating: fastText-0.9.2/tests/\n",
      "  inflating: fastText-0.9.2/tests/fetch_test_data.sh  \n",
      "   creating: fastText-0.9.2/webassembly/\n",
      "  inflating: fastText-0.9.2/webassembly/README.md  \n",
      "   creating: fastText-0.9.2/webassembly/doc/\n",
      "   creating: fastText-0.9.2/webassembly/doc/examples/\n",
      "  inflating: fastText-0.9.2/webassembly/doc/examples/misc.html  \n",
      "  inflating: fastText-0.9.2/webassembly/doc/examples/predict.html  \n",
      "  inflating: fastText-0.9.2/webassembly/doc/examples/train_supervised.html  \n",
      "  inflating: fastText-0.9.2/webassembly/doc/examples/train_unsupervised.html  \n",
      "  inflating: fastText-0.9.2/webassembly/fasttext.js  \n",
      "  inflating: fastText-0.9.2/webassembly/fasttext_wasm.cc  \n",
      "   creating: fastText-0.9.2/website/\n",
      "  inflating: fastText-0.9.2/website/README.md  \n",
      "   creating: fastText-0.9.2/website/blog/\n",
      "  inflating: fastText-0.9.2/website/blog/2016-08-18-blog-post.md  \n",
      "  inflating: fastText-0.9.2/website/blog/2017-05-02-blog-post.md  \n",
      "  inflating: fastText-0.9.2/website/blog/2017-10-02-blog-post.md  \n",
      "  inflating: fastText-0.9.2/website/blog/2019-06-25-blog-post.md  \n",
      "   creating: fastText-0.9.2/website/core/\n",
      "  inflating: fastText-0.9.2/website/core/Footer.js  \n",
      "  inflating: fastText-0.9.2/website/package.json  \n",
      "   creating: fastText-0.9.2/website/pages/\n",
      "   creating: fastText-0.9.2/website/pages/en/\n",
      "  inflating: fastText-0.9.2/website/pages/en/index.js  \n",
      "  inflating: fastText-0.9.2/website/sidebars.json  \n",
      "  inflating: fastText-0.9.2/website/siteConfig.js  \n",
      "   creating: fastText-0.9.2/website/static/\n",
      "   creating: fastText-0.9.2/website/static/docs/\n",
      "   creating: fastText-0.9.2/website/static/docs/en/\n",
      "   creating: fastText-0.9.2/website/static/docs/en/html/\n",
      " extracting: fastText-0.9.2/website/static/docs/en/html/.classfasttext_1_1QMatrix-members.html.i4eKqy  \n",
      "  inflating: fastText-0.9.2/website/static/docs/en/html/annotated.html  \n",
      "  inflating: fastText-0.9.2/website/static/docs/en/html/annotated_dup.js  \n",
      "  inflating: fastText-0.9.2/website/static/docs/en/html/args_8cc.html  \n",
      "  inflating: fastText-0.9.2/website/static/docs/en/html/args_8h.html  \n",
      "  inflating: fastText-0.9.2/website/static/docs/en/html/args_8h.js  \n",
      "  inflating: fastText-0.9.2/website/static/docs/en/html/args_8h_source.html  \n",
      " extracting: fastText-0.9.2/website/static/docs/en/html/bc_s.png  \n",
      "  inflating: fastText-0.9.2/website/static/docs/en/html/bdwn.png  \n",
      "  inflating: fastText-0.9.2/website/static/docs/en/html/classes.html  \n",
      "  inflating: fastText-0.9.2/website/static/docs/en/html/classfasttext_1_1Args-members.html  \n",
      "  inflating: fastText-0.9.2/website/static/docs/en/html/classfasttext_1_1Args.html  \n",
      "  inflating: fastText-0.9.2/website/static/docs/en/html/classfasttext_1_1Args.js  \n",
      "  inflating: fastText-0.9.2/website/static/docs/en/html/classfasttext_1_1Dictionary-members.html  \n",
      "  inflating: fastText-0.9.2/website/static/docs/en/html/classfasttext_1_1Dictionary.html  \n",
      "  inflating: fastText-0.9.2/website/static/docs/en/html/classfasttext_1_1Dictionary.js  \n",
      "  inflating: fastText-0.9.2/website/static/docs/en/html/classfasttext_1_1FastText-members.html  \n",
      "  inflating: fastText-0.9.2/website/static/docs/en/html/classfasttext_1_1FastText.html  \n",
      "  inflating: fastText-0.9.2/website/static/docs/en/html/classfasttext_1_1FastText.js  \n",
      "  inflating: fastText-0.9.2/website/static/docs/en/html/classfasttext_1_1Matrix-members.html  \n",
      "  inflating: fastText-0.9.2/website/static/docs/en/html/classfasttext_1_1Matrix.html  \n",
      "  inflating: fastText-0.9.2/website/static/docs/en/html/classfasttext_1_1Matrix.js  \n",
      "  inflating: fastText-0.9.2/website/static/docs/en/html/classfasttext_1_1Model-members.html  \n",
      "  inflating: fastText-0.9.2/website/static/docs/en/html/classfasttext_1_1Model.html  \n",
      "  inflating: fastText-0.9.2/website/static/docs/en/html/classfasttext_1_1Model.js  \n",
      "  inflating: fastText-0.9.2/website/static/docs/en/html/classfasttext_1_1ProductQuantizer-members.html  \n",
      "  inflating: fastText-0.9.2/website/static/docs/en/html/classfasttext_1_1ProductQuantizer.html  \n",
      "  inflating: fastText-0.9.2/website/static/docs/en/html/classfasttext_1_1ProductQuantizer.js  \n",
      "  inflating: fastText-0.9.2/website/static/docs/en/html/classfasttext_1_1QMatrix-members.html  \n",
      "  inflating: fastText-0.9.2/website/static/docs/en/html/classfasttext_1_1QMatrix.html  \n",
      "  inflating: fastText-0.9.2/website/static/docs/en/html/classfasttext_1_1QMatrix.js  \n",
      "  inflating: fastText-0.9.2/website/static/docs/en/html/classfasttext_1_1Vector-members.html  \n",
      "  inflating: fastText-0.9.2/website/static/docs/en/html/classfasttext_1_1Vector.html  \n",
      "  inflating: fastText-0.9.2/website/static/docs/en/html/classfasttext_1_1Vector.js  \n",
      "  inflating: fastText-0.9.2/website/static/docs/en/html/closed.png  \n",
      "  inflating: fastText-0.9.2/website/static/docs/en/html/dictionary_8cc.html  \n",
      "  inflating: fastText-0.9.2/website/static/docs/en/html/dictionary_8h.html  \n",
      "  inflating: fastText-0.9.2/website/static/docs/en/html/dictionary_8h.js  \n",
      "  inflating: fastText-0.9.2/website/static/docs/en/html/dictionary_8h_source.html  \n",
      "  inflating: fastText-0.9.2/website/static/docs/en/html/dir_68267d1309a1af8e8297ef4c3efbcdba.html  \n",
      "  inflating: fastText-0.9.2/website/static/docs/en/html/dir_68267d1309a1af8e8297ef4c3efbcdba.js  \n",
      " extracting: fastText-0.9.2/website/static/docs/en/html/doc.png  \n",
      "  inflating: fastText-0.9.2/website/static/docs/en/html/doxygen.css  \n",
      " extracting: fastText-0.9.2/website/static/docs/en/html/doxygen.png  \n",
      "  inflating: fastText-0.9.2/website/static/docs/en/html/dynsections.js  \n",
      "  inflating: fastText-0.9.2/website/static/docs/en/html/fasttext_8cc.html  \n",
      "  inflating: fastText-0.9.2/website/static/docs/en/html/fasttext_8h.html  \n",
      "  inflating: fastText-0.9.2/website/static/docs/en/html/fasttext_8h.js  \n",
      "  inflating: fastText-0.9.2/website/static/docs/en/html/fasttext_8h_source.html  \n",
      "  inflating: fastText-0.9.2/website/static/docs/en/html/favicon.png  \n",
      "  inflating: fastText-0.9.2/website/static/docs/en/html/files.html  \n",
      "  inflating: fastText-0.9.2/website/static/docs/en/html/files.js  \n",
      " extracting: fastText-0.9.2/website/static/docs/en/html/folderclosed.png  \n",
      " extracting: fastText-0.9.2/website/static/docs/en/html/folderopen.png  \n",
      "  inflating: fastText-0.9.2/website/static/docs/en/html/functions.html  \n",
      "  inflating: fastText-0.9.2/website/static/docs/en/html/functions_0x7e.html  \n",
      "  inflating: fastText-0.9.2/website/static/docs/en/html/functions_b.html  \n",
      "  inflating: fastText-0.9.2/website/static/docs/en/html/functions_c.html  \n",
      "  inflating: fastText-0.9.2/website/static/docs/en/html/functions_d.html  \n",
      "  inflating: fastText-0.9.2/website/static/docs/en/html/functions_dup.js  \n",
      "  inflating: fastText-0.9.2/website/static/docs/en/html/functions_e.html  \n",
      "  inflating: fastText-0.9.2/website/static/docs/en/html/functions_f.html  \n",
      "  inflating: fastText-0.9.2/website/static/docs/en/html/functions_func.html  \n",
      "  inflating: fastText-0.9.2/website/static/docs/en/html/functions_g.html  \n",
      "  inflating: fastText-0.9.2/website/static/docs/en/html/functions_h.html  \n",
      "  inflating: fastText-0.9.2/website/static/docs/en/html/functions_i.html  \n",
      "  inflating: fastText-0.9.2/website/static/docs/en/html/functions_k.html  \n",
      "  inflating: fastText-0.9.2/website/static/docs/en/html/functions_l.html  \n",
      "  inflating: fastText-0.9.2/website/static/docs/en/html/functions_m.html  \n",
      "  inflating: fastText-0.9.2/website/static/docs/en/html/functions_n.html  \n",
      "  inflating: fastText-0.9.2/website/static/docs/en/html/functions_o.html  \n",
      "  inflating: fastText-0.9.2/website/static/docs/en/html/functions_p.html  \n",
      "  inflating: fastText-0.9.2/website/static/docs/en/html/functions_q.html  \n",
      "  inflating: fastText-0.9.2/website/static/docs/en/html/functions_r.html  \n",
      "  inflating: fastText-0.9.2/website/static/docs/en/html/functions_s.html  \n",
      "  inflating: fastText-0.9.2/website/static/docs/en/html/functions_t.html  \n",
      "  inflating: fastText-0.9.2/website/static/docs/en/html/functions_u.html  \n",
      "  inflating: fastText-0.9.2/website/static/docs/en/html/functions_v.html  \n",
      "  inflating: fastText-0.9.2/website/static/docs/en/html/functions_vars.html  \n",
      "  inflating: fastText-0.9.2/website/static/docs/en/html/functions_w.html  \n",
      "  inflating: fastText-0.9.2/website/static/docs/en/html/functions_z.html  \n",
      "  inflating: fastText-0.9.2/website/static/docs/en/html/globals.html  \n",
      "  inflating: fastText-0.9.2/website/static/docs/en/html/globals_defs.html  \n",
      "  inflating: fastText-0.9.2/website/static/docs/en/html/globals_func.html  \n",
      "  inflating: fastText-0.9.2/website/static/docs/en/html/index.html  \n",
      "  inflating: fastText-0.9.2/website/static/docs/en/html/jquery.js  \n",
      "  inflating: fastText-0.9.2/website/static/docs/en/html/main_8cc.html  \n",
      "  inflating: fastText-0.9.2/website/static/docs/en/html/main_8cc.js  \n",
      "  inflating: fastText-0.9.2/website/static/docs/en/html/matrix_8cc.html  \n",
      "  inflating: fastText-0.9.2/website/static/docs/en/html/matrix_8h.html  \n",
      "  inflating: fastText-0.9.2/website/static/docs/en/html/matrix_8h_source.html  \n",
      "  inflating: fastText-0.9.2/website/static/docs/en/html/menu.js  \n",
      "  inflating: fastText-0.9.2/website/static/docs/en/html/menudata.js  \n",
      "  inflating: fastText-0.9.2/website/static/docs/en/html/model_8cc.html  \n",
      "  inflating: fastText-0.9.2/website/static/docs/en/html/model_8h.html  \n",
      "  inflating: fastText-0.9.2/website/static/docs/en/html/model_8h.js  \n",
      "  inflating: fastText-0.9.2/website/static/docs/en/html/model_8h_source.html  \n",
      "  inflating: fastText-0.9.2/website/static/docs/en/html/namespacefasttext.html  \n",
      "  inflating: fastText-0.9.2/website/static/docs/en/html/namespacefasttext.js  \n",
      "  inflating: fastText-0.9.2/website/static/docs/en/html/namespacefasttext_1_1utils.html  \n",
      "  inflating: fastText-0.9.2/website/static/docs/en/html/namespacemembers.html  \n",
      "  inflating: fastText-0.9.2/website/static/docs/en/html/namespacemembers_enum.html  \n",
      "  inflating: fastText-0.9.2/website/static/docs/en/html/namespacemembers_func.html  \n",
      "  inflating: fastText-0.9.2/website/static/docs/en/html/namespacemembers_type.html  \n",
      "  inflating: fastText-0.9.2/website/static/docs/en/html/namespaces.html  \n",
      "  inflating: fastText-0.9.2/website/static/docs/en/html/namespaces.js  \n",
      " extracting: fastText-0.9.2/website/static/docs/en/html/nav_f.png  \n",
      "  inflating: fastText-0.9.2/website/static/docs/en/html/nav_g.png  \n",
      "  inflating: fastText-0.9.2/website/static/docs/en/html/nav_h.png  \n",
      "  inflating: fastText-0.9.2/website/static/docs/en/html/navtree.css  \n",
      "  inflating: fastText-0.9.2/website/static/docs/en/html/navtree.js  \n",
      "  inflating: fastText-0.9.2/website/static/docs/en/html/navtreedata.js  \n",
      "  inflating: fastText-0.9.2/website/static/docs/en/html/navtreeindex0.js  \n",
      "  inflating: fastText-0.9.2/website/static/docs/en/html/navtreeindex1.js  \n",
      "  inflating: fastText-0.9.2/website/static/docs/en/html/open.png  \n",
      "  inflating: fastText-0.9.2/website/static/docs/en/html/productquantizer_8cc.html  \n",
      "  inflating: fastText-0.9.2/website/static/docs/en/html/productquantizer_8cc.js  \n",
      "  inflating: fastText-0.9.2/website/static/docs/en/html/productquantizer_8h.html  \n",
      "  inflating: fastText-0.9.2/website/static/docs/en/html/productquantizer_8h_source.html  \n",
      "  inflating: fastText-0.9.2/website/static/docs/en/html/qmatrix_8cc.html  \n",
      "  inflating: fastText-0.9.2/website/static/docs/en/html/qmatrix_8h.html  \n",
      "  inflating: fastText-0.9.2/website/static/docs/en/html/qmatrix_8h_source.html  \n",
      "  inflating: fastText-0.9.2/website/static/docs/en/html/real_8h.html  \n",
      "  inflating: fastText-0.9.2/website/static/docs/en/html/real_8h.js  \n",
      "  inflating: fastText-0.9.2/website/static/docs/en/html/real_8h_source.html  \n",
      "  inflating: fastText-0.9.2/website/static/docs/en/html/resize.js  \n",
      "   creating: fastText-0.9.2/website/static/docs/en/html/search/\n",
      " extracting: fastText-0.9.2/website/static/docs/en/html/search/.files_7.html.StRRNc  \n",
      " extracting: fastText-0.9.2/website/static/docs/en/html/search/.variables_a.html.1MGQ27  \n",
      "  inflating: fastText-0.9.2/website/static/docs/en/html/search/all_0.html  \n",
      "  inflating: fastText-0.9.2/website/static/docs/en/html/search/all_0.js  \n",
      "  inflating: fastText-0.9.2/website/static/docs/en/html/search/all_1.html  \n",
      "  inflating: fastText-0.9.2/website/static/docs/en/html/search/all_1.js  \n",
      "  inflating: fastText-0.9.2/website/static/docs/en/html/search/all_10.html  \n",
      "  inflating: fastText-0.9.2/website/static/docs/en/html/search/all_10.js  \n",
      "  inflating: fastText-0.9.2/website/static/docs/en/html/search/all_11.html  \n",
      "  inflating: fastText-0.9.2/website/static/docs/en/html/search/all_11.js  \n",
      "  inflating: fastText-0.9.2/website/static/docs/en/html/search/all_12.html  \n",
      "  inflating: fastText-0.9.2/website/static/docs/en/html/search/all_12.js  \n",
      "  inflating: fastText-0.9.2/website/static/docs/en/html/search/all_13.html  \n",
      "  inflating: fastText-0.9.2/website/static/docs/en/html/search/all_13.js  \n",
      "  inflating: fastText-0.9.2/website/static/docs/en/html/search/all_14.html  \n",
      "  inflating: fastText-0.9.2/website/static/docs/en/html/search/all_14.js  \n",
      "  inflating: fastText-0.9.2/website/static/docs/en/html/search/all_15.html  \n",
      "  inflating: fastText-0.9.2/website/static/docs/en/html/search/all_15.js  \n",
      "  inflating: fastText-0.9.2/website/static/docs/en/html/search/all_16.html  \n",
      "  inflating: fastText-0.9.2/website/static/docs/en/html/search/all_16.js  \n",
      "  inflating: fastText-0.9.2/website/static/docs/en/html/search/all_17.html  \n",
      "  inflating: fastText-0.9.2/website/static/docs/en/html/search/all_17.js  \n",
      "  inflating: fastText-0.9.2/website/static/docs/en/html/search/all_2.html  \n",
      "  inflating: fastText-0.9.2/website/static/docs/en/html/search/all_2.js  \n",
      "  inflating: fastText-0.9.2/website/static/docs/en/html/search/all_3.html  \n",
      "  inflating: fastText-0.9.2/website/static/docs/en/html/search/all_3.js  \n",
      "  inflating: fastText-0.9.2/website/static/docs/en/html/search/all_4.html  \n",
      "  inflating: fastText-0.9.2/website/static/docs/en/html/search/all_4.js  \n",
      "  inflating: fastText-0.9.2/website/static/docs/en/html/search/all_5.html  \n",
      "  inflating: fastText-0.9.2/website/static/docs/en/html/search/all_5.js  \n",
      "  inflating: fastText-0.9.2/website/static/docs/en/html/search/all_6.html  \n",
      "  inflating: fastText-0.9.2/website/static/docs/en/html/search/all_6.js  \n",
      "  inflating: fastText-0.9.2/website/static/docs/en/html/search/all_7.html  \n",
      "  inflating: fastText-0.9.2/website/static/docs/en/html/search/all_7.js  \n",
      "  inflating: fastText-0.9.2/website/static/docs/en/html/search/all_8.html  \n",
      "  inflating: fastText-0.9.2/website/static/docs/en/html/search/all_8.js  \n",
      "  inflating: fastText-0.9.2/website/static/docs/en/html/search/all_9.html  \n",
      "  inflating: fastText-0.9.2/website/static/docs/en/html/search/all_9.js  \n",
      "  inflating: fastText-0.9.2/website/static/docs/en/html/search/all_a.html  \n",
      "  inflating: fastText-0.9.2/website/static/docs/en/html/search/all_a.js  \n",
      "  inflating: fastText-0.9.2/website/static/docs/en/html/search/all_b.html  \n",
      "  inflating: fastText-0.9.2/website/static/docs/en/html/search/all_b.js  \n",
      "  inflating: fastText-0.9.2/website/static/docs/en/html/search/all_c.html  \n",
      "  inflating: fastText-0.9.2/website/static/docs/en/html/search/all_c.js  \n",
      "  inflating: fastText-0.9.2/website/static/docs/en/html/search/all_d.html  \n",
      "  inflating: fastText-0.9.2/website/static/docs/en/html/search/all_d.js  \n",
      "  inflating: fastText-0.9.2/website/static/docs/en/html/search/all_e.html  \n",
      "  inflating: fastText-0.9.2/website/static/docs/en/html/search/all_e.js  \n",
      "  inflating: fastText-0.9.2/website/static/docs/en/html/search/all_f.html  \n",
      "  inflating: fastText-0.9.2/website/static/docs/en/html/search/all_f.js  \n",
      "  inflating: fastText-0.9.2/website/static/docs/en/html/search/classes_0.html  \n",
      "  inflating: fastText-0.9.2/website/static/docs/en/html/search/classes_0.js  \n",
      "  inflating: fastText-0.9.2/website/static/docs/en/html/search/classes_1.html  \n",
      "  inflating: fastText-0.9.2/website/static/docs/en/html/search/classes_1.js  \n",
      "  inflating: fastText-0.9.2/website/static/docs/en/html/search/classes_2.html  \n",
      "  inflating: fastText-0.9.2/website/static/docs/en/html/search/classes_2.js  \n",
      "  inflating: fastText-0.9.2/website/static/docs/en/html/search/classes_3.html  \n",
      "  inflating: fastText-0.9.2/website/static/docs/en/html/search/classes_3.js  \n",
      "  inflating: fastText-0.9.2/website/static/docs/en/html/search/classes_4.html  \n",
      "  inflating: fastText-0.9.2/website/static/docs/en/html/search/classes_4.js  \n",
      "  inflating: fastText-0.9.2/website/static/docs/en/html/search/classes_5.html  \n",
      "  inflating: fastText-0.9.2/website/static/docs/en/html/search/classes_5.js  \n",
      "  inflating: fastText-0.9.2/website/static/docs/en/html/search/classes_6.html  \n",
      "  inflating: fastText-0.9.2/website/static/docs/en/html/search/classes_6.js  \n",
      "  inflating: fastText-0.9.2/website/static/docs/en/html/search/classes_7.html  \n",
      "  inflating: fastText-0.9.2/website/static/docs/en/html/search/classes_7.js  \n",
      "  inflating: fastText-0.9.2/website/static/docs/en/html/search/classes_8.html  \n",
      "  inflating: fastText-0.9.2/website/static/docs/en/html/search/classes_8.js  \n",
      " extracting: fastText-0.9.2/website/static/docs/en/html/search/close.png  \n",
      "  inflating: fastText-0.9.2/website/static/docs/en/html/search/defines_0.html  \n",
      "  inflating: fastText-0.9.2/website/static/docs/en/html/search/defines_0.js  \n",
      "  inflating: fastText-0.9.2/website/static/docs/en/html/search/defines_1.html  \n",
      "  inflating: fastText-0.9.2/website/static/docs/en/html/search/defines_1.js  \n",
      "  inflating: fastText-0.9.2/website/static/docs/en/html/search/defines_2.html  \n",
      "  inflating: fastText-0.9.2/website/static/docs/en/html/search/defines_2.js  \n",
      "  inflating: fastText-0.9.2/website/static/docs/en/html/search/defines_3.html  \n",
      "  inflating: fastText-0.9.2/website/static/docs/en/html/search/defines_3.js  \n",
      "  inflating: fastText-0.9.2/website/static/docs/en/html/search/enums_0.html  \n",
      "  inflating: fastText-0.9.2/website/static/docs/en/html/search/enums_0.js  \n",
      "  inflating: fastText-0.9.2/website/static/docs/en/html/search/enums_1.html  \n",
      "  inflating: fastText-0.9.2/website/static/docs/en/html/search/enums_1.js  \n",
      "  inflating: fastText-0.9.2/website/static/docs/en/html/search/enums_2.html  \n",
      "  inflating: fastText-0.9.2/website/static/docs/en/html/search/enums_2.js  \n",
      "  inflating: fastText-0.9.2/website/static/docs/en/html/search/enumvalues_0.html  \n",
      "  inflating: fastText-0.9.2/website/static/docs/en/html/search/enumvalues_0.js  \n",
      "  inflating: fastText-0.9.2/website/static/docs/en/html/search/enumvalues_1.html  \n",
      "  inflating: fastText-0.9.2/website/static/docs/en/html/search/enumvalues_1.js  \n",
      "  inflating: fastText-0.9.2/website/static/docs/en/html/search/enumvalues_2.html  \n",
      "  inflating: fastText-0.9.2/website/static/docs/en/html/search/enumvalues_2.js  \n",
      "  inflating: fastText-0.9.2/website/static/docs/en/html/search/enumvalues_3.html  \n",
      "  inflating: fastText-0.9.2/website/static/docs/en/html/search/enumvalues_3.js  \n",
      "  inflating: fastText-0.9.2/website/static/docs/en/html/search/enumvalues_4.html  \n",
      "  inflating: fastText-0.9.2/website/static/docs/en/html/search/enumvalues_4.js  \n",
      "  inflating: fastText-0.9.2/website/static/docs/en/html/search/enumvalues_5.html  \n",
      "  inflating: fastText-0.9.2/website/static/docs/en/html/search/enumvalues_5.js  \n",
      "  inflating: fastText-0.9.2/website/static/docs/en/html/search/files_0.html  \n",
      "  inflating: fastText-0.9.2/website/static/docs/en/html/search/files_0.js  \n",
      "  inflating: fastText-0.9.2/website/static/docs/en/html/search/files_1.html  \n",
      "  inflating: fastText-0.9.2/website/static/docs/en/html/search/files_1.js  \n",
      "  inflating: fastText-0.9.2/website/static/docs/en/html/search/files_2.html  \n",
      "  inflating: fastText-0.9.2/website/static/docs/en/html/search/files_2.js  \n",
      "  inflating: fastText-0.9.2/website/static/docs/en/html/search/files_3.html  \n",
      "  inflating: fastText-0.9.2/website/static/docs/en/html/search/files_3.js  \n",
      "  inflating: fastText-0.9.2/website/static/docs/en/html/search/files_4.html  \n",
      "  inflating: fastText-0.9.2/website/static/docs/en/html/search/files_4.js  \n",
      "  inflating: fastText-0.9.2/website/static/docs/en/html/search/files_5.html  \n",
      "  inflating: fastText-0.9.2/website/static/docs/en/html/search/files_5.js  \n",
      "  inflating: fastText-0.9.2/website/static/docs/en/html/search/files_6.html  \n",
      "  inflating: fastText-0.9.2/website/static/docs/en/html/search/files_6.js  \n",
      "  inflating: fastText-0.9.2/website/static/docs/en/html/search/files_7.html  \n",
      "  inflating: fastText-0.9.2/website/static/docs/en/html/search/files_7.js  \n",
      "  inflating: fastText-0.9.2/website/static/docs/en/html/search/files_8.html  \n",
      "  inflating: fastText-0.9.2/website/static/docs/en/html/search/files_8.js  \n",
      "  inflating: fastText-0.9.2/website/static/docs/en/html/search/functions_0.html  \n",
      "  inflating: fastText-0.9.2/website/static/docs/en/html/search/functions_0.js  \n",
      "  inflating: fastText-0.9.2/website/static/docs/en/html/search/functions_1.html  \n",
      "  inflating: fastText-0.9.2/website/static/docs/en/html/search/functions_1.js  \n",
      "  inflating: fastText-0.9.2/website/static/docs/en/html/search/functions_10.html  \n",
      "  inflating: fastText-0.9.2/website/static/docs/en/html/search/functions_10.js  \n",
      "  inflating: fastText-0.9.2/website/static/docs/en/html/search/functions_11.html  \n",
      "  inflating: fastText-0.9.2/website/static/docs/en/html/search/functions_11.js  \n",
      "  inflating: fastText-0.9.2/website/static/docs/en/html/search/functions_12.html  \n",
      "  inflating: fastText-0.9.2/website/static/docs/en/html/search/functions_12.js  \n",
      "  inflating: fastText-0.9.2/website/static/docs/en/html/search/functions_13.html  \n",
      "  inflating: fastText-0.9.2/website/static/docs/en/html/search/functions_13.js  \n",
      "  inflating: fastText-0.9.2/website/static/docs/en/html/search/functions_14.html  \n",
      "  inflating: fastText-0.9.2/website/static/docs/en/html/search/functions_14.js  \n",
      "  inflating: fastText-0.9.2/website/static/docs/en/html/search/functions_15.html  \n",
      "  inflating: fastText-0.9.2/website/static/docs/en/html/search/functions_15.js  \n",
      "  inflating: fastText-0.9.2/website/static/docs/en/html/search/functions_16.html  \n",
      "  inflating: fastText-0.9.2/website/static/docs/en/html/search/functions_16.js  \n",
      "  inflating: fastText-0.9.2/website/static/docs/en/html/search/functions_17.html  \n",
      "  inflating: fastText-0.9.2/website/static/docs/en/html/search/functions_17.js  \n",
      "  inflating: fastText-0.9.2/website/static/docs/en/html/search/functions_2.html  \n",
      "  inflating: fastText-0.9.2/website/static/docs/en/html/search/functions_2.js  \n",
      "  inflating: fastText-0.9.2/website/static/docs/en/html/search/functions_3.html  \n",
      "  inflating: fastText-0.9.2/website/static/docs/en/html/search/functions_3.js  \n",
      "  inflating: fastText-0.9.2/website/static/docs/en/html/search/functions_4.html  \n",
      "  inflating: fastText-0.9.2/website/static/docs/en/html/search/functions_4.js  \n",
      "  inflating: fastText-0.9.2/website/static/docs/en/html/search/functions_5.html  \n",
      "  inflating: fastText-0.9.2/website/static/docs/en/html/search/functions_5.js  \n",
      "  inflating: fastText-0.9.2/website/static/docs/en/html/search/functions_6.html  \n",
      "  inflating: fastText-0.9.2/website/static/docs/en/html/search/functions_6.js  \n",
      "  inflating: fastText-0.9.2/website/static/docs/en/html/search/functions_7.html  \n",
      "  inflating: fastText-0.9.2/website/static/docs/en/html/search/functions_7.js  \n",
      "  inflating: fastText-0.9.2/website/static/docs/en/html/search/functions_8.html  \n",
      "  inflating: fastText-0.9.2/website/static/docs/en/html/search/functions_8.js  \n",
      "  inflating: fastText-0.9.2/website/static/docs/en/html/search/functions_9.html  \n",
      "  inflating: fastText-0.9.2/website/static/docs/en/html/search/functions_9.js  \n",
      "  inflating: fastText-0.9.2/website/static/docs/en/html/search/functions_a.html  \n",
      "  inflating: fastText-0.9.2/website/static/docs/en/html/search/functions_a.js  \n",
      "  inflating: fastText-0.9.2/website/static/docs/en/html/search/functions_b.html  \n",
      "  inflating: fastText-0.9.2/website/static/docs/en/html/search/functions_b.js  \n",
      "  inflating: fastText-0.9.2/website/static/docs/en/html/search/functions_c.html  \n",
      "  inflating: fastText-0.9.2/website/static/docs/en/html/search/functions_c.js  \n",
      "  inflating: fastText-0.9.2/website/static/docs/en/html/search/functions_d.html  \n",
      "  inflating: fastText-0.9.2/website/static/docs/en/html/search/functions_d.js  \n",
      "  inflating: fastText-0.9.2/website/static/docs/en/html/search/functions_e.html  \n",
      "  inflating: fastText-0.9.2/website/static/docs/en/html/search/functions_e.js  \n",
      "  inflating: fastText-0.9.2/website/static/docs/en/html/search/functions_f.html  \n",
      "  inflating: fastText-0.9.2/website/static/docs/en/html/search/functions_f.js  \n",
      " extracting: fastText-0.9.2/website/static/docs/en/html/search/mag_sel.png  \n",
      "  inflating: fastText-0.9.2/website/static/docs/en/html/search/namespaces_0.html  \n",
      "  inflating: fastText-0.9.2/website/static/docs/en/html/search/namespaces_0.js  \n",
      "  inflating: fastText-0.9.2/website/static/docs/en/html/search/nomatches.html  \n",
      "  inflating: fastText-0.9.2/website/static/docs/en/html/search/search.css  \n",
      "  inflating: fastText-0.9.2/website/static/docs/en/html/search/search.js  \n",
      " extracting: fastText-0.9.2/website/static/docs/en/html/search/search_l.png  \n",
      "  inflating: fastText-0.9.2/website/static/docs/en/html/search/search_m.png  \n",
      " extracting: fastText-0.9.2/website/static/docs/en/html/search/search_r.png  \n",
      "  inflating: fastText-0.9.2/website/static/docs/en/html/search/searchdata.js  \n",
      "  inflating: fastText-0.9.2/website/static/docs/en/html/search/typedefs_0.html  \n",
      "  inflating: fastText-0.9.2/website/static/docs/en/html/search/typedefs_0.js  \n",
      "  inflating: fastText-0.9.2/website/static/docs/en/html/search/typedefs_1.html  \n",
      "  inflating: fastText-0.9.2/website/static/docs/en/html/search/typedefs_1.js  \n",
      "  inflating: fastText-0.9.2/website/static/docs/en/html/search/variables_0.html  \n",
      "  inflating: fastText-0.9.2/website/static/docs/en/html/search/variables_0.js  \n",
      "  inflating: fastText-0.9.2/website/static/docs/en/html/search/variables_1.html  \n",
      "  inflating: fastText-0.9.2/website/static/docs/en/html/search/variables_1.js  \n",
      "  inflating: fastText-0.9.2/website/static/docs/en/html/search/variables_10.html  \n",
      "  inflating: fastText-0.9.2/website/static/docs/en/html/search/variables_10.js  \n",
      "  inflating: fastText-0.9.2/website/static/docs/en/html/search/variables_11.html  \n",
      "  inflating: fastText-0.9.2/website/static/docs/en/html/search/variables_11.js  \n",
      "  inflating: fastText-0.9.2/website/static/docs/en/html/search/variables_12.html  \n",
      "  inflating: fastText-0.9.2/website/static/docs/en/html/search/variables_12.js  \n",
      "  inflating: fastText-0.9.2/website/static/docs/en/html/search/variables_13.html  \n",
      "  inflating: fastText-0.9.2/website/static/docs/en/html/search/variables_13.js  \n",
      "  inflating: fastText-0.9.2/website/static/docs/en/html/search/variables_2.html  \n",
      "  inflating: fastText-0.9.2/website/static/docs/en/html/search/variables_2.js  \n"
     ]
    },
    {
     "name": "stdout",
     "output_type": "stream",
     "text": [
      "  inflating: fastText-0.9.2/website/static/docs/en/html/search/variables_3.html  \n",
      "  inflating: fastText-0.9.2/website/static/docs/en/html/search/variables_3.js  \n",
      "  inflating: fastText-0.9.2/website/static/docs/en/html/search/variables_4.html  \n",
      "  inflating: fastText-0.9.2/website/static/docs/en/html/search/variables_4.js  \n",
      "  inflating: fastText-0.9.2/website/static/docs/en/html/search/variables_5.html  \n",
      "  inflating: fastText-0.9.2/website/static/docs/en/html/search/variables_5.js  \n",
      "  inflating: fastText-0.9.2/website/static/docs/en/html/search/variables_6.html  \n",
      "  inflating: fastText-0.9.2/website/static/docs/en/html/search/variables_6.js  \n",
      "  inflating: fastText-0.9.2/website/static/docs/en/html/search/variables_7.html  \n",
      "  inflating: fastText-0.9.2/website/static/docs/en/html/search/variables_7.js  \n",
      "  inflating: fastText-0.9.2/website/static/docs/en/html/search/variables_8.html  \n",
      "  inflating: fastText-0.9.2/website/static/docs/en/html/search/variables_8.js  \n",
      "  inflating: fastText-0.9.2/website/static/docs/en/html/search/variables_9.html  \n",
      "  inflating: fastText-0.9.2/website/static/docs/en/html/search/variables_9.js  \n",
      "  inflating: fastText-0.9.2/website/static/docs/en/html/search/variables_a.html  \n",
      "  inflating: fastText-0.9.2/website/static/docs/en/html/search/variables_a.js  \n",
      "  inflating: fastText-0.9.2/website/static/docs/en/html/search/variables_b.html  \n",
      "  inflating: fastText-0.9.2/website/static/docs/en/html/search/variables_b.js  \n",
      "  inflating: fastText-0.9.2/website/static/docs/en/html/search/variables_c.html  \n",
      "  inflating: fastText-0.9.2/website/static/docs/en/html/search/variables_c.js  \n",
      "  inflating: fastText-0.9.2/website/static/docs/en/html/search/variables_d.html  \n",
      "  inflating: fastText-0.9.2/website/static/docs/en/html/search/variables_d.js  \n",
      "  inflating: fastText-0.9.2/website/static/docs/en/html/search/variables_e.html  \n",
      "  inflating: fastText-0.9.2/website/static/docs/en/html/search/variables_e.js  \n",
      "  inflating: fastText-0.9.2/website/static/docs/en/html/search/variables_f.html  \n",
      "  inflating: fastText-0.9.2/website/static/docs/en/html/search/variables_f.js  \n",
      "  inflating: fastText-0.9.2/website/static/docs/en/html/splitbar.png  \n",
      "  inflating: fastText-0.9.2/website/static/docs/en/html/structfasttext_1_1Node-members.html  \n",
      "  inflating: fastText-0.9.2/website/static/docs/en/html/structfasttext_1_1Node.html  \n",
      "  inflating: fastText-0.9.2/website/static/docs/en/html/structfasttext_1_1Node.js  \n",
      "  inflating: fastText-0.9.2/website/static/docs/en/html/structfasttext_1_1entry-members.html  \n",
      "  inflating: fastText-0.9.2/website/static/docs/en/html/structfasttext_1_1entry.html  \n",
      "  inflating: fastText-0.9.2/website/static/docs/en/html/structfasttext_1_1entry.js  \n",
      " extracting: fastText-0.9.2/website/static/docs/en/html/sync_off.png  \n",
      " extracting: fastText-0.9.2/website/static/docs/en/html/sync_on.png  \n",
      " extracting: fastText-0.9.2/website/static/docs/en/html/tab_a.png  \n",
      " extracting: fastText-0.9.2/website/static/docs/en/html/tab_b.png  \n",
      " extracting: fastText-0.9.2/website/static/docs/en/html/tab_h.png  \n",
      " extracting: fastText-0.9.2/website/static/docs/en/html/tab_s.png  \n",
      "  inflating: fastText-0.9.2/website/static/docs/en/html/tabs.css  \n",
      "  inflating: fastText-0.9.2/website/static/docs/en/html/utils_8cc.html  \n",
      "  inflating: fastText-0.9.2/website/static/docs/en/html/utils_8cc.js  \n",
      "  inflating: fastText-0.9.2/website/static/docs/en/html/utils_8h.html  \n",
      "  inflating: fastText-0.9.2/website/static/docs/en/html/utils_8h.js  \n",
      "  inflating: fastText-0.9.2/website/static/docs/en/html/utils_8h_source.html  \n",
      "  inflating: fastText-0.9.2/website/static/docs/en/html/vector_8cc.html  \n",
      "  inflating: fastText-0.9.2/website/static/docs/en/html/vector_8cc.js  \n",
      "  inflating: fastText-0.9.2/website/static/docs/en/html/vector_8h.html  \n",
      "  inflating: fastText-0.9.2/website/static/docs/en/html/vector_8h.js  \n",
      "  inflating: fastText-0.9.2/website/static/docs/en/html/vector_8h_source.html  \n",
      "  inflating: fastText-0.9.2/website/static/fasttext.css  \n",
      "   creating: fastText-0.9.2/website/static/img/\n",
      "   creating: fastText-0.9.2/website/static/img/authors/\n",
      "  inflating: fastText-0.9.2/website/static/img/authors/armand_joulin.jpg  \n",
      "  inflating: fastText-0.9.2/website/static/img/authors/christian_puhrsch.png  \n",
      "  inflating: fastText-0.9.2/website/static/img/authors/edouard_grave.jpeg  \n",
      "  inflating: fastText-0.9.2/website/static/img/authors/piotr_bojanowski.jpg  \n",
      "  inflating: fastText-0.9.2/website/static/img/authors/tomas_mikolov.jpg  \n",
      "   creating: fastText-0.9.2/website/static/img/blog/\n",
      "  inflating: fastText-0.9.2/website/static/img/blog/2016-08-18-blog-post-img1.png  \n",
      "  inflating: fastText-0.9.2/website/static/img/blog/2016-08-18-blog-post-img2.png  \n",
      "  inflating: fastText-0.9.2/website/static/img/blog/2017-05-02-blog-post-img1.jpg  \n",
      "  inflating: fastText-0.9.2/website/static/img/blog/2017-05-02-blog-post-img2.jpg  \n",
      "  inflating: fastText-0.9.2/website/static/img/blog/2017-10-02-blog-post-img1.png  \n",
      "  inflating: fastText-0.9.2/website/static/img/cbo_vs_skipgram.png  \n",
      "  inflating: fastText-0.9.2/website/static/img/fasttext-icon-api.png  \n",
      "  inflating: fastText-0.9.2/website/static/img/fasttext-icon-bg-web.png  \n",
      "  inflating: fastText-0.9.2/website/static/img/fasttext-icon-color-square.png  \n",
      "  inflating: fastText-0.9.2/website/static/img/fasttext-icon-color-web.png  \n",
      "  inflating: fastText-0.9.2/website/static/img/fasttext-icon-faq.png  \n",
      "  inflating: fastText-0.9.2/website/static/img/fasttext-icon-tutorial.png  \n",
      "  inflating: fastText-0.9.2/website/static/img/fasttext-icon-white-web.png  \n",
      "  inflating: fastText-0.9.2/website/static/img/fasttext-logo-color-web.png  \n",
      "  inflating: fastText-0.9.2/website/static/img/fasttext-logo-white-web.png  \n",
      "  inflating: fastText-0.9.2/website/static/img/logo-color.png  \n",
      "  inflating: fastText-0.9.2/website/static/img/model-black.png  \n",
      "  inflating: fastText-0.9.2/website/static/img/model-blue.png  \n",
      "  inflating: fastText-0.9.2/website/static/img/model-red.png  \n",
      "  inflating: fastText-0.9.2/website/static/img/ogimage.png  \n",
      "  inflating: fastText-0.9.2/website/static/img/oss_logo.png  \n",
      "  inflating: fastText-0.9.2/website/static/tabber.js  \n",
      "  inflating: fastText-0.9.2/wikifil.pl  \n",
      "  inflating: fastText-0.9.2/word-vector-example.sh  \n",
      "c++ -pthread -std=c++11 -march=native -O3 -funroll-loops -DNDEBUG -c src/args.cc\n",
      "c++ -pthread -std=c++11 -march=native -O3 -funroll-loops -DNDEBUG -c src/autotune.cc\n",
      "c++ -pthread -std=c++11 -march=native -O3 -funroll-loops -DNDEBUG -c src/matrix.cc\n",
      "c++ -pthread -std=c++11 -march=native -O3 -funroll-loops -DNDEBUG -c src/dictionary.cc\n",
      "c++ -pthread -std=c++11 -march=native -O3 -funroll-loops -DNDEBUG -c src/loss.cc\n",
      "c++ -pthread -std=c++11 -march=native -O3 -funroll-loops -DNDEBUG -c src/productquantizer.cc\n",
      "c++ -pthread -std=c++11 -march=native -O3 -funroll-loops -DNDEBUG -c src/densematrix.cc\n",
      "c++ -pthread -std=c++11 -march=native -O3 -funroll-loops -DNDEBUG -c src/quantmatrix.cc\n",
      "c++ -pthread -std=c++11 -march=native -O3 -funroll-loops -DNDEBUG -c src/vector.cc\n",
      "c++ -pthread -std=c++11 -march=native -O3 -funroll-loops -DNDEBUG -c src/model.cc\n",
      "c++ -pthread -std=c++11 -march=native -O3 -funroll-loops -DNDEBUG -c src/utils.cc\n",
      "c++ -pthread -std=c++11 -march=native -O3 -funroll-loops -DNDEBUG -c src/meter.cc\n",
      "c++ -pthread -std=c++11 -march=native -O3 -funroll-loops -DNDEBUG -c src/fasttext.cc\n",
      "c++ -pthread -std=c++11 -march=native -O3 -funroll-loops -DNDEBUG args.o autotune.o matrix.o dictionary.o loss.o productquantizer.o densematrix.o quantmatrix.o vector.o model.o utils.o meter.o fasttext.o src/main.cc -o fasttext\n",
      "Defaulting to user installation because normal site-packages is not writeable\n",
      "Processing /home/token/Bureau/nlp_symbolic/fastText-0.9.2\n",
      "\u001b[33m  DEPRECATION: A future pip version will change local packages to be built in-place without first copying to a temporary directory. We recommend you use --use-feature=in-tree-build to test your packages with this new behavior before it becomes the default.\n",
      "   pip 21.3 will remove support for this functionality. You can find discussion regarding this at https://github.com/pypa/pip/issues/7555.\u001b[0m\n",
      "Requirement already satisfied: numpy in /home/token/.local/lib/python3.9/site-packages (from fasttext==0.9.2) (1.19.5)\n",
      "Requirement already satisfied: pybind11>=2.2 in /home/token/.local/lib/python3.9/site-packages (from fasttext==0.9.2) (2.7.1)\n",
      "Requirement already satisfied: setuptools>=0.7.0 in /usr/lib/python3/dist-packages (from fasttext==0.9.2) (52.0.0)\n",
      "Building wheels for collected packages: fasttext\n"
     ]
    },
    {
     "name": "stdout",
     "output_type": "stream",
     "text": [
      "  Building wheel for fasttext (setup.py) ... \u001b[?25ldone\n",
      "\u001b[?25h  Created wheel for fasttext: filename=fasttext-0.9.2-cp39-cp39-linux_x86_64.whl size=4168004 sha256=acf00d7aa4a61bb4a3e39222d0a2d5a25382a48cfc7cc7fc65ba619c085e4c99\n",
      "  Stored in directory: /home/token/.cache/pip/wheels/05/02/87/cedb84c3bafd59b4d41ab1fa00207f56e80b5137c88cb55d7e\n",
      "Successfully built fasttext\n",
      "Installing collected packages: fasttext\n",
      "  Attempting uninstall: fasttext\n",
      "    Found existing installation: fasttext 0.9.2\n",
      "    Uninstalling fasttext-0.9.2:\n",
      "      Successfully uninstalled fasttext-0.9.2\n",
      "Successfully installed fasttext-0.9.2\n",
      "Downloading https://dl.fbaipublicfiles.com/fasttext/vectors-crawl/cc.en.300.bin.gz\n",
      " (31.78%) [===============>                                   ]\r"
     ]
    }
   ],
   "source": [
    "from src.fast_word import *"
   ]
  },
  {
   "cell_type": "markdown",
   "id": "98184e14",
   "metadata": {},
   "source": [
    "The first step of this tutorial is to install and build fastText."
   ]
  },
  {
   "cell_type": "markdown",
   "id": "8a6361f4",
   "metadata": {},
   "source": [
    "### Download directly with command line the english dataset"
   ]
  },
  {
   "cell_type": "code",
   "execution_count": 6,
   "id": "8f4592f3",
   "metadata": {},
   "outputs": [
    {
     "name": "stdout",
     "output_type": "stream",
     "text": [
      "File exists. Use --overwrite to download anyway.\r\n"
     ]
    }
   ],
   "source": [
    "!cd fastText-0.9.2 && python3 download_model.py en"
   ]
  },
  {
   "cell_type": "markdown",
   "id": "ed519ac1",
   "metadata": {},
   "source": [
    "### Loading the dataset \"IMDB\""
   ]
  },
  {
   "cell_type": "markdown",
   "id": "0345ca03",
   "metadata": {},
   "source": [
    "Using the split argument, we can split the imdb into two separate dataset."
   ]
  },
  {
   "cell_type": "code",
   "execution_count": 124,
   "id": "91a2393f",
   "metadata": {
    "scrolled": true
   },
   "outputs": [
    {
     "name": "stderr",
     "output_type": "stream",
     "text": [
      "Reusing dataset imdb (/home/token/.cache/huggingface/datasets/imdb/plain_text/1.0.0/e3c66f1788a67a89c7058d97ff62b6c30531e05b549de56d3ab91891f0561f9a)\n",
      "Reusing dataset imdb (/home/token/.cache/huggingface/datasets/imdb/plain_text/1.0.0/e3c66f1788a67a89c7058d97ff62b6c30531e05b549de56d3ab91891f0561f9a)\n"
     ]
    }
   ],
   "source": [
    "train_dataset = load_dataset('imdb', split='train')\n",
    "test_dataset = load_dataset('imdb', split='test')"
   ]
  },
  {
   "cell_type": "markdown",
   "id": "fb8c693f",
   "metadata": {},
   "source": [
    "*train_dataset* is a class with two attributes :\n",
    "- Features which contains two features : text and label (our x_train and our y_train)\n",
    "- The number of rows in our dataset"
   ]
  },
  {
   "cell_type": "code",
   "execution_count": 125,
   "id": "e9af32b7",
   "metadata": {
    "scrolled": true
   },
   "outputs": [
    {
     "name": "stdout",
     "output_type": "stream",
     "text": [
      "Dataset({\n",
      "    features: ['text', 'label'],\n",
      "    num_rows: 25000\n",
      "})\n"
     ]
    }
   ],
   "source": [
    "print(train_dataset)"
   ]
  },
  {
   "cell_type": "markdown",
   "id": "1d74d6e0",
   "metadata": {},
   "source": [
    "If we take the first sample of our training dataset, we can see the first review and the label (positive or negative) according to that review."
   ]
  },
  {
   "cell_type": "code",
   "execution_count": 126,
   "id": "9b931fb6",
   "metadata": {},
   "outputs": [
    {
     "name": "stdout",
     "output_type": "stream",
     "text": [
      "{'text': 'Bromwell High is a cartoon comedy. It ran at the same time as some other programs about school life, such as \"Teachers\". My 35 years in the teaching profession lead me to believe that Bromwell High\\'s satire is much closer to reality than is \"Teachers\". The scramble to survive financially, the insightful students who can see right through their pathetic teachers\\' pomp, the pettiness of the whole situation, all remind me of the schools I knew and their students. When I saw the episode in which a student repeatedly tried to burn down the school, I immediately recalled ......... at .......... High. A classic line: INSPECTOR: I\\'m here to sack one of your teachers. STUDENT: Welcome to Bromwell High. I expect that many adults of my age think that Bromwell High is far fetched. What a pity that it isn\\'t!', 'label': 1}\n"
     ]
    }
   ],
   "source": [
    "print(train_dataset[0])"
   ]
  },
  {
   "cell_type": "markdown",
   "id": "e19914e4",
   "metadata": {},
   "source": [
    "### Preprocessing the dataset"
   ]
  },
  {
   "cell_type": "markdown",
   "id": "581d2f97",
   "metadata": {},
   "source": [
    "With the review we previously saw, the review are definitely not preprocessed. There is still some html tags etc.. \n",
    "We definitely to work on those."
   ]
  },
  {
   "cell_type": "code",
   "execution_count": 127,
   "id": "ba2262ce",
   "metadata": {
    "scrolled": true
   },
   "outputs": [],
   "source": [
    "y_train = train_dataset['label']"
   ]
  },
  {
   "cell_type": "code",
   "execution_count": 128,
   "id": "3c142f44",
   "metadata": {},
   "outputs": [],
   "source": [
    "y_test = test_dataset['label']"
   ]
  },
  {
   "cell_type": "code",
   "execution_count": 129,
   "id": "6fabae29",
   "metadata": {},
   "outputs": [
    {
     "name": "stderr",
     "output_type": "stream",
     "text": [
      "100%|██████████| 25000/25000 [00:22<00:00, 1121.38it/s]\n",
      "100%|██████████| 5000/5000 [00:04<00:00, 1170.10it/s]\n",
      "100%|██████████| 25000/25000 [00:24<00:00, 1032.41it/s]\n"
     ]
    }
   ],
   "source": [
    "create_imdb_train_file(train_dataset, y_train)\n",
    "create_imdb_train_and_validation_file(train_dataset, y_train)\n",
    "create_imdb_test_file(test_dataset, y_test)"
   ]
  },
  {
   "cell_type": "markdown",
   "id": "25ae6571",
   "metadata": {},
   "source": [
    "## Let's train the model using fasttext."
   ]
  },
  {
   "cell_type": "markdown",
   "id": "f06dc732",
   "metadata": {},
   "source": [
    "##### 1) Lemming"
   ]
  },
  {
   "cell_type": "code",
   "execution_count": 130,
   "id": "37becb9e",
   "metadata": {},
   "outputs": [
    {
     "name": "stderr",
     "output_type": "stream",
     "text": [
      "100%|██████████| 25000/25000 [00:50<00:00, 494.66it/s]\n",
      "100%|██████████| 5000/5000 [00:10<00:00, 491.86it/s]\n",
      "100%|██████████| 25000/25000 [00:55<00:00, 453.75it/s]\n"
     ]
    }
   ],
   "source": [
    "create_imdb_train_file(train_dataset, y_train, lemm = True)\n",
    "create_imdb_train_and_validation_file(train_dataset, y_train, lemm = True)\n",
    "create_imdb_test_file(test_dataset, y_test, lemm = True)"
   ]
  },
  {
   "cell_type": "code",
   "execution_count": 131,
   "id": "c5ad2c62",
   "metadata": {
    "scrolled": true
   },
   "outputs": [
    {
     "name": "stdout",
     "output_type": "stream",
     "text": [
      "CPU times: user 21.3 s, sys: 520 ms, total: 21.8 s\n",
      "Wall time: 4.92 s\n"
     ]
    }
   ],
   "source": [
    "%%time\n",
    "model = fasttext.train_supervised(input=\"imdb_train_lemmed.txt\")"
   ]
  },
  {
   "cell_type": "code",
   "execution_count": 132,
   "id": "8606f001",
   "metadata": {},
   "outputs": [
    {
     "name": "stdout",
     "output_type": "stream",
     "text": [
      "Nombre de sample: 25000, Taux de précision: 0.86904, Rappel: 0.86904\n"
     ]
    }
   ],
   "source": [
    "res = model.test(\"imdb_test.txt\")\n",
    "print(\"Nombre de sample: \" + str(res[0]) + \", Taux de précision: \" + str(res[1]) + \", Rappel: \" + str(res[2]))"
   ]
  },
  {
   "cell_type": "markdown",
   "id": "f84519c5",
   "metadata": {},
   "source": [
    "##### 2) Stemming"
   ]
  },
  {
   "cell_type": "code",
   "execution_count": 133,
   "id": "4ecd6ef2",
   "metadata": {},
   "outputs": [
    {
     "name": "stderr",
     "output_type": "stream",
     "text": [
      "100%|██████████| 25000/25000 [02:20<00:00, 178.41it/s]\n",
      "100%|██████████| 5000/5000 [00:30<00:00, 166.08it/s]\n",
      "100%|██████████| 25000/25000 [01:54<00:00, 217.94it/s]\n"
     ]
    }
   ],
   "source": [
    "create_imdb_train_file(train_dataset, y_train, stemm = True)\n",
    "create_imdb_train_and_validation_file(train_dataset, y_train, stemm = True)\n",
    "create_imdb_test_file(test_dataset, y_test, stemm = True)"
   ]
  },
  {
   "cell_type": "code",
   "execution_count": 134,
   "id": "946f812e",
   "metadata": {
    "scrolled": true
   },
   "outputs": [
    {
     "name": "stdout",
     "output_type": "stream",
     "text": [
      "CPU times: user 22.1 s, sys: 238 ms, total: 22.4 s\n",
      "Wall time: 4.45 s\n"
     ]
    }
   ],
   "source": [
    "%%time\n",
    "model = fasttext.train_supervised(input=\"imdb_train_stemmed.txt\")"
   ]
  },
  {
   "cell_type": "code",
   "execution_count": 135,
   "id": "56ff767e",
   "metadata": {},
   "outputs": [
    {
     "name": "stdout",
     "output_type": "stream",
     "text": [
      "Nombre de sample: 25000, Taux de précision: 0.80024, Rappel: 0.80024\n"
     ]
    }
   ],
   "source": [
    "res = model.test(\"imdb_test.txt\")\n",
    "print(\"Nombre de sample: \" + str(res[0]) + \", Taux de précision: \" + str(res[1]) + \", Rappel: \" + str(res[2]))"
   ]
  },
  {
   "cell_type": "markdown",
   "id": "cb9bdecd",
   "metadata": {},
   "source": [
    "##### 3) Stop Words"
   ]
  },
  {
   "cell_type": "code",
   "execution_count": 136,
   "id": "4d2ab867",
   "metadata": {
    "scrolled": true
   },
   "outputs": [
    {
     "name": "stderr",
     "output_type": "stream",
     "text": [
      "100%|██████████| 25000/25000 [00:18<00:00, 1331.50it/s]\n",
      "100%|██████████| 5000/5000 [00:03<00:00, 1334.77it/s]\n",
      "100%|██████████| 25000/25000 [00:18<00:00, 1381.93it/s]\n"
     ]
    }
   ],
   "source": [
    "create_imdb_train_file(train_dataset, y_train, stop_words = True)\n",
    "create_imdb_train_and_validation_file(train_dataset, y_train, stop_words = True)\n",
    "create_imdb_test_file(test_dataset, y_test, stop_words = True)"
   ]
  },
  {
   "cell_type": "code",
   "execution_count": 137,
   "id": "bf9d36d3",
   "metadata": {},
   "outputs": [
    {
     "name": "stdout",
     "output_type": "stream",
     "text": [
      "CPU times: user 10.9 s, sys: 167 ms, total: 11.1 s\n",
      "Wall time: 2.22 s\n"
     ]
    }
   ],
   "source": [
    "%%time\n",
    "model = fasttext.train_supervised(input=\"imdb_train_sw.txt\")"
   ]
  },
  {
   "cell_type": "code",
   "execution_count": 138,
   "id": "86ddd80a",
   "metadata": {},
   "outputs": [
    {
     "name": "stdout",
     "output_type": "stream",
     "text": [
      "Nombre de sample: 25000, Taux de précision: 0.87424, Rappel: 0.87424\n"
     ]
    }
   ],
   "source": [
    "res = model.test(\"imdb_test.txt\")\n",
    "print(\"Nombre de sample: \" + str(res[0]) + \", Taux de précision: \" + str(res[1]) + \", Rappel: \" + str(res[2]))"
   ]
  },
  {
   "cell_type": "markdown",
   "id": "e60d67c5",
   "metadata": {},
   "source": [
    "##### 4) None"
   ]
  },
  {
   "cell_type": "code",
   "execution_count": 139,
   "id": "a00c7d71",
   "metadata": {},
   "outputs": [
    {
     "name": "stdout",
     "output_type": "stream",
     "text": [
      "CPU times: user 21.2 s, sys: 243 ms, total: 21.4 s\n",
      "Wall time: 3.9 s\n"
     ]
    }
   ],
   "source": [
    "%%time\n",
    "model = fasttext.train_supervised(input=\"imdb_train.txt\")"
   ]
  },
  {
   "cell_type": "code",
   "execution_count": 140,
   "id": "e14b22da",
   "metadata": {
    "scrolled": true
   },
   "outputs": [
    {
     "name": "stdout",
     "output_type": "stream",
     "text": [
      "Nombre de sample: 25000, Taux de précision: 0.8758, Rappel: 0.8758\n"
     ]
    }
   ],
   "source": [
    "res = model.test(\"imdb_test.txt\")\n",
    "print(\"Nombre de sample: \" + str(res[0]) + \", Taux de précision: \" + str(res[1]) + \", Rappel: \" + str(res[2]))"
   ]
  },
  {
   "cell_type": "markdown",
   "id": "a1125b05",
   "metadata": {},
   "source": [
    "### Making the model better"
   ]
  },
  {
   "cell_type": "markdown",
   "id": "e8fbc9b2",
   "metadata": {},
   "source": [
    "#### How about N-grams ?"
   ]
  },
  {
   "cell_type": "code",
   "execution_count": 141,
   "id": "4da0992f",
   "metadata": {},
   "outputs": [
    {
     "name": "stdout",
     "output_type": "stream",
     "text": [
      "CPU times: user 48.6 s, sys: 837 ms, total: 49.4 s\n",
      "Wall time: 9.42 s\n"
     ]
    }
   ],
   "source": [
    "%%time\n",
    "model = fasttext.train_supervised(input=\"imdb_train.txt\", wordNgrams=2) "
   ]
  },
  {
   "cell_type": "code",
   "execution_count": 142,
   "id": "a638f1f1",
   "metadata": {},
   "outputs": [
    {
     "name": "stdout",
     "output_type": "stream",
     "text": [
      "Nombre de sample: 25000, Taux de précision: 0.87156, Rappel: 0.87156\n"
     ]
    }
   ],
   "source": [
    "res = model.test(\"imdb_test.txt\")\n",
    "print(\"Nombre de sample: \" + str(res[0]) + \", Taux de précision: \" + str(res[1]) + \", Rappel: \" + str(res[2]))"
   ]
  },
  {
   "cell_type": "markdown",
   "id": "f717628d",
   "metadata": {},
   "source": [
    "#### With more epochs and a smaller learning_rate ?"
   ]
  },
  {
   "cell_type": "code",
   "execution_count": 143,
   "id": "7b3d63ad",
   "metadata": {},
   "outputs": [
    {
     "name": "stdout",
     "output_type": "stream",
     "text": [
      "CPU times: user 3min 37s, sys: 1.61 s, total: 3min 38s\n",
      "Wall time: 34.5 s\n"
     ]
    }
   ],
   "source": [
    "%%time\n",
    "model = fasttext.train_supervised(input=\"imdb_train.txt\", lr=0.5, epoch=25, wordNgrams=2)"
   ]
  },
  {
   "cell_type": "code",
   "execution_count": 144,
   "id": "e288098e",
   "metadata": {},
   "outputs": [
    {
     "name": "stdout",
     "output_type": "stream",
     "text": [
      "Nombre de sample: 25000, Taux de précision: 0.89668, Rappel: 0.89668\n"
     ]
    }
   ],
   "source": [
    "res = model.test(\"imdb_test.txt\")\n",
    "print(\"Nombre de sample: \" + str(res[0]) + \", Taux de précision: \" + str(res[1]) + \", Rappel: \" + str(res[2]))"
   ]
  },
  {
   "cell_type": "markdown",
   "id": "3a0c0fa5",
   "metadata": {},
   "source": [
    "#### With more epochs and a smaller smaller learning_rate ?"
   ]
  },
  {
   "cell_type": "code",
   "execution_count": 145,
   "id": "111bffa3",
   "metadata": {},
   "outputs": [
    {
     "name": "stdout",
     "output_type": "stream",
     "text": [
      "CPU times: user 3min 44s, sys: 1.82 s, total: 3min 45s\n",
      "Wall time: 35 s\n"
     ]
    }
   ],
   "source": [
    "%%time\n",
    "model = fasttext.train_supervised(input=\"imdb_train.txt\", lr=0.25, epoch=25, wordNgrams=2)"
   ]
  },
  {
   "cell_type": "code",
   "execution_count": 146,
   "id": "859e6bc3",
   "metadata": {},
   "outputs": [
    {
     "name": "stdout",
     "output_type": "stream",
     "text": [
      "Nombre de sample: 25000, Taux de précision: 0.89672, Rappel: 0.89672\n"
     ]
    }
   ],
   "source": [
    "res = model.test(\"imdb_test.txt\")\n",
    "print(\"Nombre de sample: \" + str(res[0]) + \", Taux de précision: \" + str(res[1]) + \", Rappel: \" + str(res[2]))"
   ]
  },
  {
   "cell_type": "markdown",
   "id": "c7b94f6d",
   "metadata": {},
   "source": [
    "#### With more epochs and a bigger learning_rate ?"
   ]
  },
  {
   "cell_type": "code",
   "execution_count": 147,
   "id": "94e07a09",
   "metadata": {},
   "outputs": [
    {
     "name": "stdout",
     "output_type": "stream",
     "text": [
      "CPU times: user 3min 43s, sys: 1.81 s, total: 3min 45s\n",
      "Wall time: 34.7 s\n"
     ]
    }
   ],
   "source": [
    "%%time\n",
    "model = fasttext.train_supervised(input=\"imdb_train.txt\", lr=1.0, epoch=25, wordNgrams=2)"
   ]
  },
  {
   "cell_type": "code",
   "execution_count": 148,
   "id": "86e20431",
   "metadata": {},
   "outputs": [
    {
     "name": "stdout",
     "output_type": "stream",
     "text": [
      "Nombre de sample: 25000, Taux de précision: 0.89532, Rappel: 0.89532\n"
     ]
    }
   ],
   "source": [
    "res = model.test(\"imdb_test.txt\")\n",
    "print(\"Nombre de sample: \" + str(res[0]) + \", Taux de précision: \" + str(res[1]) + \", Rappel: \" + str(res[2]))"
   ]
  },
  {
   "cell_type": "markdown",
   "id": "6841f889",
   "metadata": {},
   "source": [
    "#### With the autotuneValidationfile (testing and performance purpose)"
   ]
  },
  {
   "cell_type": "code",
   "execution_count": 149,
   "id": "bea032c7",
   "metadata": {},
   "outputs": [
    {
     "name": "stdout",
     "output_type": "stream",
     "text": [
      "CPU times: user 17min 21s, sys: 7.12 s, total: 17min 28s\n",
      "Wall time: 2min 51s\n"
     ]
    }
   ],
   "source": [
    "%%time\n",
    "model = fasttext.train_supervised(input=\"imdb_train_splited_with_the_validation.txt\", autotuneValidationFile='imdb_validation.txt', autotuneDuration=150)"
   ]
  },
  {
   "cell_type": "code",
   "execution_count": 150,
   "id": "567ab579",
   "metadata": {
    "scrolled": true
   },
   "outputs": [
    {
     "name": "stdout",
     "output_type": "stream",
     "text": [
      "Nombre de sample: 25000, Taux de précision: 0.854, Rappel: 0.854\n"
     ]
    }
   ],
   "source": [
    "res = model.test(\"imdb_test.txt\")\n",
    "print(\"Nombre de sample: \" + str(res[0]) + \", Taux de précision: \" + str(res[1]) + \", Rappel: \" + str(res[2]))"
   ]
  },
  {
   "cell_type": "markdown",
   "id": "1ec6a7da",
   "metadata": {},
   "source": [
    "## Beating the baseline"
   ]
  },
  {
   "cell_type": "markdown",
   "id": "f2199f2d",
   "metadata": {},
   "source": [
    "### Glove"
   ]
  },
  {
   "cell_type": "markdown",
   "id": "153f4c43",
   "metadata": {},
   "source": [
    "Special preprocessing for glove."
   ]
  },
  {
   "cell_type": "code",
   "execution_count": 161,
   "id": "e5fb3bb2",
   "metadata": {},
   "outputs": [],
   "source": [
    "x_train = []\n",
    "x_test = []\n",
    "\n",
    "for i in range(train_dataset.num_rows):\n",
    "    x_train.append(pre_process_document(train_dataset[i]['text'], False, False, False))\n",
    "    \n",
    "\n",
    "for i in range(test_dataset.num_rows):\n",
    "    x_test.append(pre_process_document(test_dataset[i]['text'], False, False, False))"
   ]
  },
  {
   "cell_type": "markdown",
   "id": "300ff73f",
   "metadata": {},
   "source": [
    "EmbeddingTransformer with glove"
   ]
  },
  {
   "cell_type": "code",
   "execution_count": 156,
   "id": "75213ea4",
   "metadata": {},
   "outputs": [],
   "source": [
    "glove = EmbeddingTransformer('glove')\n",
    "x_train = glove.transform(x_train)"
   ]
  },
  {
   "cell_type": "markdown",
   "id": "be53324c",
   "metadata": {},
   "source": [
    "Call the logistic regression and fit it with the x_train reshaped and transformed."
   ]
  },
  {
   "cell_type": "code",
   "execution_count": 157,
   "id": "647839a4",
   "metadata": {},
   "outputs": [
    {
     "data": {
      "text/plain": [
       "LogisticRegression(max_iter=1000, random_state=42)"
      ]
     },
     "execution_count": 157,
     "metadata": {},
     "output_type": "execute_result"
    }
   ],
   "source": [
    "model = LogisticRegression(random_state=42, solver='lbfgs', max_iter=1000)\n",
    "model.fit(x_train, y_train)"
   ]
  },
  {
   "cell_type": "markdown",
   "id": "11914fb2",
   "metadata": {},
   "source": [
    "Predict the testing dataset that we have and let's see how well we performed compared to our baseline."
   ]
  },
  {
   "cell_type": "code",
   "execution_count": 162,
   "id": "fdfa7a60",
   "metadata": {},
   "outputs": [
    {
     "name": "stdout",
     "output_type": "stream",
     "text": [
      "              precision    recall  f1-score   support\n",
      "\n",
      "           0       0.74      0.77      0.76     12500\n",
      "           1       0.76      0.73      0.75     12500\n",
      "\n",
      "    accuracy                           0.75     25000\n",
      "   macro avg       0.75      0.75      0.75     25000\n",
      "weighted avg       0.75      0.75      0.75     25000\n",
      "\n"
     ]
    }
   ],
   "source": [
    "x_test = glove.transform(x_test)\n",
    "y_pred = model.predict(x_test)\n",
    "print(classification_report(y_test, y_pred))"
   ]
  }
 ],
 "metadata": {
  "kernelspec": {
   "display_name": "Python 3",
   "language": "python",
   "name": "python3"
  },
  "language_info": {
   "codemirror_mode": {
    "name": "ipython",
    "version": 3
   },
   "file_extension": ".py",
   "mimetype": "text/x-python",
   "name": "python",
   "nbconvert_exporter": "python",
   "pygments_lexer": "ipython3",
   "version": "3.8.10"
  }
 },
 "nbformat": 4,
 "nbformat_minor": 5
}
