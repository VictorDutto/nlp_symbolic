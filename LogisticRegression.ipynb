{
 "cells": [
  {
   "cell_type": "markdown",
   "id": "97532498-ca3b-4acb-abc4-3e3df3bccd26",
   "metadata": {},
   "source": [
    "Logistic Regression"
   ]
  },
  {
   "cell_type": "code",
   "execution_count": 1,
   "id": "3f87543d-7238-4882-9b80-2cf69bf48897",
   "metadata": {},
   "outputs": [],
   "source": [
    "from logistic_regression import *"
   ]
  },
  {
   "cell_type": "markdown",
   "id": "011eb56c-8ab5-4d89-bf12-888b07b2f6d6",
   "metadata": {},
   "source": [
    "### Importing HuggingFace"
   ]
  },
  {
   "cell_type": "code",
   "execution_count": 2,
   "id": "84f03088",
   "metadata": {},
   "outputs": [
    {
     "name": "stderr",
     "output_type": "stream",
     "text": [
      "Reusing dataset imdb (/home/surenis/.cache/huggingface/datasets/imdb/plain_text/1.0.0/e3c66f1788a67a89c7058d97ff62b6c30531e05b549de56d3ab91891f0561f9a)\n",
      "Reusing dataset imdb (/home/surenis/.cache/huggingface/datasets/imdb/plain_text/1.0.0/e3c66f1788a67a89c7058d97ff62b6c30531e05b549de56d3ab91891f0561f9a)\n"
     ]
    }
   ],
   "source": [
    "train_dataset = load_dataset('imdb', split='train')\n",
    "test_dataset = load_dataset('imdb', split='test')"
   ]
  },
  {
   "cell_type": "code",
   "execution_count": 3,
   "id": "94860bb6",
   "metadata": {},
   "outputs": [],
   "source": [
    "x_train, y_train = generate_x_and_y(train_dataset)\n",
    "x_test, y_test = generate_x_and_y(test_dataset)"
   ]
  },
  {
   "cell_type": "markdown",
   "id": "3b31a9af",
   "metadata": {},
   "source": [
    "### Logistic Regression"
   ]
  },
  {
   "cell_type": "markdown",
   "id": "1f10640c",
   "metadata": {},
   "source": [
    "Let's search for all the words finishing with !\n",
    "\n",
    "As it would make no sense that the ! character appears before the end of the word"
   ]
  },
  {
   "cell_type": "markdown",
   "id": "8ce6d0be",
   "metadata": {},
   "source": [
    "it appears no words ends with ! in the training set\n",
    "\n",
    "Thus, there is no need to check for ! in the documents"
   ]
  },
  {
   "cell_type": "code",
   "execution_count": 4,
   "id": "848e5082",
   "metadata": {},
   "outputs": [
    {
     "name": "stderr",
     "output_type": "stream",
     "text": [
      "100%|██████████| 25000/25000 [15:08<00:00, 27.50it/s]\n"
     ]
    }
   ],
   "source": [
    "X_train_features = LoRegression(x_train, y_train)"
   ]
  },
  {
   "cell_type": "code",
   "execution_count": 5,
   "id": "35a65246",
   "metadata": {},
   "outputs": [],
   "source": [
    "clf = LogisticRegression(random_state=0).fit(X_train_features, y_train)"
   ]
  },
  {
   "cell_type": "code",
   "execution_count": 6,
   "id": "c48cdb0f",
   "metadata": {},
   "outputs": [
    {
     "name": "stderr",
     "output_type": "stream",
     "text": [
      "100%|██████████| 25000/25000 [15:08<00:00, 27.51it/s]\n"
     ]
    }
   ],
   "source": [
    "#create X_test using loRegression to have a usable informations\n",
    "X_test_features = LoRegression(x_test, y_test)"
   ]
  },
  {
   "cell_type": "code",
   "execution_count": 7,
   "id": "fc22a769",
   "metadata": {},
   "outputs": [
    {
     "name": "stdout",
     "output_type": "stream",
     "text": [
      "(25000, 8) (25000,)\n"
     ]
    }
   ],
   "source": [
    "y_pred = clf.predict(X_test_features)\n",
    "print(X_test_features.shape, y_pred.shape)"
   ]
  },
  {
   "cell_type": "code",
   "execution_count": 8,
   "id": "1235a541",
   "metadata": {},
   "outputs": [
    {
     "data": {
      "text/plain": [
       "0.71532"
      ]
     },
     "execution_count": 8,
     "metadata": {},
     "output_type": "execute_result"
    }
   ],
   "source": [
    "clf.score(X_test_features, y_test)"
   ]
  },
  {
   "cell_type": "code",
   "execution_count": 9,
   "id": "3c4cbdaa",
   "metadata": {},
   "outputs": [
    {
     "name": "stdout",
     "output_type": "stream",
     "text": [
      "                 precision    recall  f1-score   support\n",
      "\n",
      "negative review       0.71      0.73      0.72     12500\n",
      "positive review       0.72      0.70      0.71     12500\n",
      "\n",
      "       accuracy                           0.72     25000\n",
      "      macro avg       0.72      0.72      0.72     25000\n",
      "   weighted avg       0.72      0.72      0.72     25000\n",
      "\n"
     ]
    }
   ],
   "source": [
    "from sklearn.metrics import classification_report\n",
    "\n",
    "target_names = ['negative review', 'positive review']\n",
    "print(classification_report(y_test, y_pred, target_names=target_names))"
   ]
  },
  {
   "cell_type": "code",
   "execution_count": 16,
   "id": "eb204aab",
   "metadata": {},
   "outputs": [
    {
     "name": "stdout",
     "output_type": "stream",
     "text": [
      "i must say I am an avid horror movie fan, and currently i cannot get enough of foreign horror. since us horror really depends too much on gore.this movie is fantastic. this movie reminded me a lot of m. night's sixth sense. the way the film was directed was great. the director took his time to set everything up. it took about a good 40 mins just to set the movie up into a horror movie. i thought the movie was just a drama. this movie just builds up and the pay off is not too much.I have never done this before, but this is the main reason i liked the movie.... i actually screamed out loud because one scene just startled the hell out of me... which is kind of pathetic.... but for a film to do that, it is great. \n"
     ]
    }
   ],
   "source": [
    "acc = \"\"\n",
    "for word in x_test[101]:\n",
    "    acc = acc + word + \" \"\n",
    "print(acc)"
   ]
  },
  {
   "cell_type": "code",
   "execution_count": 17,
   "id": "2b827150",
   "metadata": {},
   "outputs": [
    {
     "name": "stdout",
     "output_type": "stream",
     "text": [
      "Review was labelled as:  0 instead of:  1\n"
     ]
    }
   ],
   "source": [
    "print(\"Review was labelled as: \",y_pred[101],\"instead of: \",y_test[101])"
   ]
  },
  {
   "cell_type": "code",
   "execution_count": 18,
   "id": "28a385eb",
   "metadata": {},
   "outputs": [
    {
     "data": {
      "text/plain": [
       "array([ 0.        ,  0.        ,  6.        ,  4.95582706,  5.        ,\n",
       "       -8.7       ,  4.        ,  7.3       ])"
      ]
     },
     "execution_count": 18,
     "metadata": {},
     "output_type": "execute_result"
    }
   ],
   "source": [
    "X_test_features[101]"
   ]
  }
 ],
 "metadata": {
  "kernelspec": {
   "display_name": "Python 3",
   "language": "python",
   "name": "python3"
  },
  "language_info": {
   "codemirror_mode": {
    "name": "ipython",
    "version": 3
   },
   "file_extension": ".py",
   "mimetype": "text/x-python",
   "name": "python",
   "nbconvert_exporter": "python",
   "pygments_lexer": "ipython3",
   "version": "3.8.10"
  }
 },
 "nbformat": 4,
 "nbformat_minor": 5
}
