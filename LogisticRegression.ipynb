{
 "cells": [
  {
   "cell_type": "markdown",
   "id": "97532498-ca3b-4acb-abc4-3e3df3bccd26",
   "metadata": {},
   "source": [
    "Logistic Regression"
   ]
  },
  {
   "cell_type": "code",
   "execution_count": 1,
   "id": "3f87543d-7238-4882-9b80-2cf69bf48897",
   "metadata": {},
   "outputs": [],
   "source": [
    "from logistic_regression import *"
   ]
  },
  {
   "cell_type": "markdown",
   "id": "011eb56c-8ab5-4d89-bf12-888b07b2f6d6",
   "metadata": {},
   "source": [
    "### Importing HuggingFace"
   ]
  },
  {
   "cell_type": "code",
   "execution_count": 2,
   "id": "84f03088",
   "metadata": {},
   "outputs": [
    {
     "name": "stderr",
     "output_type": "stream",
     "text": [
      "Reusing dataset imdb (/home/surenis/.cache/huggingface/datasets/imdb/plain_text/1.0.0/e3c66f1788a67a89c7058d97ff62b6c30531e05b549de56d3ab91891f0561f9a)\n",
      "Reusing dataset imdb (/home/surenis/.cache/huggingface/datasets/imdb/plain_text/1.0.0/e3c66f1788a67a89c7058d97ff62b6c30531e05b549de56d3ab91891f0561f9a)\n"
     ]
    }
   ],
   "source": [
    "train_dataset = load_dataset('imdb', split='train')\n",
    "test_dataset = load_dataset('imdb', split='test')"
   ]
  },
  {
   "cell_type": "code",
   "execution_count": 3,
   "id": "94860bb6",
   "metadata": {},
   "outputs": [],
   "source": [
    "x_train, y_train = generate_x_and_y(train_dataset)\n",
    "x_test, y_test = generate_x_and_y(test_dataset)"
   ]
  },
  {
   "cell_type": "markdown",
   "id": "3b31a9af",
   "metadata": {},
   "source": [
    "### Logistic Regression"
   ]
  },
  {
   "cell_type": "code",
   "execution_count": null,
   "id": "5351241d",
   "metadata": {},
   "outputs": [],
   "source": [
    "from vaderSentiment.vaderSentiment import SentimentIntensityAnalyzer\n",
    "from sklearn.linear_model import LogisticRegression\n",
    "import pandas as pd"
   ]
  },
  {
   "cell_type": "code",
   "execution_count": null,
   "id": "275de466",
   "metadata": {},
   "outputs": [],
   "source": [
    "type(x_train[0])"
   ]
  },
  {
   "cell_type": "code",
   "execution_count": null,
   "id": "2eb30bd6",
   "metadata": {},
   "outputs": [],
   "source": [
    "def import_lexicon(path: str) -> pd.core.frame.DataFrame: \n",
    "    data = pd.read_csv(path, sep='\\t', names=[0, 1, 2, 3])\n",
    "    df = pd.DataFrame()\n",
    "    df['token'] = data[0]\n",
    "    df['sentiment'] = data[1]\n",
    "    return df"
   ]
  },
  {
   "cell_type": "code",
   "execution_count": null,
   "id": "853b85b9",
   "metadata": {},
   "outputs": [],
   "source": [
    "def does_no_appear(review: np.str_) -> int:\n",
    "    if \"no\" in review:\n",
    "        return 1\n",
    "    return 0"
   ]
  },
  {
   "cell_type": "code",
   "execution_count": null,
   "id": "755e64de",
   "metadata": {},
   "outputs": [],
   "source": [
    "def count_first_and_second_pro(review: np.str_) -> int:\n",
    "    count = 0\n",
    "    for word in review:\n",
    "        if word in [\"I\", \"i\", \"you\", \"yours\"]:\n",
    "            count += 1\n",
    "    return count"
   ]
  },
  {
   "cell_type": "markdown",
   "id": "1f10640c",
   "metadata": {},
   "source": [
    "Let's search for all the words finishing with !\n",
    "\n",
    "As it would make no sense that the ! character appears before the end of the word"
   ]
  },
  {
   "cell_type": "code",
   "execution_count": null,
   "id": "d8e86cba",
   "metadata": {},
   "outputs": [],
   "source": [
    "def does_exclamation_appear(review: np.str_) -> int:\n",
    "    if \"!\" in review:\n",
    "        return 1\n",
    "    return 0"
   ]
  },
  {
   "cell_type": "markdown",
   "id": "8ce6d0be",
   "metadata": {},
   "source": [
    "it appears no words ends with ! in the training set\n",
    "\n",
    "Thus, there is no need to check for ! in the documents"
   ]
  },
  {
   "cell_type": "code",
   "execution_count": null,
   "id": "2d10a189",
   "metadata": {},
   "outputs": [],
   "source": [
    "def log_word_count_in_doc(review: np.str_) -> int:\n",
    "    return np.log(len(review))"
   ]
  },
  {
   "cell_type": "code",
   "execution_count": null,
   "id": "f6ffbe34",
   "metadata": {},
   "outputs": [],
   "source": [
    "def split_lexicon(lexicon: pd.core.frame.DataFrame) -> tuple:\n",
    "    return lexicon[lexicon.sentiment > 0], lexicon[lexicon.sentiment < 0]"
   ]
  },
  {
   "cell_type": "code",
   "execution_count": null,
   "id": "6058e5a4",
   "metadata": {},
   "outputs": [],
   "source": [
    "def positivity_counter(review: np.str_ , positive_df: pd.core.frame.DataFrame) -> tuple:\n",
    "    posi = np.isin(positive_df.token, review)\n",
    "    #return the # of positive words and their sum\n",
    "    return sum(posi), sum(positive_df.sentiment[posi])\n",
    "\n",
    "def negativity_counter(review : np.str_, negative_df: pd.core.frame.DataFrame) -> tuple:\n",
    "    nega = np.isin(negative_df.token, review)\n",
    "    #return the # of negative words and their sum\n",
    "    return sum(nega), sum(negative_df.sentiment[nega])"
   ]
  },
  {
   "cell_type": "code",
   "execution_count": null,
   "id": "cc5a4803",
   "metadata": {},
   "outputs": [],
   "source": [
    "print(x_train_preprocessed[0])"
   ]
  },
  {
   "cell_type": "code",
   "execution_count": null,
   "id": "58f8e5f8",
   "metadata": {},
   "outputs": [],
   "source": [
    "def LoRegression(x_train: list, y_train: list):\n",
    "    lexicon = import_lexicon(\"vader_lexicon.txt\")\n",
    "    positive_df, negative_df = split_lexicon(lexicon)\n",
    "    X_features = []\n",
    "    for review in tqdm(x_train):\n",
    "        feature = np.zeros(8)\n",
    "        feature[0] = does_no_appear(review)\n",
    "        feature[1] = does_exclamation_appear(review)\n",
    "        feature[2] = count_first_and_second_pro(review)\n",
    "        feature[3] = log_word_count_in_doc(review)\n",
    "        feature[4], feature[5] = negativity_counter(review, negative_df)\n",
    "        feature[6], feature[7] = positivity_counter(review, positive_df)\n",
    "        X_features.append(feature)\n",
    "    return np.asarray(X_features)"
   ]
  },
  {
   "cell_type": "code",
   "execution_count": null,
   "id": "848e5082",
   "metadata": {},
   "outputs": [],
   "source": [
    "X_train_features = LoRegression(x_train_preprocessed, y_train)"
   ]
  },
  {
   "cell_type": "code",
   "execution_count": null,
   "id": "484e87c5",
   "metadata": {},
   "outputs": [],
   "source": [
    "X_train_features.shape\n",
    "type(X_train_features)"
   ]
  },
  {
   "cell_type": "code",
   "execution_count": null,
   "id": "35a65246",
   "metadata": {},
   "outputs": [],
   "source": [
    "clf = LogisticRegression(random_state=0).fit(X_train_features, y_train)"
   ]
  },
  {
   "cell_type": "code",
   "execution_count": null,
   "id": "c48cdb0f",
   "metadata": {},
   "outputs": [],
   "source": [
    "#create X_test using loRegression to have a usable informations\n",
    "X_test_features = LoRegression(x_test_preprocessed, y_test)"
   ]
  },
  {
   "cell_type": "code",
   "execution_count": null,
   "id": "fc22a769",
   "metadata": {},
   "outputs": [],
   "source": [
    "y_pred = clf.predict(X_test_features)\n",
    "print(X_test_features.shape, y_pred.shape)"
   ]
  },
  {
   "cell_type": "code",
   "execution_count": null,
   "id": "1235a541",
   "metadata": {},
   "outputs": [],
   "source": [
    "clf.score(X_test_features, y_test)"
   ]
  },
  {
   "cell_type": "code",
   "execution_count": null,
   "id": "3c4cbdaa",
   "metadata": {},
   "outputs": [],
   "source": [
    "from sklearn.metrics import classification_report\n",
    "\n",
    "target_names = ['negative review', 'positive review']\n",
    "print(classification_report(y_test, y_pred, target_names=target_names))"
   ]
  },
  {
   "cell_type": "code",
   "execution_count": null,
   "id": "b534c559",
   "metadata": {},
   "outputs": [],
   "source": []
  }
 ],
 "metadata": {
  "kernelspec": {
   "display_name": "Python 3",
   "language": "python",
   "name": "python3"
  },
  "language_info": {
   "codemirror_mode": {
    "name": "ipython",
    "version": 3
   },
   "file_extension": ".py",
   "mimetype": "text/x-python",
   "name": "python",
   "nbconvert_exporter": "python",
   "pygments_lexer": "ipython3",
   "version": "3.8.10"
  }
 },
 "nbformat": 4,
 "nbformat_minor": 5
}
